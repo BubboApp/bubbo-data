{
 "cells": [
  {
   "cell_type": "code",
   "execution_count": 1,
   "metadata": {},
   "outputs": [],
   "source": [
    "import firebase_admin\n",
    "import json\n",
    "import os\n",
    "import time\n",
    "from dotenv import load_dotenv\n",
    "from firebase_admin import credentials\n",
    "from firebase_admin import firestore\n",
    "from google.cloud import storage"
   ]
  },
  {
   "cell_type": "code",
   "execution_count": 2,
   "metadata": {},
   "outputs": [],
   "source": [
    "# uploading the environment variables and get the API key\n",
    "load_dotenv()\n",
    "HUGGINGFACE_API_KEY = os.getenv(\"HUGGINGFACE_API_KEY\")  # Borrar esto cuando se completen los embeddings desde VERTEX\n",
    "AWS_ACCESS_KEY = os.getenv(\"AWS_ACCESS_KEY\")\n",
    "AWS_SECRET_KEY = os.getenv(\"AWS_SECRET_KEY\")\n",
    "\n",
    "# Asegurar que Vertex AI use las credenciales correctas\n",
    "os.environ[\"GOOGLE_APPLICATION_CREDENTIALS\"] = \"../../../bubbo-dfba0-47e395cdcdc7.json\""
   ]
  },
  {
   "cell_type": "code",
   "execution_count": 3,
   "metadata": {},
   "outputs": [],
   "source": [
    "# Ruta a las credenciales de Firebase para la app principal\n",
    "cred_default_path = \"../../../bubbo-dfba0-47e395cdcdc7.json\"\n",
    "\n",
    "# Inicializar Firebase\n",
    "if not firebase_admin._apps:\n",
    "    # Inicializar la app por defecto\n",
    "    cred_default = credentials.Certificate(cred_default_path)\n",
    "    default_app = firebase_admin.initialize_app(cred_default, name=\"default\")\n",
    "\n",
    "# Conectar Firestore con la app inicializada\n",
    "db = firestore.client(app=default_app)  "
   ]
  },
  {
   "cell_type": "code",
   "execution_count": 5,
   "metadata": {},
   "outputs": [
    {
     "name": "stdout",
     "output_type": "stream",
     "text": [
      "🔍 Buscando embeddings en 'gs://embeddings_bucket_backup_europe/2025-03-07T08:59:10_70998/all_namespaces/kind_embeddings/'...\n",
      "✅ 1025 archivos encontrados. Descargando los primeros 5...\n"
     ]
    },
    {
     "ename": "UnicodeDecodeError",
     "evalue": "'utf-8' codec can't decode byte 0x95 in position 30: invalid start byte",
     "output_type": "error",
     "traceback": [
      "\u001b[1;31m---------------------------------------------------------------------------\u001b[0m",
      "\u001b[1;31mUnicodeDecodeError\u001b[0m                        Traceback (most recent call last)",
      "Cell \u001b[1;32mIn[5], line 60\u001b[0m\n\u001b[0;32m     57\u001b[0m     \u001b[38;5;28;01mreturn\u001b[39;00m retrieved_embeddings\n\u001b[0;32m     59\u001b[0m \u001b[38;5;66;03m# Llamada para recuperar embeddings\u001b[39;00m\n\u001b[1;32m---> 60\u001b[0m retrieved \u001b[38;5;241m=\u001b[39m \u001b[43mretrieve_some_embeddings\u001b[49m\u001b[43m(\u001b[49m\u001b[38;5;241;43m5\u001b[39;49m\u001b[43m)\u001b[49m\n",
      "Cell \u001b[1;32mIn[5], line 51\u001b[0m, in \u001b[0;36mretrieve_some_embeddings\u001b[1;34m(num_files)\u001b[0m\n\u001b[0;32m     49\u001b[0m retrieved_embeddings \u001b[38;5;241m=\u001b[39m []\n\u001b[0;32m     50\u001b[0m \u001b[38;5;28;01mfor\u001b[39;00m file_name \u001b[38;5;129;01min\u001b[39;00m files[:num_files]:  \u001b[38;5;66;03m# Descarga solo algunos archivos\u001b[39;00m\n\u001b[1;32m---> 51\u001b[0m     data \u001b[38;5;241m=\u001b[39m \u001b[43mdownload_embedding\u001b[49m\u001b[43m(\u001b[49m\u001b[43mfile_name\u001b[49m\u001b[43m)\u001b[49m\n\u001b[0;32m     52\u001b[0m     \u001b[38;5;28;01mif\u001b[39;00m data:\n\u001b[0;32m     53\u001b[0m         retrieved_embeddings\u001b[38;5;241m.\u001b[39mappend(data)\n",
      "Cell \u001b[1;32mIn[5], line 32\u001b[0m, in \u001b[0;36mdownload_embedding\u001b[1;34m(file_name)\u001b[0m\n\u001b[0;32m     30\u001b[0m \u001b[38;5;28;01mtry\u001b[39;00m:\n\u001b[0;32m     31\u001b[0m     blob \u001b[38;5;241m=\u001b[39m bucket\u001b[38;5;241m.\u001b[39mblob(file_name)\n\u001b[1;32m---> 32\u001b[0m     content \u001b[38;5;241m=\u001b[39m \u001b[43mblob\u001b[49m\u001b[38;5;241;43m.\u001b[39;49m\u001b[43mdownload_as_text\u001b[49m\u001b[43m(\u001b[49m\u001b[43m)\u001b[49m\n\u001b[0;32m     33\u001b[0m     \u001b[38;5;28;01mreturn\u001b[39;00m content  \u001b[38;5;66;03m# Los archivos parecen ser binarios, revisa si hay que decodificarlos\u001b[39;00m\n\u001b[0;32m     34\u001b[0m \u001b[38;5;28;01mexcept\u001b[39;00m NotFound:\n",
      "File \u001b[1;32mc:\\Users\\Agustín\\AppData\\Local\\Programs\\Python\\Python312\\Lib\\contextlib.py:81\u001b[0m, in \u001b[0;36mContextDecorator.__call__.<locals>.inner\u001b[1;34m(*args, **kwds)\u001b[0m\n\u001b[0;32m     78\u001b[0m \u001b[38;5;129m@wraps\u001b[39m(func)\n\u001b[0;32m     79\u001b[0m \u001b[38;5;28;01mdef\u001b[39;00m \u001b[38;5;21minner\u001b[39m(\u001b[38;5;241m*\u001b[39margs, \u001b[38;5;241m*\u001b[39m\u001b[38;5;241m*\u001b[39mkwds):\n\u001b[0;32m     80\u001b[0m     \u001b[38;5;28;01mwith\u001b[39;00m \u001b[38;5;28mself\u001b[39m\u001b[38;5;241m.\u001b[39m_recreate_cm():\n\u001b[1;32m---> 81\u001b[0m         \u001b[38;5;28;01mreturn\u001b[39;00m \u001b[43mfunc\u001b[49m\u001b[43m(\u001b[49m\u001b[38;5;241;43m*\u001b[39;49m\u001b[43margs\u001b[49m\u001b[43m,\u001b[49m\u001b[43m \u001b[49m\u001b[38;5;241;43m*\u001b[39;49m\u001b[38;5;241;43m*\u001b[39;49m\u001b[43mkwds\u001b[49m\u001b[43m)\u001b[49m\n",
      "File \u001b[1;32mc:\\Users\\Agustín\\AppData\\Local\\Programs\\Python\\Python312\\Lib\\site-packages\\google\\cloud\\storage\\blob.py:1724\u001b[0m, in \u001b[0;36mBlob.download_as_text\u001b[1;34m(self, client, start, end, raw_download, encoding, if_etag_match, if_etag_not_match, if_generation_match, if_generation_not_match, if_metageneration_match, if_metageneration_not_match, timeout, retry)\u001b[0m\n\u001b[0;32m   1721\u001b[0m     \u001b[38;5;28;01mif\u001b[39;00m \u001b[38;5;124m\"\u001b[39m\u001b[38;5;124mcharset\u001b[39m\u001b[38;5;124m\"\u001b[39m \u001b[38;5;129;01min\u001b[39;00m params:\n\u001b[0;32m   1722\u001b[0m         \u001b[38;5;28;01mreturn\u001b[39;00m data\u001b[38;5;241m.\u001b[39mdecode(params[\u001b[38;5;124m\"\u001b[39m\u001b[38;5;124mcharset\u001b[39m\u001b[38;5;124m\"\u001b[39m])\n\u001b[1;32m-> 1724\u001b[0m \u001b[38;5;28;01mreturn\u001b[39;00m \u001b[43mdata\u001b[49m\u001b[38;5;241;43m.\u001b[39;49m\u001b[43mdecode\u001b[49m\u001b[43m(\u001b[49m\u001b[38;5;124;43m\"\u001b[39;49m\u001b[38;5;124;43mutf-8\u001b[39;49m\u001b[38;5;124;43m\"\u001b[39;49m\u001b[43m)\u001b[49m\n",
      "\u001b[1;31mUnicodeDecodeError\u001b[0m: 'utf-8' codec can't decode byte 0x95 in position 30: invalid start byte"
     ]
    }
   ],
   "source": [
    "import json\n",
    "from google.cloud import storage\n",
    "from google.api_core.exceptions import NotFound, Forbidden\n",
    "\n",
    "# Configuración del bucket y ruta de embeddings\n",
    "BUCKET_NAME = \"embeddings_bucket_backup_europe\"  \n",
    "EMBEDDINGS_FOLDER = \"2025-03-07T08:59:10_70998/all_namespaces/kind_embeddings/\"  \n",
    "\n",
    "# Inicializa el cliente de Google Cloud Storage\n",
    "storage_client = storage.Client()\n",
    "bucket = storage_client.bucket(BUCKET_NAME)\n",
    "\n",
    "def list_embedding_files():\n",
    "    \"\"\"Lista los archivos disponibles en la carpeta de embeddings del bucket\"\"\"\n",
    "    try:\n",
    "        blobs = list(bucket.list_blobs(prefix=EMBEDDINGS_FOLDER))\n",
    "        if not blobs:\n",
    "            print(f\"⚠️ No se encontraron archivos en gs://{BUCKET_NAME}/{EMBEDDINGS_FOLDER}\")\n",
    "            return []\n",
    "        return [blob.name for blob in blobs]  # Lista todos los archivos en la carpeta\n",
    "    except NotFound:\n",
    "        print(f\"❌ ERROR: El bucket '{BUCKET_NAME}' no existe.\")\n",
    "        return []\n",
    "    except Forbidden:\n",
    "        print(f\"🚫 ERROR: No tienes permisos para acceder al bucket '{BUCKET_NAME}'.\")\n",
    "        return []\n",
    "\n",
    "def download_embedding(file_name):\n",
    "    \"\"\"Descarga un archivo desde GCS y devuelve su contenido como texto\"\"\"\n",
    "    try:\n",
    "        blob = bucket.blob(file_name)\n",
    "        content = blob.download_as_text()\n",
    "        return content  # Los archivos parecen ser binarios, revisa si hay que decodificarlos\n",
    "    except NotFound:\n",
    "        print(f\"❌ ERROR: El archivo {file_name} no existe en el bucket.\")\n",
    "        return None\n",
    "\n",
    "def retrieve_some_embeddings(num_files=5):\n",
    "    \"\"\"Recupera y muestra algunos embeddings almacenados en GCS\"\"\"\n",
    "    print(f\"🔍 Buscando embeddings en 'gs://{BUCKET_NAME}/{EMBEDDINGS_FOLDER}'...\")\n",
    "\n",
    "    files = list_embedding_files()\n",
    "    if not files:\n",
    "        print(\"⚠️ No se encontraron archivos de embeddings.\")\n",
    "        return\n",
    "\n",
    "    print(f\"✅ {len(files)} archivos encontrados. Descargando los primeros {num_files}...\")\n",
    "\n",
    "    retrieved_embeddings = []\n",
    "    for file_name in files[:num_files]:  # Descarga solo algunos archivos\n",
    "        data = download_embedding(file_name)\n",
    "        if data:\n",
    "            retrieved_embeddings.append(data)\n",
    "            print(f\"📥 Descargado: {file_name} -> {len(data)} bytes\")\n",
    "\n",
    "    print(\"\\n✅ Embeddings recuperados con éxito.\")\n",
    "    return retrieved_embeddings\n",
    "\n",
    "# Llamada para recuperar embeddings\n",
    "retrieved = retrieve_some_embeddings(5)\n"
   ]
  }
 ],
 "metadata": {
  "kernelspec": {
   "display_name": "Python 3",
   "language": "python",
   "name": "python3"
  },
  "language_info": {
   "codemirror_mode": {
    "name": "ipython",
    "version": 3
   },
   "file_extension": ".py",
   "mimetype": "text/x-python",
   "name": "python",
   "nbconvert_exporter": "python",
   "pygments_lexer": "ipython3",
   "version": "3.12.5"
  }
 },
 "nbformat": 4,
 "nbformat_minor": 2
}
