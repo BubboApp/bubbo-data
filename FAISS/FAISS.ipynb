{
 "cells": [
  {
   "cell_type": "code",
   "execution_count": 2,
   "metadata": {},
   "outputs": [
    {
     "name": "stderr",
     "output_type": "stream",
     "text": [
      "c:\\Users\\Carlo\\AppData\\Local\\Programs\\Python\\Python310\\lib\\site-packages\\tqdm\\auto.py:21: TqdmWarning: IProgress not found. Please update jupyter and ipywidgets. See https://ipywidgets.readthedocs.io/en/stable/user_install.html\n",
      "  from .autonotebook import tqdm as notebook_tqdm\n"
     ]
    }
   ],
   "source": [
    "import numpy as np\n",
    "import faiss\n",
    "import pandas as pd\n",
    "import ast\n",
    "import time\n",
    "import optuna"
   ]
  },
  {
   "cell_type": "code",
   "execution_count": 4,
   "metadata": {},
   "outputs": [],
   "source": [
    "embeddings = pd.read_csv(r'C:\\Users\\Carlo\\Desktop\\Proyectos\\data\\bubbo-data\\FAISS\\all_content_embeddings.csv')"
   ]
  },
  {
   "cell_type": "code",
   "execution_count": 5,
   "metadata": {},
   "outputs": [
    {
     "data": {
      "text/html": [
       "<div>\n",
       "<style scoped>\n",
       "    .dataframe tbody tr th:only-of-type {\n",
       "        vertical-align: middle;\n",
       "    }\n",
       "\n",
       "    .dataframe tbody tr th {\n",
       "        vertical-align: top;\n",
       "    }\n",
       "\n",
       "    .dataframe thead th {\n",
       "        text-align: right;\n",
       "    }\n",
       "</style>\n",
       "<table border=\"1\" class=\"dataframe\">\n",
       "  <thead>\n",
       "    <tr style=\"text-align: right;\">\n",
       "      <th></th>\n",
       "      <th>ID</th>\n",
       "      <th>Embedding</th>\n",
       "    </tr>\n",
       "  </thead>\n",
       "  <tbody>\n",
       "    <tr>\n",
       "      <th>0</th>\n",
       "      <td>100</td>\n",
       "      <td>[-0.08247800171375275, 0.0059804837219417095, ...</td>\n",
       "    </tr>\n",
       "    <tr>\n",
       "      <th>1</th>\n",
       "      <td>10000017</td>\n",
       "      <td>[-0.02536494843661785, -0.07838041335344315, 0...</td>\n",
       "    </tr>\n",
       "    <tr>\n",
       "      <th>2</th>\n",
       "      <td>10000042</td>\n",
       "      <td>[0.08953297138214111, 0.08901918679475784, -0....</td>\n",
       "    </tr>\n",
       "    <tr>\n",
       "      <th>3</th>\n",
       "      <td>10000064</td>\n",
       "      <td>[0.00326346792280674, 0.08406837284564972, -0....</td>\n",
       "    </tr>\n",
       "    <tr>\n",
       "      <th>4</th>\n",
       "      <td>100001</td>\n",
       "      <td>[-0.03719714283943176, -0.03154193237423897, -...</td>\n",
       "    </tr>\n",
       "    <tr>\n",
       "      <th>...</th>\n",
       "      <td>...</td>\n",
       "      <td>...</td>\n",
       "    </tr>\n",
       "    <tr>\n",
       "      <th>141052</th>\n",
       "      <td>tt9795174</td>\n",
       "      <td>[-0.06088811904191971, -0.043131303042173386, ...</td>\n",
       "    </tr>\n",
       "    <tr>\n",
       "      <th>141053</th>\n",
       "      <td>tt9802804</td>\n",
       "      <td>[-0.024917157366871834, 0.03381925821304321, -...</td>\n",
       "    </tr>\n",
       "    <tr>\n",
       "      <th>141054</th>\n",
       "      <td>tt9814836</td>\n",
       "      <td>[-0.03835444897413254, -0.0341656431555748, -0...</td>\n",
       "    </tr>\n",
       "    <tr>\n",
       "      <th>141055</th>\n",
       "      <td>tt9820556</td>\n",
       "      <td>[-0.07445351779460907, -0.02916163019835949, -...</td>\n",
       "    </tr>\n",
       "    <tr>\n",
       "      <th>141056</th>\n",
       "      <td>tt9849186</td>\n",
       "      <td>[-0.023027174174785614, -0.0614922009408474, -...</td>\n",
       "    </tr>\n",
       "  </tbody>\n",
       "</table>\n",
       "<p>141057 rows × 2 columns</p>\n",
       "</div>"
      ],
      "text/plain": [
       "               ID                                          Embedding\n",
       "0             100  [-0.08247800171375275, 0.0059804837219417095, ...\n",
       "1        10000017  [-0.02536494843661785, -0.07838041335344315, 0...\n",
       "2        10000042  [0.08953297138214111, 0.08901918679475784, -0....\n",
       "3        10000064  [0.00326346792280674, 0.08406837284564972, -0....\n",
       "4          100001  [-0.03719714283943176, -0.03154193237423897, -...\n",
       "...           ...                                                ...\n",
       "141052  tt9795174  [-0.06088811904191971, -0.043131303042173386, ...\n",
       "141053  tt9802804  [-0.024917157366871834, 0.03381925821304321, -...\n",
       "141054  tt9814836  [-0.03835444897413254, -0.0341656431555748, -0...\n",
       "141055  tt9820556  [-0.07445351779460907, -0.02916163019835949, -...\n",
       "141056  tt9849186  [-0.023027174174785614, -0.0614922009408474, -...\n",
       "\n",
       "[141057 rows x 2 columns]"
      ]
     },
     "execution_count": 5,
     "metadata": {},
     "output_type": "execute_result"
    }
   ],
   "source": [
    "embeddings"
   ]
  },
  {
   "cell_type": "code",
   "execution_count": 6,
   "metadata": {},
   "outputs": [
    {
     "data": {
      "text/plain": [
       "(141057, 2)"
      ]
     },
     "execution_count": 6,
     "metadata": {},
     "output_type": "execute_result"
    }
   ],
   "source": [
    "embeddings.shape"
   ]
  },
  {
   "cell_type": "code",
   "execution_count": 7,
   "metadata": {},
   "outputs": [],
   "source": [
    "embeddings = np.array([ast.literal_eval(e) for e in embeddings['Embedding']])"
   ]
  },
  {
   "cell_type": "code",
   "execution_count": 8,
   "metadata": {},
   "outputs": [
    {
     "data": {
      "text/plain": [
       "(141057, 384)"
      ]
     },
     "execution_count": 8,
     "metadata": {},
     "output_type": "execute_result"
    }
   ],
   "source": [
    "embeddings.shape"
   ]
  },
  {
   "cell_type": "code",
   "execution_count": 10,
   "metadata": {},
   "outputs": [
    {
     "name": "stdout",
     "output_type": "stream",
     "text": [
      "Probando índice: FlatL2\n",
      "Probando índice: IVFPQ\n",
      "Probando índice: HNSW\n",
      "Índice: FlatL2\n",
      "  Tiempo de búsqueda: 0.2581 segundos\n",
      "Índice: IVFPQ\n",
      "  Tiempo de búsqueda: 0.0130 segundos\n",
      "Índice: HNSW\n",
      "  Tiempo de búsqueda: 0.0310 segundos\n",
      "\n",
      "El mejor índice es: IVFPQ\n"
     ]
    }
   ],
   "source": [
    "# Dimensiones de los embeddings (ya lo tienes: 384)\n",
    "d = 384\n",
    "\n",
    "# Número de embeddings (ya lo tienes: 103000)\n",
    "n = 102832\n",
    "\n",
    "# Lista de índices a probar\n",
    "index_types = [\n",
    "    \"FlatL2\",\n",
    "    \"IVFPQ\",\n",
    "    \"HNSW\"\n",
    "]\n",
    "\n",
    "# Parámetros para IVFPQ\n",
    "nlist = 100\n",
    "m = 16\n",
    "\n",
    "# Parámetros para HNSW\n",
    "M = 32\n",
    "efConstruction = 200\n",
    "\n",
    "# Número de consultas de búsqueda\n",
    "nq = 1000\n",
    "\n",
    "# Generar consultas aleatorias\n",
    "query_embeddings = np.random.rand(nq, d).astype('float32')\n",
    "\n",
    "# Resultados\n",
    "results = {}\n",
    "\n",
    "# Iterar sobre los tipos de índices\n",
    "for index_type in index_types:\n",
    "    print(f\"Probando índice: {index_type}\")\n",
    "    \n",
    "    # Crear índice\n",
    "    if index_type == \"FlatL2\":\n",
    "        index = faiss.IndexFlatL2(d)\n",
    "    elif index_type == \"IVFPQ\":\n",
    "        quantizer = faiss.IndexFlatL2(d)\n",
    "        index = faiss.IndexIVFPQ(quantizer, d, nlist, m, 8)\n",
    "        index.train(embeddings)\n",
    "    elif index_type == \"HNSW\":\n",
    "        index = faiss.IndexHNSWFlat(d, M)\n",
    "        index.hnsw.efConstruction = efConstruction\n",
    "    \n",
    "    # Añadir embeddings al índice\n",
    "    index.add(embeddings)\n",
    "\n",
    "    # Medir tiempo de búsqueda\n",
    "    start_time = time.time()\n",
    "    D, I = index.search(query_embeddings, k=10)  # Buscar los 10 vecinos más cercanos\n",
    "    search_time = time.time() - start_time\n",
    "\n",
    "    # Guardar resultados\n",
    "    results[index_type] = {\n",
    "        \"search_time\": search_time,\n",
    "        # Aquí puedes añadir métricas de precisión si tienes datos de ground truth\n",
    "    }\n",
    "\n",
    "# Imprimir resultados\n",
    "for index_type, result in results.items():\n",
    "    print(f\"Índice: {index_type}\")\n",
    "    print(f\"  Tiempo de búsqueda: {result['search_time']:.4f} segundos\")\n",
    "    # Imprimir métricas de precisión si están disponibles\n",
    "\n",
    "# Encontrar el mejor índice\n",
    "best_index = min(results, key=lambda x: results[x]['search_time'])\n",
    "print(f\"\\nEl mejor índice es: {best_index}\")"
   ]
  },
  {
   "cell_type": "code",
   "execution_count": null,
   "metadata": {},
   "outputs": [
    {
     "name": "stderr",
     "output_type": "stream",
     "text": [
      "[I 2025-02-12 14:54:21,888] A new study created in memory with name: no-name-1fdfd049-d717-42fa-b31e-b83590a3ff40\n",
      "[I 2025-02-12 14:54:25,559] Trial 0 finished with value: 0.006002664566040039 and parameters: {'nlist': 396, 'm': 8}. Best is trial 0 with value: 0.006002664566040039.\n",
      "[I 2025-02-12 14:54:28,316] Trial 1 finished with value: 0.005513429641723633 and parameters: {'nlist': 113, 'm': 8}. Best is trial 1 with value: 0.005513429641723633.\n",
      "[I 2025-02-12 14:54:31,299] Trial 2 finished with value: 0.01000523567199707 and parameters: {'nlist': 180, 'm': 24}. Best is trial 1 with value: 0.005513429641723633.\n",
      "[I 2025-02-12 14:54:34,374] Trial 3 finished with value: 0.006004810333251953 and parameters: {'nlist': 224, 'm': 8}. Best is trial 1 with value: 0.005513429641723633.\n",
      "[I 2025-02-12 14:54:37,692] Trial 4 finished with value: 0.00500035285949707 and parameters: {'nlist': 135, 'm': 12}. Best is trial 4 with value: 0.00500035285949707.\n",
      "[I 2025-02-12 14:54:42,099] Trial 5 finished with value: 0.01198720932006836 and parameters: {'nlist': 304, 'm': 16}. Best is trial 4 with value: 0.00500035285949707.\n",
      "[I 2025-02-12 14:54:45,286] Trial 6 finished with value: 0.0049211978912353516 and parameters: {'nlist': 457, 'm': 32}. Best is trial 6 with value: 0.0049211978912353516.\n",
      "[I 2025-02-12 14:54:48,008] Trial 7 finished with value: 0.0049591064453125 and parameters: {'nlist': 278, 'm': 32}. Best is trial 6 with value: 0.0049211978912353516.\n",
      "[I 2025-02-12 14:54:50,729] Trial 8 finished with value: 0.012022733688354492 and parameters: {'nlist': 139, 'm': 24}. Best is trial 6 with value: 0.0049211978912353516.\n",
      "[I 2025-02-12 14:54:53,200] Trial 9 finished with value: 0.0050237178802490234 and parameters: {'nlist': 188, 'm': 32}. Best is trial 6 with value: 0.0049211978912353516.\n",
      "[I 2025-02-12 14:54:56,393] Trial 10 finished with value: 0.005206584930419922 and parameters: {'nlist': 480, 'm': 32}. Best is trial 6 with value: 0.0049211978912353516.\n",
      "[I 2025-02-12 14:54:59,299] Trial 11 finished with value: 0.005024433135986328 and parameters: {'nlist': 345, 'm': 32}. Best is trial 6 with value: 0.0049211978912353516.\n",
      "[I 2025-02-12 14:55:02,540] Trial 12 finished with value: 0.004494667053222656 and parameters: {'nlist': 486, 'm': 32}. Best is trial 12 with value: 0.004494667053222656.\n",
      "[I 2025-02-12 14:55:05,711] Trial 13 finished with value: 0.005100727081298828 and parameters: {'nlist': 479, 'm': 32}. Best is trial 12 with value: 0.004494667053222656.\n",
      "[I 2025-02-12 14:55:09,752] Trial 14 finished with value: 0.005011796951293945 and parameters: {'nlist': 420, 'm': 12}. Best is trial 12 with value: 0.004494667053222656.\n",
      "[I 2025-02-12 14:55:14,534] Trial 15 finished with value: 0.01082158088684082 and parameters: {'nlist': 406, 'm': 16}. Best is trial 12 with value: 0.004494667053222656.\n",
      "[I 2025-02-12 14:55:17,654] Trial 16 finished with value: 0.0055501461029052734 and parameters: {'nlist': 448, 'm': 32}. Best is trial 12 with value: 0.004494667053222656.\n",
      "[I 2025-02-12 14:55:20,897] Trial 17 finished with value: 0.005010128021240234 and parameters: {'nlist': 500, 'm': 32}. Best is trial 12 with value: 0.004494667053222656.\n",
      "[I 2025-02-12 14:55:23,811] Trial 18 finished with value: 0.0050051212310791016 and parameters: {'nlist': 336, 'm': 32}. Best is trial 12 with value: 0.004494667053222656.\n",
      "[I 2025-02-12 14:55:27,780] Trial 19 finished with value: 0.005004405975341797 and parameters: {'nlist': 362, 'm': 12}. Best is trial 12 with value: 0.004494667053222656.\n",
      "[I 2025-02-12 14:55:31,198] Trial 20 finished with value: 0.01000070571899414 and parameters: {'nlist': 436, 'm': 24}. Best is trial 12 with value: 0.004494667053222656.\n",
      "[I 2025-02-12 14:55:33,446] Trial 21 finished with value: 0.0070037841796875 and parameters: {'nlist': 63, 'm': 32}. Best is trial 12 with value: 0.004494667053222656.\n",
      "[I 2025-02-12 14:55:36,115] Trial 22 finished with value: 0.00594329833984375 and parameters: {'nlist': 266, 'm': 32}. Best is trial 12 with value: 0.004494667053222656.\n",
      "[I 2025-02-12 14:55:38,810] Trial 23 finished with value: 0.00496983528137207 and parameters: {'nlist': 280, 'm': 32}. Best is trial 12 with value: 0.004494667053222656.\n",
      "[I 2025-02-12 14:55:41,839] Trial 24 finished with value: 0.003985166549682617 and parameters: {'nlist': 375, 'm': 32}. Best is trial 24 with value: 0.003985166549682617.\n",
      "[I 2025-02-12 14:55:46,567] Trial 25 finished with value: 0.01003575325012207 and parameters: {'nlist': 369, 'm': 16}. Best is trial 24 with value: 0.003985166549682617.\n",
      "[I 2025-02-12 14:55:49,835] Trial 26 finished with value: 0.0060079097747802734 and parameters: {'nlist': 450, 'm': 32}. Best is trial 24 with value: 0.003985166549682617.\n",
      "[I 2025-02-12 14:55:52,966] Trial 27 finished with value: 0.003997087478637695 and parameters: {'nlist': 399, 'm': 32}. Best is trial 24 with value: 0.003985166549682617.\n",
      "[I 2025-02-12 14:55:56,137] Trial 28 finished with value: 0.004984140396118164 and parameters: {'nlist': 388, 'm': 32}. Best is trial 24 with value: 0.003985166549682617.\n",
      "[I 2025-02-12 14:55:59,665] Trial 29 finished with value: 0.0060346126556396484 and parameters: {'nlist': 394, 'm': 8}. Best is trial 24 with value: 0.003985166549682617.\n",
      "[I 2025-02-12 14:56:04,114] Trial 30 finished with value: 0.003997087478637695 and parameters: {'nlist': 500, 'm': 12}. Best is trial 24 with value: 0.003985166549682617.\n",
      "[I 2025-02-12 14:56:08,825] Trial 31 finished with value: 0.005401611328125 and parameters: {'nlist': 497, 'm': 12}. Best is trial 24 with value: 0.003985166549682617.\n",
      "[I 2025-02-12 14:56:13,371] Trial 32 finished with value: 0.004980325698852539 and parameters: {'nlist': 426, 'm': 12}. Best is trial 24 with value: 0.003985166549682617.\n",
      "[I 2025-02-12 14:56:17,536] Trial 33 finished with value: 0.0049839019775390625 and parameters: {'nlist': 320, 'm': 12}. Best is trial 24 with value: 0.003985166549682617.\n",
      "[I 2025-02-12 14:56:21,353] Trial 34 finished with value: 0.005547285079956055 and parameters: {'nlist': 464, 'm': 8}. Best is trial 24 with value: 0.003985166549682617.\n",
      "[I 2025-02-12 14:56:24,742] Trial 35 finished with value: 0.012983322143554688 and parameters: {'nlist': 377, 'm': 24}. Best is trial 24 with value: 0.003985166549682617.\n",
      "[I 2025-02-12 14:56:29,200] Trial 36 finished with value: 0.00584721565246582 and parameters: {'nlist': 414, 'm': 12}. Best is trial 24 with value: 0.003985166549682617.\n",
      "[I 2025-02-12 14:56:34,833] Trial 37 finished with value: 0.011016130447387695 and parameters: {'nlist': 474, 'm': 16}. Best is trial 24 with value: 0.003985166549682617.\n",
      "[I 2025-02-12 14:56:38,025] Trial 38 finished with value: 0.005983591079711914 and parameters: {'nlist': 238, 'm': 8}. Best is trial 24 with value: 0.003985166549682617.\n",
      "[I 2025-02-12 14:56:42,679] Trial 39 finished with value: 0.004936695098876953 and parameters: {'nlist': 441, 'm': 12}. Best is trial 24 with value: 0.003985166549682617.\n",
      "[I 2025-02-12 14:56:45,648] Trial 40 finished with value: 0.00500178337097168 and parameters: {'nlist': 300, 'm': 32}. Best is trial 24 with value: 0.003985166549682617.\n",
      "[I 2025-02-12 14:56:49,077] Trial 41 finished with value: 0.008004903793334961 and parameters: {'nlist': 456, 'm': 32}. Best is trial 24 with value: 0.003985166549682617.\n",
      "[I 2025-02-12 14:56:52,546] Trial 42 finished with value: 0.0060939788818359375 and parameters: {'nlist': 499, 'm': 32}. Best is trial 24 with value: 0.003985166549682617.\n",
      "[I 2025-02-12 14:56:55,867] Trial 43 finished with value: 0.005990266799926758 and parameters: {'nlist': 473, 'm': 32}. Best is trial 24 with value: 0.003985166549682617.\n",
      "[I 2025-02-12 14:56:59,361] Trial 44 finished with value: 0.012002229690551758 and parameters: {'nlist': 403, 'm': 24}. Best is trial 24 with value: 0.003985166549682617.\n",
      "[I 2025-02-12 14:57:02,610] Trial 45 finished with value: 0.007014036178588867 and parameters: {'nlist': 429, 'm': 32}. Best is trial 24 with value: 0.003985166549682617.\n",
      "[I 2025-02-12 14:57:06,181] Trial 46 finished with value: 0.0070171356201171875 and parameters: {'nlist': 483, 'm': 32}. Best is trial 24 with value: 0.003985166549682617.\n",
      "[I 2025-02-12 14:57:09,253] Trial 47 finished with value: 0.006023406982421875 and parameters: {'nlist': 350, 'm': 32}. Best is trial 24 with value: 0.003985166549682617.\n",
      "[I 2025-02-12 14:57:14,742] Trial 48 finished with value: 0.012001276016235352 and parameters: {'nlist': 458, 'm': 16}. Best is trial 24 with value: 0.003985166549682617.\n",
      "[I 2025-02-12 14:57:18,000] Trial 49 finished with value: 0.004984617233276367 and parameters: {'nlist': 420, 'm': 32}. Best is trial 24 with value: 0.003985166549682617.\n"
     ]
    },
    {
     "name": "stdout",
     "output_type": "stream",
     "text": [
      "Mejores hiperparámetros: {'nlist': 375, 'm': 32}\n"
     ]
    }
   ],
   "source": [
    "def objective(trial):\n",
    "    nlist = trial.suggest_int('nlist', 50, 500)  # Rango para nlist\n",
    "    m_choices =  [8, 12, 16, 24, 32]# Opciones válidas para m (divisores de 384)\n",
    "    m = trial.suggest_categorical('m', m_choices)\n",
    "\n",
    "    quantizer = faiss.IndexFlatL2(d)\n",
    "    index = faiss.IndexIVFPQ(quantizer, d, nlist, m, 8)\n",
    "    index.train(embeddings)\n",
    "    index.add(embeddings)\n",
    "\n",
    "    start_time = time.time()\n",
    "    _, _ = index.search(query_embeddings, k=10)\n",
    "    search_time = time.time() - start_time\n",
    "\n",
    "    return search_time\n",
    "\n",
    "study = optuna.create_study(direction='minimize')\n",
    "study.optimize(objective, n_trials=50)\n",
    "\n",
    "print(f\"Mejores hiperparámetros: {study.best_params}\")"
   ]
  },
  {
   "cell_type": "code",
   "execution_count": 8,
   "metadata": {},
   "outputs": [
    {
     "name": "stdout",
     "output_type": "stream",
     "text": [
      "Probando índice: FlatL2\n",
      "Probando índice: IVFPQ\n",
      "Probando índice: HNSW\n",
      "Índice: FlatL2\n",
      "  Precisión: 1.0000\n",
      "  Tiempo de búsqueda: 0.2229 segundos\n",
      "\n",
      "Índice: IVFPQ\n",
      "  Precisión: 0.0107\n",
      "  Tiempo de búsqueda: 0.0100 segundos\n",
      "\n",
      "Índice: HNSW\n",
      "  Precisión: 0.1502\n",
      "  Tiempo de búsqueda: 0.0442 segundos\n",
      "\n",
      "\n",
      "🔹 El índice más preciso es: FlatL2\n",
      "   Precisión: 1.0000\n",
      "   Tiempo de búsqueda: 0.2229 segundos\n"
     ]
    }
   ],
   "source": [
    "# Dimensiones de los embeddings\n",
    "d = 384  \n",
    "\n",
    "# Número de embeddings\n",
    "n = 102832  \n",
    "\n",
    "# Generar embeddings aleatorios (simulación)\n",
    "embeddings = np.random.rand(n, d).astype('float32')\n",
    "\n",
    "# Lista de índices a probar\n",
    "index_types = [\"FlatL2\", \"IVFPQ\", \"HNSW\"]\n",
    "\n",
    "# Parámetros para IVFPQ\n",
    "nlist = 100\n",
    "m = 16\n",
    "\n",
    "# Parámetros para HNSW\n",
    "M = 32\n",
    "efConstruction = 200\n",
    "\n",
    "# Número de consultas de búsqueda\n",
    "nq = 1000  \n",
    "\n",
    "# Generar consultas aleatorias\n",
    "query_embeddings = np.random.rand(nq, d).astype('float32')\n",
    "\n",
    "# Resultados\n",
    "results = {}\n",
    "\n",
    "# 🔹 **Paso 1: Obtener Ground Truth con IndexFlatL2**\n",
    "index_gt = faiss.IndexFlatL2(d)  \n",
    "index_gt.add(embeddings)\n",
    "\n",
    "# Buscar los 10 vecinos más cercanos con el índice exacto\n",
    "_, I_gt = index_gt.search(query_embeddings, k=10)  \n",
    "\n",
    "# 🔹 **Paso 2: Evaluar cada índice**\n",
    "for index_type in index_types:\n",
    "    print(f\"Probando índice: {index_type}\")\n",
    "\n",
    "    # Crear índice\n",
    "    if index_type == \"FlatL2\":\n",
    "        index = faiss.IndexFlatL2(d)\n",
    "    elif index_type == \"IVFPQ\":\n",
    "        quantizer = faiss.IndexFlatL2(d)\n",
    "        index = faiss.IndexIVFPQ(quantizer, d, nlist, m, 8)\n",
    "        index.train(embeddings)\n",
    "    elif index_type == \"HNSW\":\n",
    "        index = faiss.IndexHNSWFlat(d, M)\n",
    "        index.hnsw.efConstruction = efConstruction\n",
    "\n",
    "    # Añadir embeddings al índice\n",
    "    index.add(embeddings)\n",
    "\n",
    "    # Medir tiempo de búsqueda\n",
    "    start_time = time.time()\n",
    "    _, I = index.search(query_embeddings, k=10)  \n",
    "    search_time = time.time() - start_time\n",
    "\n",
    "    # 🔹 **Paso 3: Calcular Precisión**\n",
    "    def precision_at_k(I_pred, I_gt, k=10):\n",
    "        correct = 0\n",
    "        for i in range(len(I_pred)):\n",
    "            correct += len(set(I_pred[i]) & set(I_gt[i])) / k\n",
    "        return correct / len(I_pred)\n",
    "\n",
    "    precision = precision_at_k(I, I_gt, k=10)\n",
    "\n",
    "    # Guardar resultados\n",
    "    results[index_type] = {\n",
    "        \"precision\": precision,\n",
    "        \"search_time\": search_time\n",
    "    }\n",
    "\n",
    "# 🔹 **Paso 4: Imprimir resultados**\n",
    "for index_type, result in results.items():\n",
    "    print(f\"Índice: {index_type}\")\n",
    "    print(f\"  Precisión: {result['precision']:.4f}\")\n",
    "    print(f\"  Tiempo de búsqueda: {result['search_time']:.4f} segundos\\n\")\n",
    "\n",
    "# 🔹 **Paso 5: Encontrar el índice más preciso**\n",
    "best_index = max(results, key=lambda x: results[x]['precision'])\n",
    "print(f\"\\n🔹 El índice más preciso es: {best_index}\")\n",
    "print(f\"   Precisión: {results[best_index]['precision']:.4f}\")\n",
    "print(f\"   Tiempo de búsqueda: {results[best_index]['search_time']:.4f} segundos\")\n"
   ]
  },
  {
   "cell_type": "code",
   "execution_count": 10,
   "metadata": {},
   "outputs": [
    {
     "name": "stderr",
     "output_type": "stream",
     "text": [
      "[I 2025-02-12 17:09:44,501] A new study created in memory with name: no-name-3ee1ee82-418c-4ba2-b9fc-528149e4ddfa\n",
      "[I 2025-02-12 17:09:54,056] Trial 0 finished with value: 0.0034000000000000015 and parameters: {'index_type': 'IVFPQ', 'nlist': 812, 'm': 6, 'n_bits': 9}. Best is trial 0 with value: 0.0034000000000000015.\n"
     ]
    },
    {
     "name": "stdout",
     "output_type": "stream",
     "text": [
      "Índice: IVFPQ\n",
      "Precisión: 0.0034\n",
      "Tiempo de búsqueda: 0.0080 segundos\n"
     ]
    },
    {
     "name": "stderr",
     "output_type": "stream",
     "text": [
      "[I 2025-02-12 17:22:19,897] Trial 1 finished with value: 0.019900000000000008 and parameters: {'index_type': 'IVFPQ', 'nlist': 262, 'm': 128, 'n_bits': 16}. Best is trial 1 with value: 0.019900000000000008.\n"
     ]
    },
    {
     "name": "stdout",
     "output_type": "stream",
     "text": [
      "Índice: IVFPQ\n",
      "Precisión: 0.0199\n",
      "Tiempo de búsqueda: 3.2568 segundos\n"
     ]
    },
    {
     "name": "stderr",
     "output_type": "stream",
     "text": [
      "[I 2025-02-12 17:22:52,791] Trial 2 finished with value: 0.005999999999999995 and parameters: {'index_type': 'IVFPQ', 'nlist': 263, 'm': 6, 'n_bits': 12}. Best is trial 1 with value: 0.019900000000000008.\n"
     ]
    },
    {
     "name": "stdout",
     "output_type": "stream",
     "text": [
      "Índice: IVFPQ\n",
      "Precisión: 0.0060\n",
      "Tiempo de búsqueda: 0.0538 segundos\n"
     ]
    },
    {
     "name": "stderr",
     "output_type": "stream",
     "text": [
      "[I 2025-02-12 17:24:38,636] Trial 3 finished with value: 0.7270999999999993 and parameters: {'index_type': 'HNSW', 'M': 107, 'efConstruction': 286, 'efSearch': 103}. Best is trial 3 with value: 0.7270999999999993.\n"
     ]
    },
    {
     "name": "stdout",
     "output_type": "stream",
     "text": [
      "Índice: HNSW\n",
      "Precisión: 0.7271\n",
      "Tiempo de búsqueda: 0.5380 segundos\n"
     ]
    },
    {
     "name": "stderr",
     "output_type": "stream",
     "text": [
      "[I 2025-02-12 17:24:44,196] Trial 4 finished with value: 0.0028000000000000013 and parameters: {'index_type': 'IVFPQ', 'nlist': 599, 'm': 4, 'n_bits': 9}. Best is trial 3 with value: 0.7270999999999993.\n"
     ]
    },
    {
     "name": "stdout",
     "output_type": "stream",
     "text": [
      "Índice: IVFPQ\n",
      "Precisión: 0.0028\n",
      "Tiempo de búsqueda: 0.0070 segundos\n"
     ]
    },
    {
     "name": "stderr",
     "output_type": "stream",
     "text": [
      "[I 2025-02-12 17:24:49,823] Trial 5 finished with value: 0.015399999999999962 and parameters: {'index_type': 'IVFPQ', 'nlist': 125, 'm': 24, 'n_bits': 9}. Best is trial 3 with value: 0.7270999999999993.\n"
     ]
    },
    {
     "name": "stdout",
     "output_type": "stream",
     "text": [
      "Índice: IVFPQ\n",
      "Precisión: 0.0154\n",
      "Tiempo de búsqueda: 0.0308 segundos\n"
     ]
    },
    {
     "name": "stderr",
     "output_type": "stream",
     "text": [
      "[I 2025-02-12 17:28:05,444] Trial 6 finished with value: 0.7495999999999996 and parameters: {'index_type': 'HNSW', 'M': 78, 'efConstruction': 105, 'efSearch': 150}. Best is trial 6 with value: 0.7495999999999996.\n"
     ]
    },
    {
     "name": "stdout",
     "output_type": "stream",
     "text": [
      "Índice: HNSW\n",
      "Precisión: 0.7496\n",
      "Tiempo de búsqueda: 0.5825 segundos\n"
     ]
    },
    {
     "name": "stderr",
     "output_type": "stream",
     "text": [
      "[I 2025-02-12 17:30:10,861] Trial 7 finished with value: 0.8660999999999925 and parameters: {'index_type': 'HNSW', 'M': 102, 'efConstruction': 356, 'efSearch': 179}. Best is trial 7 with value: 0.8660999999999925.\n"
     ]
    },
    {
     "name": "stdout",
     "output_type": "stream",
     "text": [
      "Índice: HNSW\n",
      "Precisión: 0.8661\n",
      "Tiempo de búsqueda: 0.8514 segundos\n"
     ]
    },
    {
     "name": "stderr",
     "output_type": "stream",
     "text": [
      "[I 2025-02-12 17:32:04,890] Trial 8 finished with value: 0.749999999999999 and parameters: {'index_type': 'HNSW', 'M': 73, 'efConstruction': 310, 'efSearch': 139}. Best is trial 7 with value: 0.8660999999999925.\n"
     ]
    },
    {
     "name": "stdout",
     "output_type": "stream",
     "text": [
      "Índice: HNSW\n",
      "Precisión: 0.7500\n",
      "Tiempo de búsqueda: 0.5389 segundos\n"
     ]
    },
    {
     "name": "stderr",
     "output_type": "stream",
     "text": [
      "[I 2025-02-12 17:33:32,686] Trial 9 finished with value: 0.5043999999999997 and parameters: {'index_type': 'HNSW', 'M': 92, 'efConstruction': 226, 'efSearch': 52}. Best is trial 7 with value: 0.8660999999999925.\n"
     ]
    },
    {
     "name": "stdout",
     "output_type": "stream",
     "text": [
      "Índice: HNSW\n",
      "Precisión: 0.5044\n",
      "Tiempo de búsqueda: 0.2754 segundos\n"
     ]
    },
    {
     "name": "stderr",
     "output_type": "stream",
     "text": [
      "[I 2025-02-12 17:34:52,624] Trial 10 finished with value: 0.6614000000000021 and parameters: {'index_type': 'HNSW', 'M': 33, 'efConstruction': 391, 'efSearch': 193}. Best is trial 7 with value: 0.8660999999999925.\n"
     ]
    },
    {
     "name": "stdout",
     "output_type": "stream",
     "text": [
      "Índice: HNSW\n",
      "Precisión: 0.6614\n",
      "Tiempo de búsqueda: 0.3522 segundos\n"
     ]
    },
    {
     "name": "stderr",
     "output_type": "stream",
     "text": [
      "[I 2025-02-12 17:36:54,425] Trial 11 finished with value: 0.7791999999999983 and parameters: {'index_type': 'HNSW', 'M': 63, 'efConstruction': 351, 'efSearch': 168}. Best is trial 7 with value: 0.8660999999999925.\n"
     ]
    },
    {
     "name": "stdout",
     "output_type": "stream",
     "text": [
      "Índice: HNSW\n",
      "Precisión: 0.7792\n",
      "Tiempo de búsqueda: 0.5809 segundos\n"
     ]
    },
    {
     "name": "stderr",
     "output_type": "stream",
     "text": [
      "[I 2025-02-12 17:39:05,702] Trial 12 finished with value: 0.9001999999999922 and parameters: {'index_type': 'HNSW', 'M': 125, 'efConstruction': 399, 'efSearch': 194}. Best is trial 12 with value: 0.9001999999999922.\n"
     ]
    },
    {
     "name": "stdout",
     "output_type": "stream",
     "text": [
      "Índice: HNSW\n",
      "Precisión: 0.9002\n",
      "Tiempo de búsqueda: 1.0206 segundos\n"
     ]
    },
    {
     "name": "stderr",
     "output_type": "stream",
     "text": [
      "[I 2025-02-12 17:41:16,949] Trial 13 finished with value: 0.9066999999999922 and parameters: {'index_type': 'HNSW', 'M': 126, 'efConstruction': 398, 'efSearch': 200}. Best is trial 13 with value: 0.9066999999999922.\n"
     ]
    },
    {
     "name": "stdout",
     "output_type": "stream",
     "text": [
      "Índice: HNSW\n",
      "Precisión: 0.9067\n",
      "Tiempo de búsqueda: 1.0225 segundos\n"
     ]
    },
    {
     "name": "stderr",
     "output_type": "stream",
     "text": [
      "[I 2025-02-12 17:43:26,931] Trial 14 finished with value: 0.9050999999999921 and parameters: {'index_type': 'HNSW', 'M': 127, 'efConstruction': 397, 'efSearch': 199}. Best is trial 13 with value: 0.9066999999999922.\n"
     ]
    },
    {
     "name": "stdout",
     "output_type": "stream",
     "text": [
      "Índice: HNSW\n",
      "Precisión: 0.9051\n",
      "Tiempo de búsqueda: 1.0207 segundos\n"
     ]
    },
    {
     "name": "stderr",
     "output_type": "stream",
     "text": [
      "[I 2025-02-12 17:50:36,293] Trial 15 finished with value: 0.7829999999999976 and parameters: {'index_type': 'HNSW', 'M': 128, 'efConstruction': 191, 'efSearch': 103}. Best is trial 13 with value: 0.9066999999999922.\n"
     ]
    },
    {
     "name": "stdout",
     "output_type": "stream",
     "text": [
      "Índice: HNSW\n",
      "Precisión: 0.7830\n",
      "Tiempo de búsqueda: 0.6546 segundos\n"
     ]
    },
    {
     "name": "stderr",
     "output_type": "stream",
     "text": [
      "[I 2025-02-12 17:52:32,888] Trial 16 finished with value: 0.8563999999999946 and parameters: {'index_type': 'HNSW', 'M': 115, 'efConstruction': 327, 'efSearch': 165}. Best is trial 13 with value: 0.9066999999999922.\n"
     ]
    },
    {
     "name": "stdout",
     "output_type": "stream",
     "text": [
      "Índice: HNSW\n",
      "Precisión: 0.8564\n",
      "Tiempo de búsqueda: 0.8444 segundos\n"
     ]
    },
    {
     "name": "stderr",
     "output_type": "stream",
     "text": [
      "[I 2025-02-12 17:54:13,325] Trial 17 finished with value: 0.8799999999999919 and parameters: {'index_type': 'HNSW', 'M': 116, 'efConstruction': 267, 'efSearch': 195}. Best is trial 13 with value: 0.9066999999999922.\n"
     ]
    },
    {
     "name": "stdout",
     "output_type": "stream",
     "text": [
      "Índice: HNSW\n",
      "Precisión: 0.8800\n",
      "Tiempo de búsqueda: 0.9183 segundos\n"
     ]
    },
    {
     "name": "stderr",
     "output_type": "stream",
     "text": [
      "[I 2025-02-12 17:57:35,834] Trial 18 finished with value: 0.7909999999999974 and parameters: {'index_type': 'HNSW', 'M': 103, 'efConstruction': 400, 'efSearch': 128}. Best is trial 13 with value: 0.9066999999999922.\n"
     ]
    },
    {
     "name": "stdout",
     "output_type": "stream",
     "text": [
      "Índice: HNSW\n",
      "Precisión: 0.7910\n",
      "Tiempo de búsqueda: 0.6525 segundos\n"
     ]
    },
    {
     "name": "stderr",
     "output_type": "stream",
     "text": [
      "[I 2025-02-12 17:58:35,877] Trial 19 finished with value: 0.4144999999999996 and parameters: {'index_type': 'HNSW', 'M': 56, 'efConstruction': 161, 'efSearch': 50}. Best is trial 13 with value: 0.9066999999999922.\n"
     ]
    },
    {
     "name": "stdout",
     "output_type": "stream",
     "text": [
      "Índice: HNSW\n",
      "Precisión: 0.4145\n",
      "Tiempo de búsqueda: 0.1787 segundos\n"
     ]
    },
    {
     "name": "stderr",
     "output_type": "stream",
     "text": [
      "[I 2025-02-12 18:00:39,707] Trial 20 finished with value: 0.821499999999995 and parameters: {'index_type': 'HNSW', 'M': 89, 'efConstruction': 353, 'efSearch': 158}. Best is trial 13 with value: 0.9066999999999922.\n"
     ]
    },
    {
     "name": "stdout",
     "output_type": "stream",
     "text": [
      "Índice: HNSW\n",
      "Precisión: 0.8215\n",
      "Tiempo de búsqueda: 0.6891 segundos\n"
     ]
    },
    {
     "name": "stderr",
     "output_type": "stream",
     "text": [
      "[I 2025-02-12 18:02:49,441] Trial 21 finished with value: 0.9018999999999924 and parameters: {'index_type': 'HNSW', 'M': 128, 'efConstruction': 398, 'efSearch': 194}. Best is trial 13 with value: 0.9066999999999922.\n"
     ]
    },
    {
     "name": "stdout",
     "output_type": "stream",
     "text": [
      "Índice: HNSW\n",
      "Precisión: 0.9019\n",
      "Tiempo de búsqueda: 1.0217 segundos\n"
     ]
    },
    {
     "name": "stderr",
     "output_type": "stream",
     "text": [
      "[I 2025-02-12 18:04:53,256] Trial 22 finished with value: 0.8995999999999921 and parameters: {'index_type': 'HNSW', 'M': 120, 'efConstruction': 366, 'efSearch': 199}. Best is trial 13 with value: 0.9066999999999922.\n"
     ]
    },
    {
     "name": "stdout",
     "output_type": "stream",
     "text": [
      "Índice: HNSW\n",
      "Precisión: 0.8996\n",
      "Tiempo de búsqueda: 0.9889 segundos\n"
     ]
    },
    {
     "name": "stderr",
     "output_type": "stream",
     "text": [
      "[I 2025-02-12 18:06:46,379] Trial 23 finished with value: 0.8826999999999925 and parameters: {'index_type': 'HNSW', 'M': 128, 'efConstruction': 326, 'efSearch': 180}. Best is trial 13 with value: 0.9066999999999922.\n"
     ]
    },
    {
     "name": "stdout",
     "output_type": "stream",
     "text": [
      "Índice: HNSW\n",
      "Precisión: 0.8827\n",
      "Tiempo de búsqueda: 0.9178 segundos\n"
     ]
    },
    {
     "name": "stderr",
     "output_type": "stream",
     "text": [
      "[I 2025-02-12 18:08:54,985] Trial 24 finished with value: 0.8715999999999932 and parameters: {'index_type': 'HNSW', 'M': 112, 'efConstruction': 378, 'efSearch': 176}. Best is trial 13 with value: 0.9066999999999922.\n"
     ]
    },
    {
     "name": "stdout",
     "output_type": "stream",
     "text": [
      "Índice: HNSW\n",
      "Precisión: 0.8716\n",
      "Tiempo de búsqueda: 0.8708 segundos\n"
     ]
    },
    {
     "name": "stderr",
     "output_type": "stream",
     "text": [
      "[I 2025-02-12 18:10:45,526] Trial 25 finished with value: 0.8532999999999945 and parameters: {'index_type': 'HNSW', 'M': 92, 'efConstruction': 301, 'efSearch': 184}. Best is trial 13 with value: 0.9066999999999922.\n"
     ]
    },
    {
     "name": "stdout",
     "output_type": "stream",
     "text": [
      "Índice: HNSW\n",
      "Precisión: 0.8533\n",
      "Tiempo de búsqueda: 0.7812 segundos\n"
     ]
    },
    {
     "name": "stderr",
     "output_type": "stream",
     "text": [
      "[I 2025-02-12 18:18:41,177] Trial 26 finished with value: 0.012099999999999975 and parameters: {'index_type': 'IVFPQ', 'nlist': 924, 'm': 48, 'n_bits': 16}. Best is trial 13 with value: 0.9066999999999922.\n"
     ]
    },
    {
     "name": "stdout",
     "output_type": "stream",
     "text": [
      "Índice: IVFPQ\n",
      "Precisión: 0.0121\n",
      "Tiempo de búsqueda: 1.3287 segundos\n"
     ]
    },
    {
     "name": "stderr",
     "output_type": "stream",
     "text": [
      "[I 2025-02-12 18:20:38,603] Trial 27 finished with value: 0.6852000000000007 and parameters: {'index_type': 'HNSW', 'M': 119, 'efConstruction': 340, 'efSearch': 83}. Best is trial 13 with value: 0.9066999999999922.\n"
     ]
    },
    {
     "name": "stdout",
     "output_type": "stream",
     "text": [
      "Índice: HNSW\n",
      "Precisión: 0.6852\n",
      "Tiempo de búsqueda: 0.4864 segundos\n"
     ]
    },
    {
     "name": "stderr",
     "output_type": "stream",
     "text": [
      "[I 2025-02-12 18:22:47,259] Trial 28 finished with value: 0.8498999999999942 and parameters: {'index_type': 'HNSW', 'M': 108, 'efConstruction': 378, 'efSearch': 157}. Best is trial 13 with value: 0.9066999999999922.\n"
     ]
    },
    {
     "name": "stdout",
     "output_type": "stream",
     "text": [
      "Índice: HNSW\n",
      "Precisión: 0.8499\n",
      "Tiempo de búsqueda: 0.7770 segundos\n"
     ]
    },
    {
     "name": "stderr",
     "output_type": "stream",
     "text": [
      "[I 2025-02-12 18:23:34,420] Trial 29 finished with value: 0.0008999999999999999 and parameters: {'index_type': 'IVFPQ', 'nlist': 582, 'm': 2, 'n_bits': 13}. Best is trial 13 with value: 0.9066999999999922.\n"
     ]
    },
    {
     "name": "stdout",
     "output_type": "stream",
     "text": [
      "Índice: IVFPQ\n",
      "Precisión: 0.0009\n",
      "Tiempo de búsqueda: 0.0781 segundos\n"
     ]
    },
    {
     "name": "stderr",
     "output_type": "stream",
     "text": [
      "[I 2025-02-12 18:25:11,619] Trial 30 finished with value: 0.8495999999999936 and parameters: {'index_type': 'HNSW', 'M': 97, 'efConstruction': 253, 'efSearch': 185}. Best is trial 13 with value: 0.9066999999999922.\n"
     ]
    },
    {
     "name": "stdout",
     "output_type": "stream",
     "text": [
      "Índice: HNSW\n",
      "Precisión: 0.8496\n",
      "Tiempo de búsqueda: 0.7829 segundos\n"
     ]
    },
    {
     "name": "stderr",
     "output_type": "stream",
     "text": [
      "[I 2025-02-12 18:27:20,856] Trial 31 finished with value: 0.9071999999999925 and parameters: {'index_type': 'HNSW', 'M': 128, 'efConstruction': 397, 'efSearch': 200}. Best is trial 31 with value: 0.9071999999999925.\n"
     ]
    },
    {
     "name": "stdout",
     "output_type": "stream",
     "text": [
      "Índice: HNSW\n",
      "Precisión: 0.9072\n",
      "Tiempo de búsqueda: 1.0265 segundos\n"
     ]
    },
    {
     "name": "stderr",
     "output_type": "stream",
     "text": [
      "[I 2025-02-12 18:29:26,498] Trial 32 finished with value: 0.9020999999999917 and parameters: {'index_type': 'HNSW', 'M': 122, 'efConstruction': 376, 'efSearch': 200}. Best is trial 31 with value: 0.9071999999999925.\n"
     ]
    },
    {
     "name": "stdout",
     "output_type": "stream",
     "text": [
      "Índice: HNSW\n",
      "Precisión: 0.9021\n",
      "Tiempo de búsqueda: 0.9925 segundos\n"
     ]
    },
    {
     "name": "stderr",
     "output_type": "stream",
     "text": [
      "[I 2025-02-12 18:31:31,571] Trial 33 finished with value: 0.9001999999999916 and parameters: {'index_type': 'HNSW', 'M': 121, 'efConstruction': 372, 'efSearch': 200}. Best is trial 31 with value: 0.9071999999999925.\n"
     ]
    },
    {
     "name": "stdout",
     "output_type": "stream",
     "text": [
      "Índice: HNSW\n",
      "Precisión: 0.9002\n",
      "Tiempo de búsqueda: 0.9908 segundos\n"
     ]
    },
    {
     "name": "stderr",
     "output_type": "stream",
     "text": [
      "[I 2025-02-12 18:32:09,654] Trial 34 finished with value: 0.012399999999999974 and parameters: {'index_type': 'IVFPQ', 'nlist': 748, 'm': 96, 'n_bits': 12}. Best is trial 31 with value: 0.9071999999999925.\n"
     ]
    },
    {
     "name": "stdout",
     "output_type": "stream",
     "text": [
      "Índice: IVFPQ\n",
      "Precisión: 0.0124\n",
      "Tiempo de búsqueda: 0.2254 segundos\n"
     ]
    },
    {
     "name": "stderr",
     "output_type": "stream",
     "text": [
      "[I 2025-02-12 18:34:17,693] Trial 35 finished with value: 0.8671999999999934 and parameters: {'index_type': 'HNSW', 'M': 113, 'efConstruction': 377, 'efSearch': 171}. Best is trial 31 with value: 0.9071999999999925.\n"
     ]
    },
    {
     "name": "stdout",
     "output_type": "stream",
     "text": [
      "Índice: HNSW\n",
      "Precisión: 0.8672\n",
      "Tiempo de búsqueda: 0.8691 segundos\n"
     ]
    },
    {
     "name": "stderr",
     "output_type": "stream",
     "text": [
      "[I 2025-02-12 18:36:53,974] Trial 36 finished with value: 0.015699999999999964 and parameters: {'index_type': 'IVFPQ', 'nlist': 411, 'm': 64, 'n_bits': 14}. Best is trial 31 with value: 0.9071999999999925.\n"
     ]
    },
    {
     "name": "stdout",
     "output_type": "stream",
     "text": [
      "Índice: IVFPQ\n",
      "Precisión: 0.0157\n",
      "Tiempo de búsqueda: 0.8576 segundos\n"
     ]
    },
    {
     "name": "stderr",
     "output_type": "stream",
     "text": [
      "[I 2025-02-12 18:38:50,720] Trial 37 finished with value: 0.8780999999999924 and parameters: {'index_type': 'HNSW', 'M': 121, 'efConstruction': 337, 'efSearch': 183}. Best is trial 31 with value: 0.9071999999999925.\n"
     ]
    },
    {
     "name": "stdout",
     "output_type": "stream",
     "text": [
      "Índice: HNSW\n",
      "Precisión: 0.8781\n",
      "Tiempo de búsqueda: 0.9298 segundos\n"
     ]
    },
    {
     "name": "stderr",
     "output_type": "stream",
     "text": [
      "[I 2025-02-12 18:40:56,046] Trial 38 finished with value: 0.8995999999999916 and parameters: {'index_type': 'HNSW', 'M': 121, 'efConstruction': 372, 'efSearch': 200}. Best is trial 31 with value: 0.9071999999999925.\n"
     ]
    },
    {
     "name": "stdout",
     "output_type": "stream",
     "text": [
      "Índice: HNSW\n",
      "Precisión: 0.8996\n",
      "Tiempo de búsqueda: 0.9865 segundos\n"
     ]
    },
    {
     "name": "stderr",
     "output_type": "stream",
     "text": [
      "[I 2025-02-12 18:41:11,477] Trial 39 finished with value: 0.0017000000000000003 and parameters: {'index_type': 'IVFPQ', 'nlist': 975, 'm': 3, 'n_bits': 11}. Best is trial 31 with value: 0.9071999999999925.\n"
     ]
    },
    {
     "name": "stdout",
     "output_type": "stream",
     "text": [
      "Índice: IVFPQ\n",
      "Precisión: 0.0017\n",
      "Tiempo de búsqueda: 0.0190 segundos\n"
     ]
    },
    {
     "name": "stderr",
     "output_type": "stream",
     "text": [
      "[I 2025-02-12 18:42:59,350] Trial 40 finished with value: 0.8748999999999928 and parameters: {'index_type': 'HNSW', 'M': 108, 'efConstruction': 295, 'efSearch': 189}. Best is trial 31 with value: 0.9071999999999925.\n"
     ]
    },
    {
     "name": "stdout",
     "output_type": "stream",
     "text": [
      "Índice: HNSW\n",
      "Precisión: 0.8749\n",
      "Tiempo de búsqueda: 0.8649 segundos\n"
     ]
    },
    {
     "name": "stderr",
     "output_type": "stream",
     "text": [
      "[I 2025-02-12 18:45:09,451] Trial 41 finished with value: 0.8981999999999921 and parameters: {'index_type': 'HNSW', 'M': 128, 'efConstruction': 400, 'efSearch': 188}. Best is trial 31 with value: 0.9071999999999925.\n"
     ]
    },
    {
     "name": "stdout",
     "output_type": "stream",
     "text": [
      "Índice: HNSW\n",
      "Precisión: 0.8982\n",
      "Tiempo de búsqueda: 0.9833 segundos\n"
     ]
    },
    {
     "name": "stderr",
     "output_type": "stream",
     "text": [
      "[I 2025-02-12 18:47:17,617] Trial 42 finished with value: 0.9060999999999925 and parameters: {'index_type': 'HNSW', 'M': 128, 'efConstruction': 391, 'efSearch': 199}. Best is trial 31 with value: 0.9071999999999925.\n"
     ]
    },
    {
     "name": "stdout",
     "output_type": "stream",
     "text": [
      "Índice: HNSW\n",
      "Precisión: 0.9061\n",
      "Tiempo de búsqueda: 1.0174 segundos\n"
     ]
    },
    {
     "name": "stderr",
     "output_type": "stream",
     "text": [
      "[I 2025-02-12 18:49:25,535] Trial 43 finished with value: 0.8791999999999923 and parameters: {'index_type': 'HNSW', 'M': 123, 'efConstruction': 383, 'efSearch': 175}. Best is trial 31 with value: 0.9071999999999925.\n"
     ]
    },
    {
     "name": "stdout",
     "output_type": "stream",
     "text": [
      "Índice: HNSW\n",
      "Precisión: 0.8792\n",
      "Tiempo de búsqueda: 0.9106 segundos\n"
     ]
    },
    {
     "name": "stderr",
     "output_type": "stream",
     "text": [
      "[I 2025-02-12 18:51:30,560] Trial 44 finished with value: 0.8947999999999923 and parameters: {'index_type': 'HNSW', 'M': 111, 'efConstruction': 360, 'efSearch': 200}. Best is trial 31 with value: 0.9071999999999925.\n"
     ]
    },
    {
     "name": "stdout",
     "output_type": "stream",
     "text": [
      "Índice: HNSW\n",
      "Precisión: 0.8948\n",
      "Tiempo de búsqueda: 0.9612 segundos\n"
     ]
    },
    {
     "name": "stderr",
     "output_type": "stream",
     "text": [
      "[I 2025-02-12 18:53:32,585] Trial 45 finished with value: 0.8339999999999941 and parameters: {'index_type': 'HNSW', 'M': 116, 'efConstruction': 352, 'efSearch': 146}. Best is trial 31 with value: 0.9071999999999925.\n"
     ]
    },
    {
     "name": "stdout",
     "output_type": "stream",
     "text": [
      "Índice: HNSW\n",
      "Precisión: 0.8340\n",
      "Tiempo de búsqueda: 0.7587 segundos\n"
     ]
    },
    {
     "name": "stderr",
     "output_type": "stream",
     "text": [
      "[I 2025-02-12 18:57:24,048] Trial 46 finished with value: 0.7150000000000005 and parameters: {'index_type': 'HNSW', 'M': 103, 'efConstruction': 107, 'efSearch': 105}. Best is trial 31 with value: 0.9071999999999925.\n"
     ]
    },
    {
     "name": "stdout",
     "output_type": "stream",
     "text": [
      "Índice: HNSW\n",
      "Precisión: 0.7150\n",
      "Tiempo de búsqueda: 0.5179 segundos\n"
     ]
    },
    {
     "name": "stderr",
     "output_type": "stream",
     "text": [
      "[I 2025-02-12 18:59:15,661] Trial 47 finished with value: 0.8839999999999922 and parameters: {'index_type': 'HNSW', 'M': 123, 'efConstruction': 316, 'efSearch': 187}. Best is trial 31 with value: 0.9071999999999925.\n"
     ]
    },
    {
     "name": "stdout",
     "output_type": "stream",
     "text": [
      "Índice: HNSW\n",
      "Precisión: 0.8840\n",
      "Tiempo de búsqueda: 0.9228 segundos\n"
     ]
    },
    {
     "name": "stderr",
     "output_type": "stream",
     "text": [
      "[I 2025-02-12 19:00:57,924] Trial 48 finished with value: 0.7087000000000013 and parameters: {'index_type': 'HNSW', 'M': 42, 'efConstruction': 385, 'efSearch': 179}. Best is trial 31 with value: 0.9071999999999925.\n"
     ]
    },
    {
     "name": "stdout",
     "output_type": "stream",
     "text": [
      "Índice: HNSW\n",
      "Precisión: 0.7087\n",
      "Tiempo de búsqueda: 0.4249 segundos\n"
     ]
    },
    {
     "name": "stderr",
     "output_type": "stream",
     "text": [
      "[I 2025-02-12 19:03:02,186] Trial 49 finished with value: 0.8620999999999933 and parameters: {'index_type': 'HNSW', 'M': 118, 'efConstruction': 363, 'efSearch': 163}. Best is trial 31 with value: 0.9071999999999925.\n"
     ]
    },
    {
     "name": "stdout",
     "output_type": "stream",
     "text": [
      "Índice: HNSW\n",
      "Precisión: 0.8621\n",
      "Tiempo de búsqueda: 0.8990 segundos\n",
      "Mejores hiperparámetros:  {'index_type': 'HNSW', 'M': 128, 'efConstruction': 397, 'efSearch': 200}\n",
      "Mejor precisión:  0.9071999999999925\n"
     ]
    }
   ],
   "source": [
    "import numpy as np\n",
    "import faiss\n",
    "import time\n",
    "import optuna\n",
    "\n",
    "# Dimensiones de los embeddings\n",
    "d = 384  # Dimensiones de los embeddings\n",
    "\n",
    "# Número de embeddings\n",
    "n = 102832  # Número de embeddings\n",
    "\n",
    "# Generar embeddings aleatorios (simulación)\n",
    "embeddings = np.random.rand(n, d).astype('float32')\n",
    "\n",
    "# Generar consultas aleatorias\n",
    "nq = 1000\n",
    "query_embeddings = np.random.rand(nq, d).astype('float32')\n",
    "\n",
    "# Índices a probar\n",
    "index_types = [\"IVFPQ\", \"HNSW\"]\n",
    "\n",
    "# 🔹 **Función objetivo para Optuna:**\n",
    "def objective(trial):\n",
    "    # **Hiperparámetros para IVFPQ**\n",
    "    index_type = trial.suggest_categorical(\"index_type\", index_types)\n",
    "    \n",
    "    if index_type == \"IVFPQ\":\n",
    "        nlist = trial.suggest_int(\"nlist\", 100, 1000)  # Número de listas\n",
    "        m_choices = [1, 2, 3, 4, 6, 8, 12, 16, 24, 32, 48, 64, 96, 128, 192, 384]\n",
    "        m = trial.suggest_categorical(\"m\", m_choices)  # Número de divisiones\n",
    "        n_bits = trial.suggest_int(\"n_bits\", 8, 16)  # Bits por cada subvector\n",
    "        \n",
    "        quantizer = faiss.IndexFlatL2(d)\n",
    "        index = faiss.IndexIVFPQ(quantizer, d, nlist, m, n_bits)\n",
    "        index.train(embeddings)  # Entrenar el índice con los embeddings\n",
    "    elif index_type == \"HNSW\":\n",
    "        M = trial.suggest_int(\"M\", 32, 128)  # Vecinos por nodo\n",
    "        efConstruction = trial.suggest_int(\"efConstruction\", 100, 400)  # Precisión de construcción\n",
    "        \n",
    "        index = faiss.IndexHNSWFlat(d, M)\n",
    "        index.hnsw.efConstruction = efConstruction\n",
    "        index.hnsw.efSearch = trial.suggest_int(\"efSearch\", 50, 200)  # Precisión de búsqueda\n",
    "    else:  # FlatL2 no tiene parámetros para optimizar\n",
    "        index = faiss.IndexFlatL2(d)\n",
    "    \n",
    "    # Añadir embeddings al índice en lotes para evitar problemas de memoria\n",
    "    batch_size = 10000  # Tamaño de cada lote, puedes ajustarlo\n",
    "    for i in range(0, n, batch_size):\n",
    "        batch = embeddings[i:i + batch_size]\n",
    "        index.add(batch)\n",
    "    \n",
    "    # **Obtener Ground Truth con IndexFlatL2 (para precisión)**\n",
    "    index_gt = faiss.IndexFlatL2(d)\n",
    "    index_gt.add(embeddings)\n",
    "    _, I_gt = index_gt.search(query_embeddings, k=10)  \n",
    "    \n",
    "    # **Medir tiempo de búsqueda y calcular precisión**\n",
    "    start_time = time.time()\n",
    "    _, I = index.search(query_embeddings, k=10)  \n",
    "    search_time = time.time() - start_time\n",
    "\n",
    "    # **Calcular Precisión**\n",
    "    def precision_at_k(I_pred, I_gt, k=10):\n",
    "        correct = 0\n",
    "        for i in range(len(I_pred)):\n",
    "            correct += len(set(I_pred[i]) & set(I_gt[i])) / k\n",
    "        return correct / len(I_pred)\n",
    "\n",
    "    precision = precision_at_k(I, I_gt, k=10)\n",
    "    \n",
    "    # Mostrar resultados\n",
    "    print(f\"Índice: {index_type}\")\n",
    "    print(f\"Precisión: {precision:.4f}\")\n",
    "    print(f\"Tiempo de búsqueda: {search_time:.4f} segundos\")\n",
    "    \n",
    "    return precision  # Queremos maximizar la precisión\n",
    "\n",
    "# 🔹 **Crear y optimizar el estudio con Optuna:**\n",
    "study = optuna.create_study(direction=\"maximize\")  # Maximizar precisión\n",
    "study.optimize(objective, n_trials=50)  # Número de intentos\n",
    "\n",
    "# Imprimir los mejores hiperparámetros y resultados\n",
    "print(\"Mejores hiperparámetros: \", study.best_params)\n",
    "print(\"Mejor precisión: \", study.best_value)\n"
   ]
  },
  {
   "cell_type": "code",
   "execution_count": 16,
   "metadata": {},
   "outputs": [
    {
     "name": "stderr",
     "output_type": "stream",
     "text": [
      "[I 2025-02-12 15:07:22,408] A new study created in memory with name: no-name-9010cd00-5584-42ad-843f-2b830bb0d6e6\n",
      "c:\\Users\\Carlo\\AppData\\Local\\Programs\\Python\\Python310\\lib\\site-packages\\numpy\\_core\\_methods.py:135: RuntimeWarning: overflow encountered in reduce\n",
      "  ret = umr_sum(arr, axis, dtype, out, keepdims, where=where)\n",
      "[I 2025-02-12 15:07:27,781] Trial 0 finished with value: -inf and parameters: {'nlist': 468, 'm': 16}. Best is trial 0 with value: -inf.\n",
      "[I 2025-02-12 15:07:31,038] Trial 1 finished with value: -inf and parameters: {'nlist': 428, 'm': 32}. Best is trial 0 with value: -inf.\n",
      "[I 2025-02-12 15:07:34,297] Trial 2 finished with value: -127.42923736572266 and parameters: {'nlist': 367, 'm': 8}. Best is trial 2 with value: -127.42923736572266.\n",
      "[I 2025-02-12 15:07:36,841] Trial 3 finished with value: -127.21797180175781 and parameters: {'nlist': 226, 'm': 32}. Best is trial 3 with value: -127.21797180175781.\n",
      "[I 2025-02-12 15:07:40,306] Trial 4 finished with value: -inf and parameters: {'nlist': 475, 'm': 8}. Best is trial 3 with value: -127.21797180175781.\n",
      "[I 2025-02-12 15:07:44,140] Trial 5 finished with value: -127.3117904663086 and parameters: {'nlist': 340, 'm': 12}. Best is trial 3 with value: -127.21797180175781.\n",
      "[I 2025-02-12 15:07:47,955] Trial 6 finished with value: -127.3097152709961 and parameters: {'nlist': 331, 'm': 12}. Best is trial 3 with value: -127.21797180175781.\n",
      "[I 2025-02-12 15:07:51,166] Trial 7 finished with value: -127.43191528320312 and parameters: {'nlist': 348, 'm': 8}. Best is trial 3 with value: -127.21797180175781.\n",
      "[I 2025-02-12 15:07:56,068] Trial 8 finished with value: -inf and parameters: {'nlist': 458, 'm': 16}. Best is trial 3 with value: -127.21797180175781.\n",
      "[I 2025-02-12 15:07:58,647] Trial 9 finished with value: -inf and parameters: {'nlist': 88, 'm': 8}. Best is trial 3 with value: -127.21797180175781.\n",
      "[I 2025-02-12 15:08:01,178] Trial 10 finished with value: -127.21356201171875 and parameters: {'nlist': 183, 'm': 32}. Best is trial 10 with value: -127.21356201171875.\n",
      "[I 2025-02-12 15:08:03,648] Trial 11 finished with value: -127.18685150146484 and parameters: {'nlist': 187, 'm': 32}. Best is trial 11 with value: -127.18685150146484.\n",
      "[I 2025-02-12 15:08:06,094] Trial 12 finished with value: -127.20782470703125 and parameters: {'nlist': 179, 'm': 32}. Best is trial 11 with value: -127.18685150146484.\n",
      "[I 2025-02-12 15:08:08,780] Trial 13 finished with value: -127.1474609375 and parameters: {'nlist': 117, 'm': 24}. Best is trial 13 with value: -127.1474609375.\n",
      "[I 2025-02-12 15:08:11,377] Trial 14 finished with value: -127.08797454833984 and parameters: {'nlist': 55, 'm': 24}. Best is trial 14 with value: -127.08797454833984.\n",
      "[I 2025-02-12 15:08:14,003] Trial 15 finished with value: -127.05977630615234 and parameters: {'nlist': 50, 'm': 24}. Best is trial 15 with value: -127.05977630615234.\n",
      "[I 2025-02-12 15:08:16,567] Trial 16 finished with value: -127.07672119140625 and parameters: {'nlist': 54, 'm': 24}. Best is trial 15 with value: -127.05977630615234.\n",
      "[I 2025-02-12 15:08:19,293] Trial 17 finished with value: -127.18113708496094 and parameters: {'nlist': 127, 'm': 24}. Best is trial 15 with value: -127.05977630615234.\n",
      "[I 2025-02-12 15:08:21,922] Trial 18 finished with value: -127.10686492919922 and parameters: {'nlist': 53, 'm': 24}. Best is trial 15 with value: -127.05977630615234.\n",
      "[I 2025-02-12 15:08:24,915] Trial 19 finished with value: -127.2374267578125 and parameters: {'nlist': 271, 'm': 24}. Best is trial 15 with value: -127.05977630615234.\n",
      "[I 2025-02-12 15:08:27,680] Trial 20 finished with value: -127.1656494140625 and parameters: {'nlist': 131, 'm': 24}. Best is trial 15 with value: -127.05977630615234.\n",
      "[I 2025-02-12 15:08:30,264] Trial 21 finished with value: -127.05977630615234 and parameters: {'nlist': 50, 'm': 24}. Best is trial 15 with value: -127.05977630615234.\n",
      "[I 2025-02-12 15:08:32,865] Trial 22 finished with value: -127.10282135009766 and parameters: {'nlist': 91, 'm': 24}. Best is trial 15 with value: -127.05977630615234.\n",
      "[I 2025-02-12 15:08:35,475] Trial 23 finished with value: -127.0650863647461 and parameters: {'nlist': 56, 'm': 24}. Best is trial 15 with value: -127.05977630615234.\n",
      "[I 2025-02-12 15:08:38,215] Trial 24 finished with value: -127.14156341552734 and parameters: {'nlist': 151, 'm': 24}. Best is trial 15 with value: -127.05977630615234.\n",
      "[I 2025-02-12 15:08:40,823] Trial 25 finished with value: -127.0891342163086 and parameters: {'nlist': 85, 'm': 24}. Best is trial 15 with value: -127.05977630615234.\n",
      "[I 2025-02-12 15:08:44,809] Trial 26 finished with value: -127.32624816894531 and parameters: {'nlist': 234, 'm': 12}. Best is trial 15 with value: -127.05977630615234.\n",
      "[I 2025-02-12 15:08:47,532] Trial 27 finished with value: -inf and parameters: {'nlist': 87, 'm': 24}. Best is trial 15 with value: -127.05977630615234.\n",
      "[I 2025-02-12 15:08:52,168] Trial 28 finished with value: -127.2364730834961 and parameters: {'nlist': 158, 'm': 16}. Best is trial 15 with value: -127.05977630615234.\n",
      "[I 2025-02-12 15:08:56,706] Trial 29 finished with value: -127.19581604003906 and parameters: {'nlist': 101, 'm': 16}. Best is trial 15 with value: -127.05977630615234.\n",
      "[I 2025-02-12 15:08:59,669] Trial 30 finished with value: -127.22322845458984 and parameters: {'nlist': 220, 'm': 24}. Best is trial 15 with value: -127.05977630615234.\n",
      "[I 2025-02-12 15:09:02,319] Trial 31 finished with value: -127.05977630615234 and parameters: {'nlist': 50, 'm': 24}. Best is trial 15 with value: -127.05977630615234.\n",
      "[I 2025-02-12 15:09:05,063] Trial 32 finished with value: -127.09764099121094 and parameters: {'nlist': 64, 'm': 24}. Best is trial 15 with value: -127.05977630615234.\n",
      "[I 2025-02-12 15:09:07,770] Trial 33 finished with value: -127.14141082763672 and parameters: {'nlist': 112, 'm': 24}. Best is trial 15 with value: -127.05977630615234.\n",
      "[I 2025-02-12 15:09:10,504] Trial 34 finished with value: -127.09564971923828 and parameters: {'nlist': 72, 'm': 24}. Best is trial 15 with value: -127.05977630615234.\n",
      "[I 2025-02-12 15:09:13,557] Trial 35 finished with value: -127.16402435302734 and parameters: {'nlist': 145, 'm': 24}. Best is trial 15 with value: -127.05977630615234.\n",
      "[I 2025-02-12 15:09:17,250] Trial 36 finished with value: -127.217041015625 and parameters: {'nlist': 52, 'm': 12}. Best is trial 15 with value: -127.05977630615234.\n",
      "[I 2025-02-12 15:09:19,997] Trial 37 finished with value: -127.13512420654297 and parameters: {'nlist': 108, 'm': 24}. Best is trial 15 with value: -127.05977630615234.\n",
      "[I 2025-02-12 15:09:23,673] Trial 38 finished with value: -127.43357849121094 and parameters: {'nlist': 396, 'm': 8}. Best is trial 15 with value: -127.05977630615234.\n",
      "[I 2025-02-12 15:09:28,690] Trial 39 finished with value: -127.29100036621094 and parameters: {'nlist': 305, 'm': 16}. Best is trial 15 with value: -127.05977630615234.\n",
      "[I 2025-02-12 15:09:31,313] Trial 40 finished with value: -127.11927795410156 and parameters: {'nlist': 81, 'm': 24}. Best is trial 15 with value: -127.05977630615234.\n",
      "[I 2025-02-12 15:09:33,860] Trial 41 finished with value: -127.10686492919922 and parameters: {'nlist': 53, 'm': 24}. Best is trial 15 with value: -127.05977630615234.\n",
      "[I 2025-02-12 15:09:36,533] Trial 42 finished with value: -127.10316467285156 and parameters: {'nlist': 73, 'm': 24}. Best is trial 15 with value: -127.05977630615234.\n",
      "[I 2025-02-12 15:09:39,150] Trial 43 finished with value: -127.12686157226562 and parameters: {'nlist': 99, 'm': 24}. Best is trial 15 with value: -127.05977630615234.\n",
      "[I 2025-02-12 15:09:41,594] Trial 44 finished with value: -127.08622741699219 and parameters: {'nlist': 69, 'm': 32}. Best is trial 15 with value: -127.05977630615234.\n",
      "[I 2025-02-12 15:09:44,488] Trial 45 finished with value: -127.39720916748047 and parameters: {'nlist': 127, 'm': 8}. Best is trial 15 with value: -127.05977630615234.\n",
      "[I 2025-02-12 15:09:49,111] Trial 46 finished with value: -inf and parameters: {'nlist': 494, 'm': 12}. Best is trial 15 with value: -127.05977630615234.\n",
      "[I 2025-02-12 15:09:51,883] Trial 47 finished with value: -127.13369750976562 and parameters: {'nlist': 107, 'm': 24}. Best is trial 15 with value: -127.05977630615234.\n",
      "[I 2025-02-12 15:09:54,523] Trial 48 finished with value: -127.10316467285156 and parameters: {'nlist': 73, 'm': 24}. Best is trial 15 with value: -127.05977630615234.\n",
      "[I 2025-02-12 15:09:56,890] Trial 49 finished with value: -127.07769775390625 and parameters: {'nlist': 51, 'm': 32}. Best is trial 15 with value: -127.05977630615234.\n"
     ]
    },
    {
     "name": "stdout",
     "output_type": "stream",
     "text": [
      "Mejores hiperparámetros: {'nlist': 50, 'm': 24}\n"
     ]
    }
   ],
   "source": [
    "def objective(trial):\n",
    "    nlist = trial.suggest_int('nlist', 50, 500)\n",
    "    m_choices = [8, 12, 16, 24, 32]\n",
    "    m = trial.suggest_categorical('m', m_choices)\n",
    "\n",
    "    quantizer = faiss.IndexFlatL2(d)\n",
    "    index = faiss.IndexIVFPQ(quantizer, d, nlist, m, 8)\n",
    "    index.train(embeddings)\n",
    "    index.add(embeddings)\n",
    "\n",
    "    start_time = time.time()\n",
    "    distances, indices = index.search(query_embeddings, k=10)\n",
    "    search_time = time.time() - start_time\n",
    "\n",
    "    # Convertimos distancias en similaridades\n",
    "    similarity_scores = -distances.mean()  # Faiss devuelve distancias L2, así que las invertimos\n",
    "\n",
    "    return similarity_scores  # Queremos MAXIMIZAR la similitud\n",
    "\n",
    "study = optuna.create_study(direction='maximize')\n",
    "study.optimize(objective, n_trials=50)\n",
    "\n",
    "print(f\"Mejores hiperparámetros: {study.best_params}\")\n"
   ]
  },
  {
   "cell_type": "code",
   "execution_count": null,
   "metadata": {},
   "outputs": [
    {
     "name": "stdout",
     "output_type": "stream",
     "text": [
      "\n",
      "🔹 Resultados de las 30 consultas:\n",
      "L2    - Precisión: 1.0000 | Tiempo total: 0.0441 s | Tiempo por recomendación: 0.0015 s\n",
      "IVFPQ - Precisión: 0.3033 | Tiempo total: 0.0006 s | Tiempo por recomendación: 0.0000 s\n",
      "HNSW  - Precisión: 0.9967 | Tiempo total: 0.0048 s | Tiempo por recomendación: 0.0002 s\n",
      "\n",
      "Ejemplo de recomendaciones para la primera consulta:\n",
      "L2   : [  6720  66615  69161  71080 137434  42290  17425  25521  82429 111461]\n",
      "IVFPQ: [  6720  66615  71080  69161  58065  74932  82429 111461 137434  39320]\n",
      "HNSW : [  6720  66615  69161  71080 137434  42290  17425  25521  82429 111461]\n"
     ]
    }
   ],
   "source": [
    "import numpy as np\n",
    "import faiss\n",
    "import time\n",
    "\n",
    "# Dimensiones de los embeddings\n",
    "d = 384  \n",
    "\n",
    "# Número de embeddings (películas)\n",
    "n = 141057\n",
    "\n",
    "embeddings\n",
    "\n",
    "# 🔹 Seleccionar 30 películas al azar para recomendar similares\n",
    "nq = 30  # Número de consultas\n",
    "query_indices = np.random.choice(n, nq, replace=False)  # Índices aleatorios de películas\n",
    "query_embeddings = embeddings[query_indices]  # Obtener los embeddings de esas películas\n",
    "\n",
    "# 🔹 **Índice FlatL2 (Ground Truth)**\n",
    "index_l2 = faiss.IndexFlatL2(d)\n",
    "index_l2.add(embeddings)\n",
    "\n",
    "# Buscar los 10 vecinos más cercanos con el índice exacto\n",
    "_, I_gt = index_l2.search(query_embeddings, k=10)\n",
    "\n",
    "# 🔹 **Índice 1: IVFPQ**\n",
    "nlist = 100  # Número de listas\n",
    "m = 16       # Número de divisiones\n",
    "n_bits = 8   # Bits por subvector\n",
    "\n",
    "quantizer = faiss.IndexFlatL2(d)\n",
    "index_ivfpq = faiss.IndexIVFPQ(quantizer, d, nlist, m, n_bits)\n",
    "index_ivfpq.train(embeddings)\n",
    "\n",
    "# Añadir embeddings en lotes\n",
    "batch_size = 10000\n",
    "for i in range(0, n, batch_size):\n",
    "    index_ivfpq.add(embeddings[i:i + batch_size])\n",
    "\n",
    "# 🔹 **Índice 2: HNSW**\n",
    "M = 128\n",
    "efConstruction = 397\n",
    "efSearch = 64\n",
    "\n",
    "index_hnsw = faiss.IndexHNSWFlat(d, M)\n",
    "index_hnsw.hnsw.efConstruction = efConstruction\n",
    "index_hnsw.hnsw.efSearch = efSearch\n",
    "\n",
    "# Añadir embeddings en lotes\n",
    "for i in range(0, n, batch_size):\n",
    "    index_hnsw.add(embeddings[i:i + batch_size])\n",
    "\n",
    "# 🔹 **Función para medir el tiempo de búsqueda**\n",
    "def search_and_measure(index, queries, k=10):\n",
    "    start_time = time.time()\n",
    "    _, I = index.search(queries, k)  # Buscar los K más similares\n",
    "    total_time = time.time() - start_time\n",
    "    avg_time_per_query = total_time / len(queries)\n",
    "    return I, total_time, avg_time_per_query\n",
    "\n",
    "# 🔹 **Buscar películas similares con IVFPQ**\n",
    "I_ivfpq, time_ivfpq, avg_time_ivfpq = search_and_measure(index_ivfpq, query_embeddings, k=10)\n",
    "\n",
    "# 🔹 **Buscar películas similares con HNSW**\n",
    "I_hnsw, time_hnsw, avg_time_hnsw = search_and_measure(index_hnsw, query_embeddings, k=10)\n",
    "\n",
    "# 🔹 **Función para calcular precisión**\n",
    "def precision_at_k(I_pred, I_gt, k=10):\n",
    "    correct = 0\n",
    "    for i in range(len(I_pred)):\n",
    "        correct += len(set(I_pred[i]) & set(I_gt[i])) / k\n",
    "    return correct / len(I_pred)\n",
    "\n",
    "# 🔹 **Calcular precisión**\n",
    "precision_ivfpq = precision_at_k(I_ivfpq, I_gt, k=10)\n",
    "precision_hnsw = precision_at_k(I_hnsw, I_gt, k=10)\n",
    "\n",
    "# 🔹 **Buscar películas similares con FlatL2**\n",
    "I_l2, time_l2, avg_time_l2 = search_and_measure(index_l2, query_embeddings, k=10)\n",
    "\n",
    "# 🔹 **Resultados**\n",
    "print(\"\\n🔹 Resultados de las 30 consultas:\")\n",
    "print(f\"L2    - Precisión: 1.0000 | Tiempo total: {time_l2:.4f} s | Tiempo por recomendación: {avg_time_l2:.4f} s\")\n",
    "print(f\"IVFPQ - Precisión: {precision_ivfpq:.4f} | Tiempo total: {time_ivfpq:.4f} s | Tiempo por recomendación: {avg_time_ivfpq:.4f} s\")\n",
    "print(f\"HNSW  - Precisión: {precision_hnsw:.4f} | Tiempo total: {time_hnsw:.4f} s | Tiempo por recomendación: {avg_time_hnsw:.4f} s\")\n",
    "\n",
    "# 🔹 **Mostrar algunas recomendaciones**\n",
    "print(\"\\nEjemplo de recomendaciones para la primera consulta:\")\n",
    "print(\"L2   :\", I_gt[0])\n",
    "print(\"IVFPQ:\", I_ivfpq[0])\n",
    "print(\"HNSW :\", I_hnsw[0])\n"
   ]
  },
  {
   "cell_type": "code",
   "execution_count": 33,
   "metadata": {},
   "outputs": [
    {
     "name": "stdout",
     "output_type": "stream",
     "text": [
      "\n",
      "🔹 Resultados de las 30 consultas:\n",
      "L2    - Precisión: 1.0000 | Tiempo total: 0.0528 s | Tiempo por recomendación: 0.0018 s\n",
      "IVFPQ - Precisión: 0.1500 | Tiempo total: 0.0000 s | Tiempo por recomendación: 0.0000 s\n",
      "HNSW  - Precisión: 0.9000 | Tiempo total: 0.0050 s | Tiempo por recomendación: 0.0002 s\n",
      "\n",
      "Ejemplo de recomendaciones para la primera consulta:\n",
      "L2   : [ 31391  79172 108204  22371  88525 118232  78155 107187  75444   7005]\n",
      "IVFPQ: [133667 101423 131055 137393  45367  19864  25717  14471  80115 124809]\n",
      "HNSW : [ 79172 108204  22371  88525 118232  78155 107187  75444   7005  42905]\n"
     ]
    }
   ],
   "source": [
    "import numpy as np\n",
    "import faiss\n",
    "import time\n",
    "\n",
    "# Dimensiones de los embeddings\n",
    "d = 384  \n",
    "\n",
    "# Número de embeddings (películas)\n",
    "n = 141057\n",
    "\n",
    "# Supongamos que ya tienes tus embeddings cargados\n",
    "# embeddings\n",
    "\n",
    "# 🔹 Seleccionar 30 películas al azar para recomendar similares\n",
    "nq = 30  # Número de consultas\n",
    "query_indices = np.random.choice(n, nq, replace=False)  # Índices aleatorios de películas\n",
    "query_embeddings = embeddings[query_indices]  # Obtener los embeddings de esas películas\n",
    "\n",
    "# 🔹 **Índice FlatL2 (Ground Truth)**\n",
    "index_l2 = faiss.IndexFlatL2(d)\n",
    "index_l2.add(embeddings)\n",
    "\n",
    "# Buscar los 10 vecinos más cercanos con el índice exacto\n",
    "_, I_gt = index_l2.search(query_embeddings, k=10)\n",
    "\n",
    "# 🔹 **Índice 1: IVFPQ**\n",
    "nlist = 100  # Número de listas\n",
    "m = 16       # Número de divisiones\n",
    "n_bits = 8   # Bits por subvector\n",
    "\n",
    "quantizer = faiss.IndexFlatL2(d)\n",
    "index_ivfpq = faiss.IndexIVFPQ(quantizer, d, nlist, m, n_bits)\n",
    "index_ivfpq.train(embeddings)\n",
    "\n",
    "# Añadir embeddings en lotes\n",
    "batch_size = 10000\n",
    "for i in range(0, n, batch_size):\n",
    "    index_ivfpq.add(embeddings[i:i + batch_size])\n",
    "\n",
    "# 🔹 **Índice 2: HNSW**\n",
    "M = 128\n",
    "efConstruction = 397\n",
    "efSearch = 64\n",
    "\n",
    "index_hnsw = faiss.IndexHNSWFlat(d, M)\n",
    "index_hnsw.hnsw.efConstruction = efConstruction\n",
    "index_hnsw.hnsw.efSearch = efSearch\n",
    "\n",
    "# Añadir embeddings en lotes\n",
    "for i in range(0, n, batch_size):\n",
    "    index_hnsw.add(embeddings[i:i + batch_size])\n",
    "\n",
    "# 🔹 **Función para medir el tiempo de búsqueda**\n",
    "def search_and_measure(index, queries, k=10):\n",
    "    start_time = time.time()\n",
    "    _, I = index.search(queries, k)  # Buscar los K más similares\n",
    "    total_time = time.time() - start_time\n",
    "    avg_time_per_query = total_time / len(queries)\n",
    "    return I, total_time, avg_time_per_query\n",
    "\n",
    "# 🔹 **Buscar películas similares con IVFPQ**\n",
    "I_ivfpq, time_ivfpq, avg_time_ivfpq = search_and_measure(index_ivfpq, query_embeddings, k=10)\n",
    "\n",
    "# 🔹 **Buscar películas similares con HNSW**\n",
    "I_hnsw, time_hnsw, avg_time_hnsw = search_and_measure(index_hnsw, query_embeddings, k=10)\n",
    "\n",
    "# 🔹 **Función para filtrar las recomendaciones y evitar las películas consultadas**\n",
    "def filter_recommendations(I, query_indices, k=10):\n",
    "    for i in range(len(I)):\n",
    "        # Filtrar las películas consultadas\n",
    "        filtered = [x for x in I[i] if x not in query_indices]\n",
    "        \n",
    "        # Si hay menos de k resultados después de filtrar, agregar más recomendaciones\n",
    "        remaining = k - len(filtered)\n",
    "        if remaining > 0:\n",
    "            additional_recommendations = np.random.choice(n, remaining, replace=False).tolist()  # Genera recomendaciones aleatorias\n",
    "            filtered += additional_recommendations  # Añadir las recomendaciones faltantes\n",
    "        \n",
    "        # Si después de todo esto aún no hay 10 recomendaciones, ajustamos el tamaño\n",
    "        I[i] = filtered[:k]  # Limitar a 10 recomendaciones\n",
    "\n",
    "    return I\n",
    "\n",
    "# 🔹 **Filtrar las recomendaciones**\n",
    "I_ivfpq = filter_recommendations(I_ivfpq, query_indices)\n",
    "I_hnsw = filter_recommendations(I_hnsw, query_indices)\n",
    "\n",
    "# 🔹 **Función para calcular precisión**\n",
    "def precision_at_k(I_pred, I_gt, k=10):\n",
    "    correct = 0\n",
    "    for i in range(len(I_pred)):\n",
    "        correct += len(set(I_pred[i]) & set(I_gt[i])) / k\n",
    "    return correct / len(I_pred)\n",
    "\n",
    "# 🔹 **Calcular precisión**\n",
    "precision_ivfpq = precision_at_k(I_ivfpq, I_gt, k=10)\n",
    "precision_hnsw = precision_at_k(I_hnsw, I_gt, k=10)\n",
    "\n",
    "# 🔹 **Buscar películas similares con FlatL2**\n",
    "I_l2, time_l2, avg_time_l2 = search_and_measure(index_l2, query_embeddings, k=10)\n",
    "\n",
    "# 🔹 **Resultados**\n",
    "print(\"\\n🔹 Resultados de las 30 consultas:\")\n",
    "print(f\"L2    - Precisión: 1.0000 | Tiempo total: {time_l2:.4f} s | Tiempo por recomendación: {avg_time_l2:.4f} s\")\n",
    "print(f\"IVFPQ - Precisión: {precision_ivfpq:.4f} | Tiempo total: {time_ivfpq:.4f} s | Tiempo por recomendación: {avg_time_ivfpq:.4f} s\")\n",
    "print(f\"HNSW  - Precisión: {precision_hnsw:.4f} | Tiempo total: {time_hnsw:.4f} s | Tiempo por recomendación: {avg_time_hnsw:.4f} s\")\n",
    "\n",
    "# 🔹 **Mostrar algunas recomendaciones**\n",
    "print(\"\\nEjemplo de recomendaciones para la primera consulta:\")\n",
    "print(\"L2   :\", I_gt[0])\n",
    "print(\"IVFPQ:\", I_ivfpq[0])\n",
    "print(\"HNSW :\", I_hnsw[0])\n"
   ]
  },
  {
   "cell_type": "code",
   "execution_count": 9,
   "metadata": {},
   "outputs": [
    {
     "name": "stdout",
     "output_type": "stream",
     "text": [
      "Índice HNSW guardado como 'index_hnsw.idx'\n"
     ]
    }
   ],
   "source": [
    "# Dimensiones de los embeddings (d)\n",
    "d = 384\n",
    "\n",
    "# Número de embeddings (n)\n",
    "n = 141057\n",
    "\n",
    "# Asume que 'embeddings' es tu matriz de vectores (películas)\n",
    "# embeddings = ...\n",
    "\n",
    "# Hiperparámetros de HNSW\n",
    "M = 128           # Número de conexiones por capa\n",
    "efConstruction = 397  # Parámetro para la construcción del índice (cuanto mayor, mejor precisión pero más lento)\n",
    "efSearch = 64      # Parámetro para la búsqueda (cuanto mayor, más preciso)\n",
    "\n",
    "# Crear el índice HNSW\n",
    "index_hnsw = faiss.IndexHNSWFlat(d, M)\n",
    "index_hnsw.hnsw.efConstruction = efConstruction\n",
    "index_hnsw.hnsw.efSearch = efSearch\n",
    "\n",
    "# Añadir los embeddings al índice\n",
    "index_hnsw.add(embeddings)\n",
    "\n",
    "# Guardar el índice en un archivo\n",
    "faiss.write_index(index_hnsw, 'index_hnsw.idx')\n",
    "\n",
    "print(\"Índice HNSW guardado como 'index_hnsw.idx'\")\n"
   ]
  }
 ],
 "metadata": {
  "kernelspec": {
   "display_name": "Python 3",
   "language": "python",
   "name": "python3"
  },
  "language_info": {
   "codemirror_mode": {
    "name": "ipython",
    "version": 3
   },
   "file_extension": ".py",
   "mimetype": "text/x-python",
   "name": "python",
   "nbconvert_exporter": "python",
   "pygments_lexer": "ipython3",
   "version": "3.10.0"
  }
 },
 "nbformat": 4,
 "nbformat_minor": 2
}
