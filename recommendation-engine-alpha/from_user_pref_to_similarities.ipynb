{
 "cells": [
  {
   "cell_type": "markdown",
   "metadata": {},
   "source": [
    "### Environmental Variables"
   ]
  },
  {
   "cell_type": "code",
   "execution_count": 2,
   "metadata": {},
   "outputs": [],
   "source": [
    "import ast\n",
    "import boto3\n",
    "import firebase_admin\n",
    "import json\n",
    "import numpy as np\n",
    "import os\n",
    "import pandas as pd\n",
    "import requests\n",
    "import time\n",
    "import torch\n",
    "import torch.nn.functional as F\n",
    "import vertexai\n",
    "from botocore.exceptions import ClientError\n",
    "from decimal import Decimal\n",
    "from dotenv import load_dotenv\n",
    "from firebase_admin import credentials, firestore\n",
    "from google.cloud import storage\n",
    "from requests.exceptions import ReadTimeout\n",
    "from sklearn.metrics.pairwise import cosine_similarity\n",
    "from transformers import AutoTokenizer, AutoModel\n",
    "from vertexai.language_models import TextEmbeddingModel"
   ]
  },
  {
   "cell_type": "code",
   "execution_count": 3,
   "metadata": {},
   "outputs": [],
   "source": [
    "# uploading the environment variables and get the API key\n",
    "load_dotenv()\n",
    "AWS_ACCESS_KEY = os.getenv(\"AWS_ACCESS_KEY\")\n",
    "AWS_SECRET_KEY = os.getenv(\"AWS_SECRET_KEY\")\n",
    "\n",
    "# Asegurar que Vertex AI use las credenciales correctas\n",
    "os.environ[\"GOOGLE_APPLICATION_CREDENTIALS\"] = \"../../../bubbo-dfba0-47e395cdcdc7.json\"\n",
    "\n",
    "BUCKET_NAME = 'embeddings_bucket_backup'\n",
    "storage_client = storage.Client()\n",
    "bucket = storage_client.bucket(BUCKET_NAME)\n"
   ]
  },
  {
   "cell_type": "code",
   "execution_count": 4,
   "metadata": {},
   "outputs": [],
   "source": [
    "# Ruta a las credenciales de Firebase para la app principal\n",
    "cred_default_path = \"../../../bubbo-dfba0-47e395cdcdc7.json\"\n",
    "\n",
    "# Inicializar Firebase\n",
    "if not firebase_admin._apps:\n",
    "    # Inicializar la app por defecto\n",
    "    cred_default = credentials.Certificate(cred_default_path)\n",
    "    default_app = firebase_admin.initialize_app(cred_default, name=\"default\")\n",
    "\n",
    "# Conectar Firestore con la app inicializada\n",
    "db = firestore.client(app=default_app)  \n",
    "collection_Data_EN = db.collection('Data_EN') \n",
    "collection_Genres_DB = db.collection('Genres_DB') "
   ]
  },
  {
   "cell_type": "code",
   "execution_count": 5,
   "metadata": {},
   "outputs": [],
   "source": [
    "# Inicializar Vertex AI\n",
    "PROJECT_ID = \"bubbo-dfba0\"\n",
    "REGION = \"us-central1\"  # Región donde está alojado el servicio\n",
    "MODEL_ID = \"text-multilingual-embedding-002\"\n",
    "\n",
    "vertexai.init(project=PROJECT_ID, location=REGION)\n",
    "\n",
    "# 🔹 4. Cargar modelo de embeddings\n",
    "model = TextEmbeddingModel.from_pretrained(MODEL_ID)"
   ]
  },
  {
   "cell_type": "markdown",
   "metadata": {},
   "source": [
    "# User Preferences CONTENT"
   ]
  },
  {
   "cell_type": "markdown",
   "metadata": {},
   "source": [
    "### Extracción de Datos de user_preference (por el momento de dynamodb)"
   ]
  },
  {
   "cell_type": "code",
   "execution_count": 6,
   "metadata": {},
   "outputs": [],
   "source": [
    "# To get the info from DynamoDB, user preferences\n",
    "CONFIG = {\n",
    "    'aws': {\n",
    "        'access_key': AWS_ACCESS_KEY,\n",
    "        'secret_key': AWS_SECRET_KEY,\n",
    "        'region': 'eu-west-3',\n",
    "        'table': 'User-7kkcm5dn2rb77hst5nh7gbdisa-staging'\n",
    "    },\n",
    "    'columns': ['userId', 'favoriteMoviesIds', 'favoriteGenresIds', 'favoriteSeriesIds'],\n",
    "}\n",
    "\n",
    "# conexion\n",
    "session = boto3.Session(\n",
    "    aws_access_key_id=CONFIG['aws']['access_key'],\n",
    "    aws_secret_access_key=CONFIG['aws']['secret_key'],\n",
    "    region_name=CONFIG['aws']['region']\n",
    ")\n",
    "\n",
    "table = session.resource('dynamodb').Table(CONFIG['aws']['table'])\n",
    "\n",
    "# Values to String\n",
    "def _process_value(value):\n",
    "    if isinstance(value, Decimal):\n",
    "        return str(int(value))\n",
    "    return str(value)\n",
    "\n",
    "# Retrive info from DynamoDB and gets a DataFrame\n",
    "def fetch_preferences():\n",
    "    try:\n",
    "        items = []\n",
    "        start_key = None\n",
    "\n",
    "        while True:\n",
    "            # scan with defined 'columns'  in previous 'CONFIG'\n",
    "            scan_params = {\n",
    "                'ProjectionExpression': ', '.join(CONFIG['columns'])\n",
    "            }\n",
    "            if start_key:\n",
    "                scan_params['ExclusiveStartKey'] = start_key\n",
    "\n",
    "            response = table.scan(**scan_params)\n",
    "            items.extend(response.get('Items', []))\n",
    "\n",
    "            # check for next pages\n",
    "            start_key = response.get('LastEvaluatedKey')\n",
    "            if not start_key:\n",
    "                break\n",
    "\n",
    "        # data extracted processing\n",
    "        processed_data = [{\n",
    "            'userId': _process_value(item.get('userId', '')),\n",
    "            'favoriteMoviesIds': ';'.join(map(_process_value, item.get('favoriteMoviesIds', []))),     \n",
    "            'favoriteGenresIds': ';'.join(map(_process_value, item.get('favoriteGenresIds', []))),\n",
    "            'favoriteSeriesIds': ';'.join(map(_process_value, item.get('favoriteSeriesIds', [])))\n",
    "        } for item in items]\n",
    "\n",
    "        df = pd.DataFrame(processed_data)\n",
    "        return df\n",
    "\n",
    "    except ClientError as e:\n",
    "        print(f\"Error al conectar con DynamoDB: {e}\")\n",
    "        return pd.DataFrame()\n",
    "\n",
    "# calling function to get the df\n",
    "user_pref = fetch_preferences()\n"
   ]
  },
  {
   "cell_type": "code",
   "execution_count": null,
   "metadata": {},
   "outputs": [],
   "source": [
    "# Para resetear sin tener que consultar dynamo de nuevo\n",
    "#user_pref_aux = user_pref\n",
    "user_pref = user_pref_aux"
   ]
  },
  {
   "cell_type": "markdown",
   "metadata": {},
   "source": [
    "### Transforming 'user_pref' to our purposes"
   ]
  },
  {
   "cell_type": "code",
   "execution_count": 8,
   "metadata": {},
   "outputs": [],
   "source": [
    "# limpio el dataframe dejando solo users con genero, movie_favs y tvshow_favs\n",
    "user_pref = user_pref[user_pref['userId'].str.len()==36]\n",
    "user_pref = user_pref.replace(\"\",pd.NA)\n",
    "user_pref = user_pref.dropna()             \n",
    "user_pref.reset_index(inplace=True,drop=True)"
   ]
  },
  {
   "cell_type": "code",
   "execution_count": 9,
   "metadata": {},
   "outputs": [],
   "source": [
    "# extraigo algunos para probar luego\n",
    "user_random_list = user_pref['userId'].sample(15,random_state=420)\n"
   ]
  },
  {
   "cell_type": "code",
   "execution_count": 10,
   "metadata": {},
   "outputs": [
    {
     "data": {
      "text/plain": [
       "'01b900ce-b071-7059-6adf-05f64709f92e'"
      ]
     },
     "execution_count": 10,
     "metadata": {},
     "output_type": "execute_result"
    }
   ],
   "source": [
    "# extraigo uno solo que variará en las prubas\n",
    "random_user = user_random_list.sample(1).iloc[0]\n",
    "random_user"
   ]
  },
  {
   "cell_type": "code",
   "execution_count": 11,
   "metadata": {},
   "outputs": [
    {
     "data": {
      "text/html": [
       "<div>\n",
       "<style scoped>\n",
       "    .dataframe tbody tr th:only-of-type {\n",
       "        vertical-align: middle;\n",
       "    }\n",
       "\n",
       "    .dataframe tbody tr th {\n",
       "        vertical-align: top;\n",
       "    }\n",
       "\n",
       "    .dataframe thead th {\n",
       "        text-align: right;\n",
       "    }\n",
       "</style>\n",
       "<table border=\"1\" class=\"dataframe\">\n",
       "  <thead>\n",
       "    <tr style=\"text-align: right;\">\n",
       "      <th></th>\n",
       "      <th>userId</th>\n",
       "      <th>favoriteMoviesIds</th>\n",
       "      <th>favoriteGenresIds</th>\n",
       "      <th>favoriteSeriesIds</th>\n",
       "    </tr>\n",
       "  </thead>\n",
       "  <tbody>\n",
       "    <tr>\n",
       "      <th>3929</th>\n",
       "      <td>01b900ce-b071-7059-6adf-05f64709f92e</td>\n",
       "      <td>155;19995;293660;24428;118340</td>\n",
       "      <td>9648;10749;27;18;80;16;10762;10770;10766;10767...</td>\n",
       "      <td>93405;85271;1416;456;119051</td>\n",
       "    </tr>\n",
       "    <tr>\n",
       "      <th>4697</th>\n",
       "      <td>01b900ce-b071-7059-6adf-05f64709f92e</td>\n",
       "      <td>27205;155;19995;293660;24428</td>\n",
       "      <td>10749;18;12;10759;28;9648;14;10765;27</td>\n",
       "      <td>93405;85271;84958;1416;18165</td>\n",
       "    </tr>\n",
       "  </tbody>\n",
       "</table>\n",
       "</div>"
      ],
      "text/plain": [
       "                                    userId              favoriteMoviesIds  \\\n",
       "3929  01b900ce-b071-7059-6adf-05f64709f92e  155;19995;293660;24428;118340   \n",
       "4697  01b900ce-b071-7059-6adf-05f64709f92e   27205;155;19995;293660;24428   \n",
       "\n",
       "                                      favoriteGenresIds  \\\n",
       "3929  9648;10749;27;18;80;16;10762;10770;10766;10767...   \n",
       "4697              10749;18;12;10759;28;9648;14;10765;27   \n",
       "\n",
       "                 favoriteSeriesIds  \n",
       "3929   93405;85271;1416;456;119051  \n",
       "4697  93405;85271;84958;1416;18165  "
      ]
     },
     "execution_count": 11,
     "metadata": {},
     "output_type": "execute_result"
    }
   ],
   "source": [
    "user_updating_preferences = user_pref[user_pref['userId']== f'{random_user}'].head()\n",
    "user_updating_preferences"
   ]
  },
  {
   "cell_type": "code",
   "execution_count": 12,
   "metadata": {},
   "outputs": [
    {
     "data": {
      "text/html": [
       "<div>\n",
       "<style scoped>\n",
       "    .dataframe tbody tr th:only-of-type {\n",
       "        vertical-align: middle;\n",
       "    }\n",
       "\n",
       "    .dataframe tbody tr th {\n",
       "        vertical-align: top;\n",
       "    }\n",
       "\n",
       "    .dataframe thead th {\n",
       "        text-align: right;\n",
       "    }\n",
       "</style>\n",
       "<table border=\"1\" class=\"dataframe\">\n",
       "  <thead>\n",
       "    <tr style=\"text-align: right;\">\n",
       "      <th></th>\n",
       "      <th>userId</th>\n",
       "      <th>favoriteMoviesIds</th>\n",
       "      <th>favoriteGenresIds</th>\n",
       "      <th>favoriteSeriesIds</th>\n",
       "    </tr>\n",
       "  </thead>\n",
       "  <tbody>\n",
       "    <tr>\n",
       "      <th>0</th>\n",
       "      <td>6119d08e-6071-70d7-0018-d3eaf3ceb928</td>\n",
       "      <td>1003996;10028000;1001595;299534;597</td>\n",
       "      <td>28;10759;80;10402;9648;99;10764;10763;27;10751</td>\n",
       "      <td>1002156;100477;10002349;1402;93405</td>\n",
       "    </tr>\n",
       "  </tbody>\n",
       "</table>\n",
       "</div>"
      ],
      "text/plain": [
       "                                 userId                    favoriteMoviesIds  \\\n",
       "0  6119d08e-6071-70d7-0018-d3eaf3ceb928  1003996;10028000;1001595;299534;597   \n",
       "\n",
       "                                favoriteGenresIds  \\\n",
       "0  28;10759;80;10402;9648;99;10764;10763;27;10751   \n",
       "\n",
       "                    favoriteSeriesIds  \n",
       "0  1002156;100477;10002349;1402;93405  "
      ]
     },
     "execution_count": 12,
     "metadata": {},
     "output_type": "execute_result"
    }
   ],
   "source": [
    "# Solo para probar con un usuario existente pero inventando el onboarding para que matchee\n",
    "# con algunos los embeddings que exiten ya en el bucket (borrar esto luego de que el bucket de \n",
    "# embeddings esté completo)\n",
    "\n",
    "user_updating_preferences = pd.DataFrame([{\n",
    "    \"userId\": \"6119d08e-6071-70d7-0018-d3eaf3ceb928\",\n",
    "    \"favoriteMoviesIds\": \"1003996;10028000;1001595;299534;597\",\n",
    "    \"favoriteGenresIds\": \"28;10759;80;10402;9648;99;10764;10763;27;10751\",\n",
    "    \"favoriteSeriesIds\": \"1002156;100477;10002349;1402;93405\"\n",
    "}])\n",
    "\n",
    "user_updating_preferences\n"
   ]
  },
  {
   "cell_type": "code",
   "execution_count": 13,
   "metadata": {},
   "outputs": [],
   "source": [
    "# convertir los valores en listas para expandirlos con explode\n",
    "user_updating_preferences['favoriteGenresIds'] = user_updating_preferences['favoriteGenresIds'].apply(lambda x: x.split(';'))\n",
    "user_updating_preferences['favoriteMoviesIds'] = user_updating_preferences['favoriteMoviesIds'].apply(lambda x: x.split(';'))\n",
    "user_updating_preferences['favoriteSeriesIds'] = user_updating_preferences['favoriteSeriesIds'].apply(lambda x: x.split(';'))\n",
    "\n",
    "# expandir preferencias de favoriteMoviesIds, favoriteGenresIds, y favoriteSeriesIds por userId\n",
    "user_fav_genres = user_updating_preferences[['userId','favoriteGenresIds']].explode('favoriteGenresIds')\n",
    "user_fav_movies = user_updating_preferences[['userId','favoriteMoviesIds']].explode('favoriteMoviesIds')\n",
    "user_fav_series = user_updating_preferences[['userId','favoriteSeriesIds']].explode('favoriteSeriesIds')\n",
    "\n",
    "# IDs únicos que necesitamos traer desde el bucket de embeddings\n",
    "movie_ids = user_fav_movies['favoriteMoviesIds'].dropna().unique().tolist()\n",
    "series_ids = user_fav_series['favoriteSeriesIds'].dropna().unique().tolist()\n"
   ]
  },
  {
   "cell_type": "code",
   "execution_count": 14,
   "metadata": {},
   "outputs": [],
   "source": [
    "# Traer solo los json que necesito\n",
    "user_fav_movies_embeddings = []\n",
    "user_fav_series_embeddings = []\n",
    "blobs = list(bucket.list_blobs())\n",
    "\n",
    "# Busco las coincidencias entre los ID preferidos del usuario y el contenido del bucket\n",
    "movies_matching_blobs = [blob for blob in blobs if blob.name.removesuffix('.json') in movie_ids]\n",
    "series_matching_blobs = [blob for blob in blobs if blob.name.removesuffix('.json') in series_ids]\n",
    "\n",
    "def getting_matching_blobs(matching_blobs, example_data):\n",
    "    for blob in matching_blobs:\n",
    "        content = blob.download_as_text()  # Descarga el contenido del JSON como string\n",
    "        blob_data = json.loads(content)  # Convierte el JSON a diccionario\n",
    "        \n",
    "        # Extraemos solo los campos que necesitamos ('ID' y 'embedding')\n",
    "        filtered_data = {\n",
    "            'ID': blob.name.removesuffix('.json'),\n",
    "            'embedding': blob_data.get('embedding')  # Usamos get() para evitar KeyError si no existe 'embedding'\n",
    "        }\n",
    "        \n",
    "        # Convertimos los datos filtrados en un DataFrame y concatenamos\n",
    "        filtered_df = pd.DataFrame([filtered_data])  # Crear un DataFrame temporal\n",
    "        example_data = pd.concat([example_data, filtered_df], ignore_index=True)  # Concatenamos\n",
    "        \n",
    "    return example_data  # Retornamos el DataFrame actualizado\n",
    "\n",
    "# Inicializamos los DataFrames vacíos\n",
    "user_fav_movies_embeddings = pd.DataFrame(columns=['ID', 'embedding'])\n",
    "user_fav_series_embeddings = pd.DataFrame(columns=['ID', 'embedding'])\n",
    "\n",
    "# Llamamos a la función para procesar los datos\n",
    "user_fav_movies_embeddings = getting_matching_blobs(movies_matching_blobs, user_fav_movies_embeddings)\n",
    "user_fav_series_embeddings = getting_matching_blobs(series_matching_blobs, user_fav_series_embeddings)\n",
    "\n",
    "# Concatenar las listas de películas y series (VER SI LO BORRO O NO)\n",
    "user_updating_preferences_data = pd.concat([user_fav_movies_embeddings, user_fav_series_embeddings], ignore_index=True)\n"
   ]
  },
  {
   "cell_type": "code",
   "execution_count": 15,
   "metadata": {},
   "outputs": [
    {
     "data": {
      "text/html": [
       "<div>\n",
       "<style scoped>\n",
       "    .dataframe tbody tr th:only-of-type {\n",
       "        vertical-align: middle;\n",
       "    }\n",
       "\n",
       "    .dataframe tbody tr th {\n",
       "        vertical-align: top;\n",
       "    }\n",
       "\n",
       "    .dataframe thead th {\n",
       "        text-align: right;\n",
       "    }\n",
       "</style>\n",
       "<table border=\"1\" class=\"dataframe\">\n",
       "  <thead>\n",
       "    <tr style=\"text-align: right;\">\n",
       "      <th></th>\n",
       "      <th>ID</th>\n",
       "      <th>embedding</th>\n",
       "    </tr>\n",
       "  </thead>\n",
       "  <tbody>\n",
       "    <tr>\n",
       "      <th>0</th>\n",
       "      <td>1001595</td>\n",
       "      <td>[-0.006456031929701567, 0.007282349746674299, ...</td>\n",
       "    </tr>\n",
       "    <tr>\n",
       "      <th>1</th>\n",
       "      <td>10028000</td>\n",
       "      <td>[-0.018329104408621788, -0.027649477124214172,...</td>\n",
       "    </tr>\n",
       "    <tr>\n",
       "      <th>2</th>\n",
       "      <td>1003996</td>\n",
       "      <td>[-0.005377643741667271, 0.036034710705280304, ...</td>\n",
       "    </tr>\n",
       "    <tr>\n",
       "      <th>3</th>\n",
       "      <td>10002349</td>\n",
       "      <td>[-0.034691113978624344, 0.042049847543239594, ...</td>\n",
       "    </tr>\n",
       "    <tr>\n",
       "      <th>4</th>\n",
       "      <td>1002156</td>\n",
       "      <td>[-0.010540147311985493, -0.01704169251024723, ...</td>\n",
       "    </tr>\n",
       "    <tr>\n",
       "      <th>5</th>\n",
       "      <td>100477</td>\n",
       "      <td>[-0.06357842683792114, -0.005006975494325161, ...</td>\n",
       "    </tr>\n",
       "  </tbody>\n",
       "</table>\n",
       "</div>"
      ],
      "text/plain": [
       "         ID                                          embedding\n",
       "0   1001595  [-0.006456031929701567, 0.007282349746674299, ...\n",
       "1  10028000  [-0.018329104408621788, -0.027649477124214172,...\n",
       "2   1003996  [-0.005377643741667271, 0.036034710705280304, ...\n",
       "3  10002349  [-0.034691113978624344, 0.042049847543239594, ...\n",
       "4   1002156  [-0.010540147311985493, -0.01704169251024723, ...\n",
       "5    100477  [-0.06357842683792114, -0.005006975494325161, ..."
      ]
     },
     "execution_count": 15,
     "metadata": {},
     "output_type": "execute_result"
    }
   ],
   "source": [
    "user_updating_preferences_data"
   ]
  },
  {
   "cell_type": "markdown",
   "metadata": {},
   "source": [
    "# Working with Similarities (FROM HERE IS OLD! Must be re-done)"
   ]
  },
  {
   "cell_type": "code",
   "execution_count": null,
   "metadata": {},
   "outputs": [
    {
     "ename": "IndentationError",
     "evalue": "unexpected indent (1802731378.py, line 3)",
     "output_type": "error",
     "traceback": [
      "\u001b[1;36m  Cell \u001b[1;32mIn[16], line 3\u001b[1;36m\u001b[0m\n\u001b[1;33m    PROJECT_ID = \"tu-proyecto-id\"\u001b[0m\n\u001b[1;37m    ^\u001b[0m\n\u001b[1;31mIndentationError\u001b[0m\u001b[1;31m:\u001b[0m unexpected indent\n"
     ]
    }
   ],
   "source": []
  },
  {
   "cell_type": "markdown",
   "metadata": {},
   "source": [
    "### Movies Similarities "
   ]
  },
  {
   "cell_type": "code",
   "execution_count": null,
   "metadata": {},
   "outputs": [
    {
     "ename": "NameError",
     "evalue": "name 'all_embeddings_dict' is not defined",
     "output_type": "error",
     "traceback": [
      "\u001b[1;31m---------------------------------------------------------------------------\u001b[0m",
      "\u001b[1;31mNameError\u001b[0m                                 Traceback (most recent call last)",
      "Cell \u001b[1;32mIn[163], line 4\u001b[0m\n\u001b[0;32m      1\u001b[0m \u001b[38;5;66;03m### >>>>>> NO CORRER ESTA CELDA EN LOCAL PORQUE PUEDE DEMORAR HORAS <<<<<<<< ###\u001b[39;00m\n\u001b[0;32m      2\u001b[0m \n\u001b[0;32m      3\u001b[0m \u001b[38;5;66;03m# Convertir los embeddings a arrays de numpy para cálculos más rápidos\u001b[39;00m\n\u001b[1;32m----> 4\u001b[0m all_embeddings_from_filtered_data_array \u001b[38;5;241m=\u001b[39m np\u001b[38;5;241m.\u001b[39marray(\u001b[38;5;28mlist\u001b[39m(\u001b[43mall_embeddings_dict\u001b[49m\u001b[38;5;241m.\u001b[39mvalues()))\n\u001b[0;32m      6\u001b[0m \u001b[38;5;66;03m# Diccionarios para almacenar las recomendaciones\u001b[39;00m\n\u001b[0;32m      7\u001b[0m movies_recommendations_dict \u001b[38;5;241m=\u001b[39m {}\n",
      "\u001b[1;31mNameError\u001b[0m: name 'all_embeddings_dict' is not defined"
     ]
    }
   ],
   "source": [
    "### >>>>>> NO CORRER ESTA CELDA EN LOCAL PORQUE PUEDE DEMORAR HORAS <<<<<<<< ###\n",
    "\n",
    "# Convertir los embeddings a arrays de numpy para cálculos más rápidos\n",
    "all_embeddings_from_filtered_data_array = np.array(list(all_embeddings_dict.values()))\n",
    "\n",
    "# Diccionarios para almacenar las recomendaciones\n",
    "movies_recommendations_dict = {}\n",
    "\n",
    "# Obtener recomendaciones para cada usuario en movies_embeddings_dict\n",
    "for user_id, user_embedding in movies_embeddings_dict.items():\n",
    "    user_embedding_array = np.array(user_embedding).reshape(1, -1)  # Asegurar la forma correcta\n",
    "    movies_content_similarities = cosine_similarity(user_embedding_array, all_embeddings_from_filtered_data_array).flatten()\n",
    "    \n",
    "    # Ordenar por similitud y seleccionar el top-10\n",
    "    movies_most_similar_indexes = movies_content_similarities.argsort()[::-1][:10]\n",
    "    \n",
    "    # Convertir los índices en IDs reales\n",
    "    movies_recommended_ids = [filtered_data.iloc[i]['ID'] for i in movies_most_similar_indexes]\n",
    "    \n",
    "    # Guardar en el diccionario\n",
    "    movies_recommendations_dict[user_id] = movies_recommended_ids\n",
    "\n",
    "\n",
    "# Mostrar ejemplos\n",
    "print(\"Ejemplo de recomendaciones para un usuario en Movies:\")\n",
    "example_user = list(movies_recommendations_dict.keys())[0]\n",
    "print(f\"Usuario: {example_user} - Recomendaciones: {movies_recommendations_dict[example_user]}\")\n",
    "\n",
    "\n"
   ]
  },
  {
   "cell_type": "markdown",
   "metadata": {},
   "source": [
    "### Tv Shows (Series) Similarities"
   ]
  },
  {
   "cell_type": "code",
   "execution_count": null,
   "metadata": {},
   "outputs": [],
   "source": [
    "### >>>>>> NO CORRER ESTA CELDA EN LOCAL PORQUE PUEDE DEMORAR HORAS <<<<<<<< ###\n",
    "# dict para las recomendaciones\n",
    "series_recommendations_dict = {}\n",
    "\n",
    "number_target_series_recommend = 25\n",
    "\n",
    "# recommend's para cada usuario en series_embeddings_dict\n",
    "for user_id, user_embedding in series_embeddings_dict.items():\n",
    "    user_embedding_array = np.array(user_embedding).reshape(1, -1)  # Asegurar la forma correcta\n",
    "    series_content_similarities = cosine_similarity(user_embedding_array, all_embeddings_from_filtered_data_array).flatten()\n",
    "    \n",
    "    # orden por similitud y top-goal\n",
    "    series_most_similar_indexes = series_content_similarities.argsort()[::-1][:number_target_series_recommend]\n",
    "    \n",
    "    # paso los indices a IDs reales\n",
    "    series_recommended_ids = [filtered_data.iloc[i]['ID'] for i in series_most_similar_indexes]\n",
    "    \n",
    "    # Guardar en el diccionario\n",
    "    series_recommendations_dict[user_id] = series_recommended_ids\n",
    "\n",
    "# Mostrar ejemplos\n",
    "print(\"\\nEjemplo de recomendaciones para un usuario en Series:\")\n",
    "example_user = list(series_recommendations_dict.keys())[0]\n",
    "print(f\"Usuario: {example_user} - Recomendaciones: {series_recommendations_dict[example_user]}\")\n"
   ]
  },
  {
   "cell_type": "markdown",
   "metadata": {},
   "source": [
    "# Recomendations"
   ]
  },
  {
   "cell_type": "code",
   "execution_count": null,
   "metadata": {},
   "outputs": [],
   "source": [
    "# guardo\n",
    "with open(\"movies_recommendations.json\", \"w\") as f:\n",
    "    json.dump(movies_recommendations_dict, f, indent=4)\n",
    "\n",
    "with open(\"series_recommendations.json\", \"w\") as f:\n",
    "    json.dump(series_recommendations_dict, f, indent=4)\n",
    "\n",
    "print(\"Recomendaciones guardadas en JSON\")\n"
   ]
  }
 ],
 "metadata": {
  "kernelspec": {
   "display_name": "Python 3",
   "language": "python",
   "name": "python3"
  },
  "language_info": {
   "codemirror_mode": {
    "name": "ipython",
    "version": 3
   },
   "file_extension": ".py",
   "mimetype": "text/x-python",
   "name": "python",
   "nbconvert_exporter": "python",
   "pygments_lexer": "ipython3",
   "version": "3.12.5"
  }
 },
 "nbformat": 4,
 "nbformat_minor": 2
}
