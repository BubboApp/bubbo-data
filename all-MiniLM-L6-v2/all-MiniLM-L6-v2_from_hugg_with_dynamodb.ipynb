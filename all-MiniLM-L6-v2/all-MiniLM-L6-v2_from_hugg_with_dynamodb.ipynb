{
 "cells": [
  {
   "cell_type": "code",
   "execution_count": 2,
   "metadata": {},
   "outputs": [],
   "source": [
    "import ast\n",
    "import boto3\n",
    "import json\n",
    "import math\n",
    "import numpy as np\n",
    "import os\n",
    "import pandas as pd\n",
    "import requests\n",
    "import time\n",
    "import torch\n",
    "import torch.nn.functional as F\n",
    "\n",
    "from botocore.exceptions import ClientError\n",
    "from decimal import Decimal\n",
    "from dotenv import load_dotenv\n",
    "from sklearn.metrics.pairwise import cosine_similarity\n",
    "from transformers import AutoTokenizer, AutoModel\n",
    "#from torch.nn.functional import cosine_similarity"
   ]
  },
  {
   "cell_type": "code",
   "execution_count": 3,
   "metadata": {},
   "outputs": [],
   "source": [
    "# uploading the environment variables and get the API key\n",
    "load_dotenv()\n",
    "HUGGINGFACE_API_KEY = os.getenv(\"HUGGINGFACE_API_KEY\")\n",
    "AWS_ACCESS_KEY = os.getenv(\"AWS_ACCESS_KEY\")\n",
    "AWS_SECRET_KEY = os.getenv(\"AWS_SECRET_KEY\")"
   ]
  },
  {
   "cell_type": "markdown",
   "metadata": {},
   "source": [
    "### Content Data from FireBase (remains missing the conextion to firebase collection)"
   ]
  },
  {
   "cell_type": "code",
   "execution_count": null,
   "metadata": {},
   "outputs": [
    {
     "name": "stderr",
     "output_type": "stream",
     "text": [
      "C:\\Program Files\\KMSpico\\temp\\ipykernel_9272\\3221854888.py:2: DtypeWarning: Columns (0) have mixed types. Specify dtype option on import or set low_memory=False.\n",
      "  filtered_data = pd.read_csv(r'content_data_from_firebase.csv',sep=',')\n"
     ]
    }
   ],
   "source": [
    "# From FireBase\n",
    "filtered_data = pd.read_csv(r'content_data_from_firebase.csv',sep=',')\n",
    "filtered_data = pd.DataFrame(filtered_data)"
   ]
  },
  {
   "cell_type": "code",
   "execution_count": null,
   "metadata": {},
   "outputs": [
    {
     "name": "stdout",
     "output_type": "stream",
     "text": [
      "<class 'pandas.core.frame.DataFrame'>\n",
      "Index: 254998 entries, 0 to 264264\n",
      "Data columns (total 8 columns):\n",
      " #   Column        Non-Null Count   Dtype \n",
      "---  ------        --------------   ----- \n",
      " 0   ID            254998 non-null  object\n",
      " 1   Genre         254998 non-null  object\n",
      " 2   CleanTitle    254998 non-null  object\n",
      " 3   Synopsis      254998 non-null  object\n",
      " 4   Directors     254998 non-null  object\n",
      " 5   Cast          254998 non-null  object\n",
      " 6   Type          254998 non-null  object\n",
      " 7   PlatformName  254998 non-null  object\n",
      "dtypes: object(8)\n",
      "memory usage: 17.5+ MB\n"
     ]
    }
   ],
   "source": [
    "filtered_data = filtered_data.replace(\"\",pd.NA)\n",
    "filtered_data = filtered_data.dropna()\n",
    "filtered_data = filtered_data.drop_duplicates()\n",
    "filtered_data.info()"
   ]
  },
  {
   "cell_type": "markdown",
   "metadata": {},
   "source": [
    "### User Preferences from DynamoDB"
   ]
  },
  {
   "cell_type": "code",
   "execution_count": 9,
   "metadata": {},
   "outputs": [],
   "source": [
    "# To get the info from DynamoDB, user preferences\n",
    "CONFIG = {\n",
    "    'aws': {\n",
    "        'access_key': AWS_ACCESS_KEY,\n",
    "        'secret_key': AWS_SECRET_KEY,\n",
    "        'region': 'eu-west-3',\n",
    "        'table': 'User-7kkcm5dn2rb77hst5nh7gbdisa-staging'\n",
    "    },\n",
    "    'columns': ['userId', 'favoriteMoviesIds', 'favoriteGenresIds', 'favoriteSeriesIds'],\n",
    "}\n",
    "\n",
    "# conexion\n",
    "session = boto3.Session(\n",
    "    aws_access_key_id=CONFIG['aws']['access_key'],\n",
    "    aws_secret_access_key=CONFIG['aws']['secret_key'],\n",
    "    region_name=CONFIG['aws']['region']\n",
    ")\n",
    "\n",
    "table = session.resource('dynamodb').Table(CONFIG['aws']['table'])\n",
    "\n",
    "# Values to String\n",
    "def _process_value(value):\n",
    "    if isinstance(value, Decimal):\n",
    "        return str(int(value))\n",
    "    return str(value)\n",
    "\n",
    "# Retrive info from DynamoDB and gets a DataFrame\n",
    "def fetch_preferences():\n",
    "    try:\n",
    "        items = []\n",
    "        start_key = None\n",
    "\n",
    "        while True:\n",
    "            # scan with defined 'columns'  in previous 'CONFIG'\n",
    "            scan_params = {\n",
    "                'ProjectionExpression': ', '.join(CONFIG['columns'])\n",
    "            }\n",
    "            if start_key:\n",
    "                scan_params['ExclusiveStartKey'] = start_key\n",
    "\n",
    "            response = table.scan(**scan_params)\n",
    "            items.extend(response.get('Items', []))\n",
    "\n",
    "            # check for next pages\n",
    "            start_key = response.get('LastEvaluatedKey')\n",
    "            if not start_key:\n",
    "                break\n",
    "\n",
    "        # data extracted processing\n",
    "        processed_data = [{\n",
    "            'userId': _process_value(item.get('userId', '')),\n",
    "            'favoriteMoviesIds': ';'.join(map(_process_value, item.get('favoriteMoviesIds', []))),\n",
    "            'favoriteGenresIds': ';'.join(map(_process_value, item.get('favoriteGenresIds', []))),\n",
    "            'favoriteSeriesIds': ';'.join(map(_process_value, item.get('favoriteSeriesIds', [])))\n",
    "        } for item in items]\n",
    "\n",
    "        df = pd.DataFrame(processed_data)\n",
    "        return df\n",
    "\n",
    "    except ClientError as e:\n",
    "        print(f\"Error al conectar con DynamoDB: {e}\")\n",
    "        return pd.DataFrame()\n",
    "\n",
    "# calling function to get the df\n",
    "user_pref = fetch_preferences()\n"
   ]
  },
  {
   "cell_type": "code",
   "execution_count": 27,
   "metadata": {},
   "outputs": [
    {
     "name": "stdout",
     "output_type": "stream",
     "text": [
      "Duplicates: 0\n",
      "<class 'pandas.core.frame.DataFrame'>\n",
<<<<<<< HEAD
      "RangeIndex: 5585 entries, 0 to 5584\n",
      "Data columns (total 4 columns):\n",
      " #   Column             Non-Null Count  Dtype \n",
      "---  ------             --------------  ----- \n",
      " 0   userId             5585 non-null   object\n",
      " 1   favoriteMoviesIds  5585 non-null   object\n",
      " 2   favoriteGenresIds  5585 non-null   object\n",
      " 3   favoriteSeriesIds  5585 non-null   object\n",
      "dtypes: object(4)\n",
      "memory usage: 174.7+ KB\n"
=======
      "Index: 5133 entries, 0 to 13665\n",
      "Data columns (total 4 columns):\n",
      " #   Column             Non-Null Count  Dtype \n",
      "---  ------             --------------  ----- \n",
      " 0   userId             5133 non-null   object\n",
      " 1   favoriteMoviesIds  5133 non-null   object\n",
      " 2   favoriteGenresIds  5133 non-null   object\n",
      " 3   favoriteSeriesIds  5133 non-null   object\n",
      "dtypes: object(4)\n",
      "memory usage: 200.5+ KB\n"
>>>>>>> 2f193015dd79f2ff8d97ae537a8d09273b069a96
     ]
    }
   ],
   "source": [
    "# limpio el dataframe dejando solo users con genero, movie_favs y tvshow_favs\n",
    "user_pref = user_pref[user_pref['userId'].str.len()==36]\n",
    "user_pref = user_pref.replace(\"\",pd.NA)\n",
    "user_pref = user_pref.dropna()\n",
    "user_pref.reset_index(inplace=True,drop=True)\n",
    "print(f'Duplicates: {user_pref.duplicated().sum()}')\n",
    "user_pref.info()"
   ]
  },
  {
   "cell_type": "code",
<<<<<<< HEAD
   "execution_count": 65,
   "metadata": {},
   "outputs": [
    {
     "data": {
      "text/html": [
       "<div>\n",
       "<style scoped>\n",
       "    .dataframe tbody tr th:only-of-type {\n",
       "        vertical-align: middle;\n",
       "    }\n",
       "\n",
       "    .dataframe tbody tr th {\n",
       "        vertical-align: top;\n",
       "    }\n",
       "\n",
       "    .dataframe thead th {\n",
       "        text-align: right;\n",
       "    }\n",
       "</style>\n",
       "<table border=\"1\" class=\"dataframe\">\n",
       "  <thead>\n",
       "    <tr style=\"text-align: right;\">\n",
       "      <th></th>\n",
       "      <th>userId</th>\n",
       "      <th>favoriteMoviesIds</th>\n",
       "      <th>CleanTitle</th>\n",
       "    </tr>\n",
       "  </thead>\n",
       "  <tbody>\n",
       "    <tr>\n",
       "      <th>0</th>\n",
       "      <td>0109009e-50f1-703a-d2d7-a8cb2bc6ba4f</td>\n",
       "      <td>[293660, 597]</td>\n",
       "      <td>[Deadpool, Titanic]</td>\n",
       "    </tr>\n",
       "    <tr>\n",
       "      <th>1</th>\n",
       "      <td>0109106e-f0e1-70e3-5f43-ff611d12dfff</td>\n",
       "      <td>[19995, 293660, 24428, 299536]</td>\n",
       "      <td>[Avatar, Deadpool, Marvel Studios' The Avenger...</td>\n",
       "    </tr>\n",
       "    <tr>\n",
       "      <th>2</th>\n",
       "      <td>010920de-1051-7006-0e91-5a0db48ec63a</td>\n",
       "      <td>[24428, 299534, 68721]</td>\n",
       "      <td>[Marvel Studios' The Avengers, Marvel Studios'...</td>\n",
       "    </tr>\n",
       "    <tr>\n",
       "      <th>3</th>\n",
       "      <td>010920fe-5051-7063-ab18-9b7c0e0adfb8</td>\n",
       "      <td>[19995, 293660]</td>\n",
       "      <td>[Avatar, Deadpool]</td>\n",
       "    </tr>\n",
       "    <tr>\n",
       "      <th>4</th>\n",
       "      <td>0109700e-e021-7085-3746-7d54c8954da8</td>\n",
       "      <td>[293660, 24428, 299536]</td>\n",
       "      <td>[Deadpool, Marvel Studios' The Avengers, Marve...</td>\n",
       "    </tr>\n",
       "    <tr>\n",
       "      <th>...</th>\n",
       "      <td>...</td>\n",
       "      <td>...</td>\n",
       "      <td>...</td>\n",
       "    </tr>\n",
       "    <tr>\n",
       "      <th>5345</th>\n",
       "      <td>f1f9e0ae-80c1-7033-d7ca-6ab6a17a49b5</td>\n",
       "      <td>[597, 150540, 14160, 354912, 12, 10020, 10020]</td>\n",
       "      <td>[Titanic, Disney Pixar Binnenstebuiten, Up, Co...</td>\n",
       "    </tr>\n",
       "    <tr>\n",
       "      <th>5346</th>\n",
       "      <td>f1f9f06e-9091-7047-2d40-08966186a6a0</td>\n",
       "      <td>[19995, 24428, 293660]</td>\n",
       "      <td>[Avatar, Marvel Studios' The Avengers, Deadpool]</td>\n",
       "    </tr>\n",
       "    <tr>\n",
       "      <th>5347</th>\n",
       "      <td>f1f9f0de-d031-70e9-7d07-c013f09454dd</td>\n",
       "      <td>[19995, 150540, 82690]</td>\n",
       "      <td>[Avatar, Disney Pixar Binnenstebuiten, Wreck-I...</td>\n",
       "    </tr>\n",
       "    <tr>\n",
       "      <th>5348</th>\n",
       "      <td>f1f9f0ee-50f1-703e-fba6-087c6f0628d9</td>\n",
       "      <td>[19995, 293660, 24428, 299536, 118340]</td>\n",
       "      <td>[Avatar, Deadpool, Marvel Studios' The Avenger...</td>\n",
       "    </tr>\n",
       "    <tr>\n",
       "      <th>5349</th>\n",
       "      <td>f1f9f0ee-e061-7071-82ad-e547f56d2c35</td>\n",
       "      <td>[19995, 550]</td>\n",
       "      <td>[Avatar, Fight Club]</td>\n",
       "    </tr>\n",
       "  </tbody>\n",
       "</table>\n",
       "<p>5350 rows × 3 columns</p>\n",
       "</div>"
      ],
      "text/plain": [
       "                                    userId  \\\n",
       "0     0109009e-50f1-703a-d2d7-a8cb2bc6ba4f   \n",
       "1     0109106e-f0e1-70e3-5f43-ff611d12dfff   \n",
       "2     010920de-1051-7006-0e91-5a0db48ec63a   \n",
       "3     010920fe-5051-7063-ab18-9b7c0e0adfb8   \n",
       "4     0109700e-e021-7085-3746-7d54c8954da8   \n",
       "...                                    ...   \n",
       "5345  f1f9e0ae-80c1-7033-d7ca-6ab6a17a49b5   \n",
       "5346  f1f9f06e-9091-7047-2d40-08966186a6a0   \n",
       "5347  f1f9f0de-d031-70e9-7d07-c013f09454dd   \n",
       "5348  f1f9f0ee-50f1-703e-fba6-087c6f0628d9   \n",
       "5349  f1f9f0ee-e061-7071-82ad-e547f56d2c35   \n",
       "\n",
       "                                   favoriteMoviesIds  \\\n",
       "0                                      [293660, 597]   \n",
       "1                     [19995, 293660, 24428, 299536]   \n",
       "2                             [24428, 299534, 68721]   \n",
       "3                                    [19995, 293660]   \n",
       "4                            [293660, 24428, 299536]   \n",
       "...                                              ...   \n",
       "5345  [597, 150540, 14160, 354912, 12, 10020, 10020]   \n",
       "5346                          [19995, 24428, 293660]   \n",
       "5347                          [19995, 150540, 82690]   \n",
       "5348          [19995, 293660, 24428, 299536, 118340]   \n",
       "5349                                    [19995, 550]   \n",
       "\n",
       "                                             CleanTitle  \n",
       "0                                   [Deadpool, Titanic]  \n",
       "1     [Avatar, Deadpool, Marvel Studios' The Avenger...  \n",
       "2     [Marvel Studios' The Avengers, Marvel Studios'...  \n",
       "3                                    [Avatar, Deadpool]  \n",
       "4     [Deadpool, Marvel Studios' The Avengers, Marve...  \n",
       "...                                                 ...  \n",
       "5345  [Titanic, Disney Pixar Binnenstebuiten, Up, Co...  \n",
       "5346   [Avatar, Marvel Studios' The Avengers, Deadpool]  \n",
       "5347  [Avatar, Disney Pixar Binnenstebuiten, Wreck-I...  \n",
       "5348  [Avatar, Deadpool, Marvel Studios' The Avenger...  \n",
       "5349                               [Avatar, Fight Club]  \n",
       "\n",
       "[5350 rows x 3 columns]"
      ]
     },
     "execution_count": 65,
     "metadata": {},
     "output_type": "execute_result"
    }
   ],
   "source": [
    "# celda para producir no terminada\n",
    "\n",
    "\n",
    "# convertir los valores en listas para expandirlos con explode\n",
    "###user_pref['favoriteMoviesIds'] = user_pref['favoriteMoviesIds'].apply(lambda x: x.split(';'))\n",
    "\n",
    "# expandir preferencias de favoriteMoviesIds, favoriteGenresIds, y favoriteSeriesIds por userId\n",
    "###user_fav_movies = user_pref[['userId','favoriteMoviesIds']].explode('favoriteMoviesIds')\n",
    "\n",
    "\n",
    "# merge para traerme los CleanTitle, Synopsis, 'Genre'\n",
    "###user_fav_movies = user_fav_movies.merge(filtered_data[['ID','CleanTitle']], left_on='favoriteMoviesIds', right_on='ID')\n",
    "###user_fav_movies = user_fav_movies.drop(columns='ID')\n",
    "\n",
    "# reAGRUPO por userId para que me queden las listas CleanTitle, Synopsis, 'Genre' por user segun sus favoriteMoviesIds, favoriteGenresIds, y favoriteSeriesIds por userId\n",
    "user_pref_prueba = user_fav_movies.groupby('userId')[['favoriteMoviesIds','CleanTitle']].agg(list).reset_index()\n",
    "\n",
    "\n",
    "user_pref_prueba\n",
    "\n",
    "### >>>>>>>>>>>> TERMINAR DE HACER LO MISMO CON GENERO Y SERIES"
=======
   "execution_count": 5,
   "metadata": {},
   "outputs": [],
   "source": [
    "# en esta parte el codigo queda freezado mientras se trabaja en el contenido a obtener desde fire\n",
    "# ya que necesito ir a buscar los 'Genres', 'CleanTitle', y 'Synopsis' en la base de Fire Base para crear las sentences"
   ]
  },
  {
   "cell_type": "markdown",
   "metadata": {},
   "source": [
    "### Content Data from FireBase"
>>>>>>> 2f193015dd79f2ff8d97ae537a8d09273b069a96
   ]
  },
  {
   "cell_type": "code",
<<<<<<< HEAD
   "execution_count": 47,
   "metadata": {},
   "outputs": [
    {
     "data": {
      "text/html": [
       "<div>\n",
       "<style scoped>\n",
       "    .dataframe tbody tr th:only-of-type {\n",
       "        vertical-align: middle;\n",
       "    }\n",
       "\n",
       "    .dataframe tbody tr th {\n",
       "        vertical-align: top;\n",
       "    }\n",
       "\n",
       "    .dataframe thead th {\n",
       "        text-align: right;\n",
       "    }\n",
       "</style>\n",
       "<table border=\"1\" class=\"dataframe\">\n",
       "  <thead>\n",
       "    <tr style=\"text-align: right;\">\n",
       "      <th></th>\n",
       "      <th>userId</th>\n",
       "      <th>favoriteMoviesIds</th>\n",
       "      <th>favoriteGenresIds</th>\n",
       "      <th>favoriteSeriesIds</th>\n",
       "    </tr>\n",
       "  </thead>\n",
       "  <tbody>\n",
       "    <tr>\n",
       "      <th>0</th>\n",
       "      <td>c1f9d00e-6001-70e0-28b6-9fcaee14754c</td>\n",
       "      <td>24428;299536;118340;150540;283995</td>\n",
       "      <td>16;10762;14;10765;878;12;10759;10751</td>\n",
       "      <td>66732;93405;456;119051;65334</td>\n",
       "    </tr>\n",
       "    <tr>\n",
       "      <th>1</th>\n",
       "      <td>f139102e-50c1-70e7-9ccb-063a02d6fe53</td>\n",
       "      <td>157336;155;293660;24428;299536</td>\n",
       "      <td>28;10759;12;99;10764;10763;80;18;27;14;10752;1...</td>\n",
       "      <td>1399;66732;71712;84958;60735</td>\n",
       "    </tr>\n",
       "  </tbody>\n",
       "</table>\n",
       "</div>"
      ],
      "text/plain": [
       "                                 userId                  favoriteMoviesIds  \\\n",
       "0  c1f9d00e-6001-70e0-28b6-9fcaee14754c  24428;299536;118340;150540;283995   \n",
       "1  f139102e-50c1-70e7-9ccb-063a02d6fe53     157336;155;293660;24428;299536   \n",
       "\n",
       "                                   favoriteGenresIds  \\\n",
       "0               16;10762;14;10765;878;12;10759;10751   \n",
       "1  28;10759;12;99;10764;10763;80;18;27;14;10752;1...   \n",
       "\n",
       "              favoriteSeriesIds  \n",
       "0  66732;93405;456;119051;65334  \n",
       "1  1399;66732;71712;84958;60735  "
      ]
     },
     "execution_count": 47,
     "metadata": {},
     "output_type": "execute_result"
    }
   ],
=======
   "execution_count": null,
   "metadata": {},
   "outputs": [],
>>>>>>> 2f193015dd79f2ff8d97ae537a8d09273b069a96
   "source": [
    "# Celda para borrar\n",
    "user_pref.head(2)"
   ]
  },
  {
   "cell_type": "code",
   "execution_count": 48,
   "metadata": {},
   "outputs": [
    {
     "data": {
      "text/html": [
       "<div>\n",
       "<style scoped>\n",
       "    .dataframe tbody tr th:only-of-type {\n",
       "        vertical-align: middle;\n",
       "    }\n",
       "\n",
       "    .dataframe tbody tr th {\n",
       "        vertical-align: top;\n",
       "    }\n",
       "\n",
       "    .dataframe thead th {\n",
       "        text-align: right;\n",
       "    }\n",
       "</style>\n",
       "<table border=\"1\" class=\"dataframe\">\n",
       "  <thead>\n",
       "    <tr style=\"text-align: right;\">\n",
       "      <th></th>\n",
       "      <th>ID</th>\n",
       "      <th>Genre</th>\n",
       "      <th>CleanTitle</th>\n",
       "      <th>Synopsis</th>\n",
       "      <th>Directors</th>\n",
       "      <th>Cast</th>\n",
       "      <th>Type</th>\n",
       "      <th>PlatformName</th>\n",
       "      <th>sentences_to_embed</th>\n",
       "    </tr>\n",
       "  </thead>\n",
       "  <tbody>\n",
       "    <tr>\n",
       "      <th>0</th>\n",
       "      <td>9681</td>\n",
       "      <td>No Genre</td>\n",
       "      <td>Casanova</td>\n",
       "      <td>In a claustrophobic Venice of lavish dress and...</td>\n",
       "      <td>Kenneth Tindall</td>\n",
       "      <td>Giuliano Contadini; Ailen Ramos Betancourt; Dr...</td>\n",
       "      <td>Movie</td>\n",
       "      <td>BroadwayHD</td>\n",
       "      <td>CasanovaIn a claustrophobic Venice of lavish d...</td>\n",
       "    </tr>\n",
       "    <tr>\n",
       "      <th>1</th>\n",
       "      <td>15716</td>\n",
       "      <td>No Genre</td>\n",
       "      <td>The Pirates of Penzance</td>\n",
       "      <td>See Gilbert and Sullivan’s The Pirates of Penz...</td>\n",
       "      <td>Sasha Regan</td>\n",
       "      <td>Tom Senior; Alan Richardson; Oliver Savile; Le...</td>\n",
       "      <td>Movie</td>\n",
       "      <td>BroadwayHD</td>\n",
       "      <td>The Pirates of PenzanceSee Gilbert and Sulliva...</td>\n",
       "    </tr>\n",
       "  </tbody>\n",
       "</table>\n",
       "</div>"
      ],
      "text/plain": [
       "      ID     Genre               CleanTitle  \\\n",
       "0   9681  No Genre                 Casanova   \n",
       "1  15716  No Genre  The Pirates of Penzance   \n",
       "\n",
       "                                            Synopsis        Directors  \\\n",
       "0  In a claustrophobic Venice of lavish dress and...  Kenneth Tindall   \n",
       "1  See Gilbert and Sullivan’s The Pirates of Penz...      Sasha Regan   \n",
       "\n",
       "                                                Cast   Type PlatformName  \\\n",
       "0  Giuliano Contadini; Ailen Ramos Betancourt; Dr...  Movie   BroadwayHD   \n",
       "1  Tom Senior; Alan Richardson; Oliver Savile; Le...  Movie   BroadwayHD   \n",
       "\n",
       "                                  sentences_to_embed  \n",
       "0  CasanovaIn a claustrophobic Venice of lavish d...  \n",
       "1  The Pirates of PenzanceSee Gilbert and Sulliva...  "
      ]
     },
     "execution_count": 48,
     "metadata": {},
     "output_type": "execute_result"
    }
   ],
   "source": [
    "#celda para borrar\n",
    "filtered_data.head(2)"
   ]
  },
  {
   "cell_type": "markdown",
   "metadata": {},
   "source": [
    "### Sentences for vectorize from 'filtered_data' / AHORA DESDE FIREBASE"
   ]
  },
  {
   "cell_type": "code",
   "execution_count": 44,
   "metadata": {},
   "outputs": [],
   "source": [
    "# Making the sentences to embed \n",
<<<<<<< HEAD
    "filtered_data['sentences_to_embed'] = (\n",
    "    filtered_data.CleanTitle.fillna('') +\n",
    "    filtered_data.Synopsis.fillna('') +\n",
    "    filtered_data.Genre.fillna('').apply(\n",
    "        lambda x: ', '.join(ast.literal_eval(x)) if x.startswith('[') and x.endswith(']') else x\n",
    "    )\n",
    ")\n",
=======
    " \n",
>>>>>>> 2f193015dd79f2ff8d97ae537a8d09273b069a96
    "\n",
    "# Formatting as str-list to send to the model\n",
    "sentences_from_filtered_data = filtered_data.sentences_to_embed.dropna().astype(str).tolist()\n"
   ]
  },
  {
   "cell_type": "code",
   "execution_count": 45,
   "metadata": {},
   "outputs": [],
   "source": [
    "# Since the model on Hugging Face processes only requests that can be completed within 60 seconds, we need to divide the sentences into batches.\n",
    "def split_into_batches(sentences, batch_size):\n",
    "    return [sentences[i:i + batch_size] for i in range(0, len(sentences), batch_size)]\n",
    "\n",
    "# After trying with different values, we've reach the maximum batch size to get response succesfully\n",
    "batches = split_into_batches(sentences_from_filtered_data, 100)"
   ]
  },
  {
   "cell_type": "code",
   "execution_count": null,
   "metadata": {},
   "outputs": [],
   "source": [
    "# Check key availability\n",
    "if HUGGINGFACE_API_KEY is None:\n",
    "    print(\"Error: No se encontró la clave de API de Hugging Face.\")\n",
    "else:\n",
    "    print(\"Clave de API cargada correctamente.\")\n",
    "\n",
    "# Model URL\n",
    "API_URL = \"https://api-inference.huggingface.co/pipeline/feature-extraction/sentence-transformers/all-MiniLM-L6-v2\"\n",
    "\n",
    "# API header and key\n",
    "headers = {\"Authorization\": f\"Bearer {HUGGINGFACE_API_KEY}\"}  \n",
    "\n",
    "# Function to get embeddings from Hugging Face API\n",
    "def get_embeddings_from_api(sentences):\n",
    "    url = API_URL\n",
    "    payload = {\"inputs\": sentences}\n",
    "    \n",
    "    response = requests.post(url, headers=headers, json=payload)\n",
    "    \n",
    "    if response.status_code == 200:\n",
    "        return response.json()\n",
    "    else:\n",
    "        print(f\"Error {response.status_code}: {response.text}\")\n",
    "        return None\n",
    "    \n",
    "\n",
    "# Sequence Batch Processing Process\n",
    "all_embeddings_from_filtered_data = []\n",
    "for batch in batches:\n",
    "    print(f\"Processing batch with {len(batch)} sentences...\")\n",
    "    embeddings = get_embeddings_from_api(batch)\n",
    "    if embeddings:\n",
    "        all_embeddings_from_filtered_data.extend(embeddings)\n",
    "\n",
    "print(\"Embeddings processed successfully:\")\n",
    "print(all_embeddings_from_filtered_data[:2])  "
   ]
  },
  {
   "cell_type": "markdown",
   "metadata": {},
   "source": [
    "### Esta sección es para agregar los titulos de los generos, y los str correspondientes"
   ]
  },
  {
   "cell_type": "code",
   "execution_count": null,
   "metadata": {},
   "outputs": [],
   "source": []
  },
  {
   "cell_type": "markdown",
   "metadata": {},
   "source": [
    "### Sentences for vectorize from 'user_preferences' / AHORA DESDE DYNAMODB"
   ]
  },
  {
   "cell_type": "code",
   "execution_count": 46,
   "metadata": {},
   "outputs": [
    {
     "ename": "AttributeError",
     "evalue": "'DataFrame' object has no attribute 'TitulosPeliculas'",
     "output_type": "error",
     "traceback": [
      "\u001b[1;31m---------------------------------------------------------------------------\u001b[0m",
      "\u001b[1;31mAttributeError\u001b[0m                            Traceback (most recent call last)",
      "\u001b[1;32mC:\\Program Files\\KMSpico\\temp\\ipykernel_9272\\2943472666.py\u001b[0m in \u001b[0;36m?\u001b[1;34m()\u001b[0m\n\u001b[0;32m      1\u001b[0m \u001b[1;31m# Sentences we want to be embedded from user_preferences\u001b[0m\u001b[1;33m\u001b[0m\u001b[1;33m\u001b[0m\u001b[0m\n\u001b[1;32m----> 2\u001b[1;33m user_pref['sentences_to_embed'] = (user_pref.TitulosPeliculas.fillna('') +\n\u001b[0m\u001b[0;32m      3\u001b[0m                                    \u001b[0muser_pref\u001b[0m\u001b[1;33m.\u001b[0m\u001b[0mTitulosSeries\u001b[0m\u001b[1;33m.\u001b[0m\u001b[0mfillna\u001b[0m\u001b[1;33m(\u001b[0m\u001b[1;34m''\u001b[0m\u001b[1;33m)\u001b[0m \u001b[1;33m+\u001b[0m\u001b[1;33m\u001b[0m\u001b[1;33m\u001b[0m\u001b[0m\n\u001b[0;32m      4\u001b[0m                                    \u001b[0muser_pref\u001b[0m\u001b[1;33m.\u001b[0m\u001b[0mGenerosFavoritos\u001b[0m\u001b[1;33m.\u001b[0m\u001b[0mfillna\u001b[0m\u001b[1;33m(\u001b[0m\u001b[1;34m''\u001b[0m\u001b[1;33m)\u001b[0m \u001b[1;33m+\u001b[0m\u001b[1;33m\u001b[0m\u001b[1;33m\u001b[0m\u001b[0m\n\u001b[0;32m      5\u001b[0m                                    \u001b[0muser_pref\u001b[0m\u001b[1;33m.\u001b[0m\u001b[0mDetallesPeliculas\u001b[0m\u001b[1;33m.\u001b[0m\u001b[0mfillna\u001b[0m\u001b[1;33m(\u001b[0m\u001b[1;34m''\u001b[0m\u001b[1;33m)\u001b[0m \u001b[1;33m+\u001b[0m\u001b[1;33m\u001b[0m\u001b[1;33m\u001b[0m\u001b[0m\n",
      "\u001b[1;32mc:\\Users\\Agustín\\AppData\\Local\\Programs\\Python\\Python312\\Lib\\site-packages\\pandas\\core\\generic.py\u001b[0m in \u001b[0;36m?\u001b[1;34m(self, name)\u001b[0m\n\u001b[0;32m   6295\u001b[0m             \u001b[1;32mand\u001b[0m \u001b[0mname\u001b[0m \u001b[1;32mnot\u001b[0m \u001b[1;32min\u001b[0m \u001b[0mself\u001b[0m\u001b[1;33m.\u001b[0m\u001b[0m_accessors\u001b[0m\u001b[1;33m\u001b[0m\u001b[1;33m\u001b[0m\u001b[0m\n\u001b[0;32m   6296\u001b[0m             \u001b[1;32mand\u001b[0m \u001b[0mself\u001b[0m\u001b[1;33m.\u001b[0m\u001b[0m_info_axis\u001b[0m\u001b[1;33m.\u001b[0m\u001b[0m_can_hold_identifiers_and_holds_name\u001b[0m\u001b[1;33m(\u001b[0m\u001b[0mname\u001b[0m\u001b[1;33m)\u001b[0m\u001b[1;33m\u001b[0m\u001b[1;33m\u001b[0m\u001b[0m\n\u001b[0;32m   6297\u001b[0m         \u001b[1;33m)\u001b[0m\u001b[1;33m:\u001b[0m\u001b[1;33m\u001b[0m\u001b[1;33m\u001b[0m\u001b[0m\n\u001b[0;32m   6298\u001b[0m             \u001b[1;32mreturn\u001b[0m \u001b[0mself\u001b[0m\u001b[1;33m[\u001b[0m\u001b[0mname\u001b[0m\u001b[1;33m]\u001b[0m\u001b[1;33m\u001b[0m\u001b[1;33m\u001b[0m\u001b[0m\n\u001b[1;32m-> 6299\u001b[1;33m         \u001b[1;32mreturn\u001b[0m \u001b[0mobject\u001b[0m\u001b[1;33m.\u001b[0m\u001b[0m__getattribute__\u001b[0m\u001b[1;33m(\u001b[0m\u001b[0mself\u001b[0m\u001b[1;33m,\u001b[0m \u001b[0mname\u001b[0m\u001b[1;33m)\u001b[0m\u001b[1;33m\u001b[0m\u001b[1;33m\u001b[0m\u001b[0m\n\u001b[0m",
      "\u001b[1;31mAttributeError\u001b[0m: 'DataFrame' object has no attribute 'TitulosPeliculas'"
     ]
    }
   ],
   "source": [
    "# Sentences we want to be embedded from user_preferences\n",
    "user_pref['sentences_to_embed'] = (user_pref.TitulosPeliculas.fillna('') +\n",
    "                                   user_pref.TitulosSeries.fillna('') + \n",
    "                                   user_pref.GenerosFavoritos.fillna('') +\n",
    "                                   user_pref.DetallesPeliculas.fillna('') +\n",
    "                                   user_pref.DetallesSeries.fillna(''))\n",
    "\n",
    "# Formatting as str-list to send to the model\n",
    "sentences_from_user_pref = user_pref.sentences_to_embed.dropna().astype(str).tolist()\n",
    "\n",
    "# We split the sentences in batches as we did previously with filtered_data\n",
    "batches_user_pref = split_into_batches(sentences_from_user_pref, 100)"
   ]
  },
  {
   "cell_type": "code",
   "execution_count": null,
   "metadata": {},
   "outputs": [],
   "source": [
    "# Sequence Batch Processing Process\n",
    "all_embeddings_from_user_pref = []\n",
    "for batch in batches_user_pref:\n",
    "    print(f\"Processing batch with {len(batch)} sentences...\")\n",
    "    embeddings = get_embeddings_from_api(batch)\n",
    "    if embeddings:\n",
    "        all_embeddings_from_user_pref.extend(embeddings)\n",
    "\n",
    "print(\"Embeddings processed successfully:\")\n",
    "print(all_embeddings_from_user_pref[:2])  "
   ]
  },
  {
   "cell_type": "markdown",
   "metadata": {},
   "source": [
    "### Similarities"
   ]
  },
  {
   "cell_type": "code",
   "execution_count": 24,
   "metadata": {},
   "outputs": [],
   "source": [
    "# We have to convert the embeddings list to numpy arrays in order to calculate cosine similarities wiht sklearn\n",
    "all_embeddings_from_user_pref_array = np.array(all_embeddings_from_user_pref)\n",
    "all_embeddings_from_filtered_data_array = np.array(all_embeddings_from_filtered_data)\n",
    "\n",
    "user_for_example = 1\n",
    "\n",
    "# Taking first user as example to calculate the cosine_similarity\n",
    "user_embedding_example = all_embeddings_from_user_pref_array[user_for_example].reshape(1, -1)  # Asegurar forma correcta para cosine_similarity\n",
    "\n",
    "# To calculate similarity between the user example embeding and the whole content from filtered data\n",
    "content_similarities = cosine_similarity(user_embedding_example, all_embeddings_from_filtered_data_array).flatten()\n",
    "\n",
    "# Sort indexes by similarity\n",
    "most_similar_indexes = content_similarities.argsort()[::-1]\n",
    "\n",
    "# Top-10\n",
    "topten_most_similar_indexes = most_similar_indexes[:10]"
   ]
  },
  {
   "cell_type": "code",
   "execution_count": null,
   "metadata": {},
   "outputs": [],
   "source": [
    "# To display the most similar indexes and their similarity scores\n",
    "print(\"Most similar indexes:\", most_similar_indexes[:10])\n",
    "print(\"Highest similarities:\", content_similarities[most_similar_indexes[:10]])"
   ]
  },
  {
   "cell_type": "code",
   "execution_count": null,
   "metadata": {},
   "outputs": [],
   "source": [
    "# search most_similar_indexes, and preferences, and get recommendations\n",
    "user_id = user_pref.loc[user_for_example]['userId']\n",
    "movies_preferred = user_pref[user_pref['userId']==user_id]['TitulosPeliculas']\n",
    "series_preferred = user_pref[user_pref['userId']==user_id]['TitulosSeries']\n",
    "\n",
    "# Displaying Preferences & Recommendations\n",
    "print(f'''User {user_id} Preferences:\n",
    "      ''')\n",
    "print(f'''Movies preference:''')\n",
    "for movie in movies_preferred.iloc[0].split(';'):\n",
    "    print(f'      {movie.strip()}')\n",
    "\n",
    "print(f'''TV Shows preference:''')\n",
    "for series in series_preferred.iloc[0].split(';'):\n",
    "    print(f'      {series.strip()}')\n",
    "\n",
    "print(f'''Recomendations for user: {user_id}\n",
    "      ''')\n",
    "\n",
    "recomendations_user = filtered_data.loc[topten_most_similar_indexes]['CleanTitle']\n",
    "for recommendation in recomendations_user:\n",
    "    print(f'      {recommendation}')\n"
   ]
  }
 ],
 "metadata": {
  "kernelspec": {
   "display_name": "Python 3",
   "language": "python",
   "name": "python3"
  },
  "language_info": {
   "codemirror_mode": {
    "name": "ipython",
    "version": 3
   },
   "file_extension": ".py",
   "mimetype": "text/x-python",
   "name": "python",
   "nbconvert_exporter": "python",
   "pygments_lexer": "ipython3",
   "version": "3.12.5"
  }
 },
 "nbformat": 4,
 "nbformat_minor": 2
}
