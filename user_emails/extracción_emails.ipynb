{
 "cells": [
  {
   "cell_type": "code",
   "execution_count": 2,
   "metadata": {},
   "outputs": [
    {
     "name": "stdout",
     "output_type": "stream",
     "text": [
      "Los correos electrónicos se han guardado correctamente en 'usuarios_cognito.csv'.\n"
     ]
    }
   ],
   "source": [
    "from dotenv import load_dotenv\n",
    "import os\n",
    "import boto3\n",
    "import csv\n",
    "\n",
    "load_dotenv()\n",
    "\n",
    "aws_access_key_id = os.getenv(\"AWS_ACCESS_KEY_ID\")\n",
    "aws_secret_access_key = os.getenv(\"AWS_SECRET_ACCESS_KEY\")\n",
    "aws_default_region = os.getenv(\"AWS_DEFAULT_REGION\")\n",
    "\n",
    "boto3.setup_default_session(\n",
    "    aws_access_key_id=aws_access_key_id,\n",
    "    aws_secret_access_key=aws_secret_access_key,\n",
    "    region_name=aws_default_region\n",
    ")\n",
    "\n",
    "client = boto3.client('cognito-idp', region_name='eu-west-3') \n",
    "\n",
    "user_pool_id = 'eu-west-3_wclKmH4UE' \n",
    "\n",
    "pagination_token = None\n",
    "\n",
    "with open('usuarios_cognito.csv', mode='w', newline='') as file:\n",
    "    writer = csv.writer(file)\n",
    "    \n",
    "    writer.writerow(['Email'])\n",
    "\n",
    "    while True:\n",
    "        if pagination_token:\n",
    "            response = client.list_users(\n",
    "                UserPoolId=user_pool_id,\n",
    "                AttributesToGet=['email'],\n",
    "                PaginationToken=pagination_token\n",
    "            )\n",
    "        else:\n",
    "            response = client.list_users(\n",
    "                UserPoolId=user_pool_id,\n",
    "                AttributesToGet=['email']\n",
    "            )\n",
    "\n",
    "        for user in response['Users']:\n",
    "            for attribute in user['Attributes']:\n",
    "                if attribute['Name'] == 'email':\n",
    "                    writer.writerow([attribute['Value']])  \n",
    "\n",
    "        pagination_token = response.get('PaginationToken')\n",
    "\n",
    "        if not pagination_token:\n",
    "            break\n",
    "\n",
    "print(\"Los correos electrónicos se han guardado correctamente en 'usuarios_cognito.csv'.\")"
   ]
  }
 ],
 "metadata": {
  "kernelspec": {
   "display_name": "Python 3",
   "language": "python",
   "name": "python3"
  },
  "language_info": {
   "codemirror_mode": {
    "name": "ipython",
    "version": 3
   },
   "file_extension": ".py",
   "mimetype": "text/x-python",
   "name": "python",
   "nbconvert_exporter": "python",
   "pygments_lexer": "ipython3",
   "version": "3.12.1"
  }
 },
 "nbformat": 4,
 "nbformat_minor": 2
}
