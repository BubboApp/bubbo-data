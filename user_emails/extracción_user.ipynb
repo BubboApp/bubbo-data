{
 "cells": [
  {
   "cell_type": "code",
   "execution_count": 6,
   "metadata": {},
   "outputs": [
    {
     "name": "stdout",
     "output_type": "stream",
     "text": [
      "Datos exportados a dynamodb_users.csv\n"
     ]
    }
   ],
   "source": [
    "import boto3\n",
    "from dotenv import load_dotenv\n",
    "import os\n",
    "import csv\n",
    "\n",
    "load_dotenv()\n",
    "\n",
    "aws_access_key_id = os.getenv(\"AWS_ACCESS_KEY_ID\")\n",
    "aws_secret_access_key = os.getenv(\"AWS_SECRET_ACCESS_KEY\")\n",
    "aws_default_region = os.getenv(\"AWS_DEFAULT_REGION\")\n",
    "\n",
    "boto3.setup_default_session(\n",
    "    aws_access_key_id=aws_access_key_id,\n",
    "    aws_secret_access_key=aws_secret_access_key,\n",
    "    region_name=aws_default_region\n",
    ")\n",
    "\n",
    "dynamodb = boto3.client('dynamodb')\n",
    "\n",
    "table_name = 'User-7kkcm5dn2rb77hst5nh7gbdisa-staging'\n",
    "\n",
    "# Especificamos las columnas que queremos exportar\n",
    "columns_to_extract = ['id', 'userId', 'createdAt']\n",
    "\n",
    "with open('dynamodb_users.csv', mode='w', newline='') as file:\n",
    "    writer = csv.writer(file)\n",
    "\n",
    "    last_evaluated_key = None\n",
    "\n",
    "    # Escribimos la cabecera del archivo CSV con las columnas seleccionadas\n",
    "    writer.writerow(columns_to_extract)\n",
    "\n",
    "    while True:\n",
    "        if last_evaluated_key:\n",
    "            response = dynamodb.scan(\n",
    "                TableName=table_name,\n",
    "                ExclusiveStartKey=last_evaluated_key\n",
    "            )\n",
    "        else:\n",
    "            response = dynamodb.scan(TableName=table_name)\n",
    "\n",
    "        for item in response['Items']:\n",
    "            row = []\n",
    "            # Iteramos solo sobre las columnas seleccionadas\n",
    "            for column in columns_to_extract:\n",
    "                value = item.get(column, {}).get('S', '')  # Si el valor es de tipo String (S)\n",
    "                if not value:\n",
    "                    value = item.get(column, {}).get('N', '')  # Si el valor es de tipo Number (N)\n",
    "                if not value:\n",
    "                    value = item.get(column, {}).get('B', '')  # Si el valor es de tipo Binary (B)\n",
    "                row.append(value)\n",
    "\n",
    "            # Escribimos la fila solo con las columnas seleccionadas\n",
    "            writer.writerow(row)\n",
    "\n",
    "        if 'LastEvaluatedKey' in response:\n",
    "            last_evaluated_key = response['LastEvaluatedKey']\n",
    "        else:\n",
    "            break\n",
    "\n",
    "print(\"Datos exportados a dynamodb_users.csv\")\n",
    "\n"
   ]
  }
 ],
 "metadata": {
  "kernelspec": {
   "display_name": "Python 3",
   "language": "python",
   "name": "python3"
  },
  "language_info": {
   "codemirror_mode": {
    "name": "ipython",
    "version": 3
   },
   "file_extension": ".py",
   "mimetype": "text/x-python",
   "name": "python",
   "nbconvert_exporter": "python",
   "pygments_lexer": "ipython3",
   "version": "3.10.0"
  }
 },
 "nbformat": 4,
 "nbformat_minor": 2
}
