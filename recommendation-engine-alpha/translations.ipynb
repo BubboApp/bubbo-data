{
 "cells": [
  {
   "cell_type": "code",
   "execution_count": null,
   "metadata": {},
   "outputs": [],
   "source": [
    "import pandas as pd\n",
    "import time\n",
    "\n",
    "\n",
    "#˅˅˅˅˅˅˅˅˅˅˅˅˅˅˅˅˅˅˅˅˅˅˅˅˅˅˅˅˅˅˅˅˅˅˅˅˅˅˅˅˅˅˅˅˅˅˅˅˅˅˅˅˅˅˅˅˅˅˅˅˅˅˅˅ cambiar por translate_v2 EN CASO DE USAR PARA PRUEBAS!!!! para hacer los embeddings cuando tengamos ok de gastar, el v3. El v2 es para pruebas, gratis\n",
    "from google.cloud import translate_v3 as translate\n",
    "#˄˄˄˄˄˄˄˄˄˄˄˄˄˄˄˄˄˄˄˄˄˄˄˄˄˄˄˄˄˄˄˄˄˄˄˄˄˄˄˄˄˄˄˄˄˄˄˄˄˄˄˄˄˄˄˄˄˄˄˄˄˄˄˄"
   ]
  },
  {
   "cell_type": "code",
   "execution_count": 3,
   "metadata": {},
   "outputs": [],
   "source": [
    "translate_client = translate.TranslationServiceClient.from_service_account_json(\n",
    "    '../../../bubbo-dfba0-920a59ed4344.json')\n",
    "\n",
    "project_id = \"bubbo-dfba0\"  # ID del proyecto de Bubbo \n",
    "location = \"global\"  "
   ]
  },
  {
   "cell_type": "code",
   "execution_count": null,
   "metadata": {},
   "outputs": [
    {
     "name": "stdout",
     "output_type": "stream",
     "text": [
      "<class 'pandas.core.frame.DataFrame'>\n",
      "RangeIndex: 274319 entries, 0 to 274318\n",
      "Data columns (total 9 columns):\n",
      " #   Column        Non-Null Count   Dtype \n",
      "---  ------        --------------   ----- \n",
      " 0   Unnamed: 0    274319 non-null  int64 \n",
      " 1   ID            274319 non-null  int64 \n",
      " 2   Genre         274319 non-null  object\n",
      " 3   CleanTitle    274319 non-null  object\n",
      " 4   Synopsis      274319 non-null  object\n",
      " 5   Directors     274319 non-null  object\n",
      " 6   Cast          274319 non-null  object\n",
      " 7   Type          274319 non-null  object\n",
      " 8   PlatformName  274319 non-null  object\n",
      "dtypes: int64(2), object(7)\n",
      "memory usage: 18.8+ MB\n"
     ]
    }
   ],
   "source": [
    "df = pd.read_csv(r'../../../final2.0.csv', sep=',')  # 274k\n",
    "df_2 = df.head(50)\n",
    "df.info()"
   ]
  },
  {
   "cell_type": "code",
   "execution_count": 6,
   "metadata": {},
   "outputs": [],
   "source": [
    "def translate_text(text, project_id, location, target_language_code):\n",
    "    parent = f\"projects/{project_id}/locations/{location}\"\n",
    "    response = translate_client.translate_text(\n",
    "        request={\n",
    "            \"parent\": parent,\n",
    "            \"contents\": [text],\n",
    "            \"mime_type\": \"text/plain\",\n",
    "            \"target_language_code\": target_language_code,\n",
    "        }\n",
    "    )\n",
    "    # Accede al primer elemento de la lista y luego a su atributo translated_text\n",
    "    return response.translations[0].translated_text\n",
    "\n",
    "\n",
    "\n",
    "def translate_df(df, columnas, project_id, location):\n",
    "    aux_df = df.copy()\n",
    "    parent = f\"projects/{project_id}/locations/{location}\"\n",
    "\n",
    "    for col in columnas:\n",
    "        if col in df.columns:\n",
    "            aux_df[f'translated_{col}'] = df[col].apply(lambda x: translate_text(x, project_id, location, 'en') \n",
    "                                                        if isinstance(x, str) and \n",
    "                                                        translate_client.detect_language(request={\"parent\": parent, \"content\": x}).languages[0].language_code != 'en' \n",
    "                                                        else x)\n",
    "    return aux_df\n"
   ]
  },
  {
   "cell_type": "code",
   "execution_count": null,
   "metadata": {},
   "outputs": [],
   "source": [
    "columnas_a_traducir = ['CleanTitle', 'Synopsis', 'Genres']\n",
    "df_traducido = translate_df(df_2, columnas_a_traducir, project_id, location)"
   ]
  },
  {
   "cell_type": "code",
   "execution_count": null,
   "metadata": {},
   "outputs": [],
   "source": []
  }
 ],
 "metadata": {
  "kernelspec": {
   "display_name": "Python 3",
   "language": "python",
   "name": "python3"
  },
  "language_info": {
   "codemirror_mode": {
    "name": "ipython",
    "version": 3
   },
   "file_extension": ".py",
   "mimetype": "text/x-python",
   "name": "python",
   "nbconvert_exporter": "python",
   "pygments_lexer": "ipython3",
   "version": "3.12.5"
  }
 },
 "nbformat": 4,
 "nbformat_minor": 2
}
