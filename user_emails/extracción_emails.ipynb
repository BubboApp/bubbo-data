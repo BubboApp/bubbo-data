{
 "cells": [
  {
   "cell_type": "code",
   "execution_count": 1,
   "metadata": {},
   "outputs": [
    {
     "name": "stdout",
     "output_type": "stream",
     "text": [
      "Total usuarios procesados: 12813\n",
      "Usuarios con email: 11647\n",
      "Usuarios sin email: 1166\n",
      "Los correos electrónicos se han guardado correctamente en 'usuarios_cognito.csv'.\n"
     ]
    }
   ],
   "source": [
    "from dotenv import load_dotenv\n",
    "import os\n",
    "import boto3\n",
    "import csv\n",
    "\n",
    "load_dotenv()\n",
    "\n",
    "aws_access_key_id = os.getenv(\"AWS_ACCESS_KEY_ID\")\n",
    "aws_secret_access_key = os.getenv(\"AWS_SECRET_ACCESS_KEY\")\n",
    "aws_default_region = os.getenv(\"AWS_DEFAULT_REGION\")\n",
    "\n",
    "boto3.setup_default_session(\n",
    "    aws_access_key_id=aws_access_key_id,\n",
    "    aws_secret_access_key=aws_secret_access_key,\n",
    "    region_name=aws_default_region\n",
    ")\n",
    "\n",
    "client = boto3.client('cognito-idp', region_name='eu-west-3') \n",
    "\n",
    "user_pool_id = 'eu-west-3_wclKmH4UE' \n",
    "\n",
    "pagination_token = None\n",
    "total_users = 0  # Contador total de usuarios\n",
    "users_with_email = 0  # Contador de usuarios con email\n",
    "users_without_email = 0  # Contador de usuarios sin email\n",
    "\n",
    "with open('usuarios_cognito.csv', mode='w', newline='') as file:\n",
    "    writer = csv.writer(file)\n",
    "    \n",
    "    # Encabezados del archivo CSV\n",
    "    writer.writerow(['Email', 'Total Usuarios sin Email', 'Total Usuarios con Email'])\n",
    "\n",
    "    while True:\n",
    "        if pagination_token:\n",
    "            response = client.list_users(\n",
    "                UserPoolId=user_pool_id,\n",
    "                AttributesToGet=['email'],\n",
    "                PaginationToken=pagination_token\n",
    "            )\n",
    "        else:\n",
    "            response = client.list_users(\n",
    "                UserPoolId=user_pool_id,\n",
    "                AttributesToGet=['email']\n",
    "            )\n",
    "\n",
    "        for user in response['Users']:\n",
    "            total_users += 1  # Contamos el usuario\n",
    "            found_email = False  # Variable para controlar si encontramos un email\n",
    "\n",
    "            for attribute in user['Attributes']:\n",
    "                if attribute['Name'] == 'email':\n",
    "                    writer.writerow([attribute['Value'], '', ''])  # Escribir email\n",
    "                    users_with_email += 1\n",
    "                    found_email = True\n",
    "                    break\n",
    "\n",
    "            if not found_email:\n",
    "                users_without_email += 1\n",
    "\n",
    "        pagination_token = response.get('PaginationToken')\n",
    "\n",
    "        if not pagination_token:\n",
    "            break\n",
    "\n",
    "    # Agregar fila final con los totales\n",
    "    writer.writerow(['', users_without_email, users_with_email])\n",
    "\n",
    "print(f\"Total usuarios procesados: {total_users}\")\n",
    "print(f\"Usuarios con email: {users_with_email}\")\n",
    "print(f\"Usuarios sin email: {users_without_email}\")\n",
    "print(\"Los correos electrónicos se han guardado correctamente en 'usuarios_cognito.csv'.\")\n"
   ]
  }
 ],
 "metadata": {
  "kernelspec": {
   "display_name": "Python 3",
   "language": "python",
   "name": "python3"
  },
  "language_info": {
   "codemirror_mode": {
    "name": "ipython",
    "version": 3
   },
   "file_extension": ".py",
   "mimetype": "text/x-python",
   "name": "python",
   "nbconvert_exporter": "python",
   "pygments_lexer": "ipython3",
   "version": "3.12.6"
  }
 },
 "nbformat": 4,
 "nbformat_minor": 2
}
