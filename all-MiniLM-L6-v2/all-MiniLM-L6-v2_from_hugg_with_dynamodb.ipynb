{
 "cells": [
  {
   "cell_type": "code",
   "execution_count": 1,
   "metadata": {},
   "outputs": [],
   "source": [
    "import ast\n",
    "import boto3\n",
    "import json\n",
    "import math\n",
    "import numpy as np\n",
    "import os\n",
    "import pandas as pd\n",
    "import requests\n",
    "import time\n",
    "import torch\n",
    "import torch.nn.functional as F\n",
    "\n",
    "from botocore.exceptions import ClientError\n",
    "from decimal import Decimal\n",
    "from dotenv import load_dotenv\n",
    "from sklearn.metrics.pairwise import cosine_similarity\n",
    "from transformers import AutoTokenizer, AutoModel\n",
    "#from torch.nn.functional import cosine_similarity"
   ]
  },
  {
   "cell_type": "code",
   "execution_count": 2,
   "metadata": {},
   "outputs": [],
   "source": [
    "# uploading the environment variables and get the API key\n",
    "load_dotenv()\n",
    "HUGGINGFACE_API_KEY = os.getenv(\"HUGGINGFACE_API_KEY\")\n",
    "AWS_ACCESS_KEY = os.getenv(\"AWS_ACCESS_KEY\")\n",
    "AWS_SECRET_KEY = os.getenv(\"AWS_SECRET_KEY\")"
   ]
  },
  {
   "cell_type": "markdown",
   "metadata": {},
   "source": [
    "### User Preferences from DynamoDB"
   ]
  },
  {
   "cell_type": "code",
   "execution_count": 9,
   "metadata": {},
   "outputs": [],
   "source": [
    "# To get the info from DynamoDB, user preferences\n",
    "CONFIG = {\n",
    "    'aws': {\n",
    "        'access_key': AWS_ACCESS_KEY,\n",
    "        'secret_key': AWS_SECRET_KEY,\n",
    "        'region': 'eu-west-3',\n",
    "        'table': 'User-7kkcm5dn2rb77hst5nh7gbdisa-staging'\n",
    "    },\n",
    "    'columns': ['userId', 'favoriteMoviesIds', 'favoriteGenresIds', 'favoriteSeriesIds'],\n",
    "}\n",
    "\n",
    "# Conexión a DynamoDB\n",
    "session = boto3.Session(\n",
    "    aws_access_key_id=CONFIG['aws']['access_key'],\n",
    "    aws_secret_access_key=CONFIG['aws']['secret_key'],\n",
    "    region_name=CONFIG['aws']['region']\n",
    ")\n",
    "\n",
    "table = session.resource('dynamodb').Table(CONFIG['aws']['table'])\n",
    "\n",
    "# Función para convertir valores de DynamoDB a strings\n",
    "def _process_value(value):\n",
    "    if isinstance(value, Decimal):\n",
    "        return str(int(value))\n",
    "    return str(value)\n",
    "\n",
    "# Consulta DynamoDB y retorna un DataFrame\n",
    "def fetch_preferences():\n",
    "    try:\n",
    "        items = []\n",
    "        start_key = None\n",
    "\n",
    "        while True:\n",
    "            # Ejecutar scan con columnas proyectadas\n",
    "            scan_params = {\n",
    "                'ProjectionExpression': ', '.join(CONFIG['columns'])\n",
    "            }\n",
    "            if start_key:\n",
    "                scan_params['ExclusiveStartKey'] = start_key\n",
    "\n",
    "            response = table.scan(**scan_params)\n",
    "            items.extend(response.get('Items', []))\n",
    "\n",
    "            # Verificar si hay más páginas\n",
    "            start_key = response.get('LastEvaluatedKey')\n",
    "            if not start_key:\n",
    "                break\n",
    "\n",
    "        # Procesar datos extraídos\n",
    "        processed_data = [{\n",
    "            'userId': _process_value(item.get('userId', '')),\n",
    "            'favoriteMoviesIds': ';'.join(map(_process_value, item.get('favoriteMoviesIds', []))),\n",
    "            'favoriteGenresIds': ';'.join(map(_process_value, item.get('favoriteGenresIds', []))),\n",
    "            'favoriteSeriesIds': ';'.join(map(_process_value, item.get('favoriteSeriesIds', [])))\n",
    "        } for item in items]\n",
    "\n",
    "        # Crear DataFrame\n",
    "        df = pd.DataFrame(processed_data)\n",
    "        return df\n",
    "\n",
    "    except ClientError as e:\n",
    "        print(f\"Error al conectar con DynamoDB: {e}\")\n",
    "        return pd.DataFrame()\n",
    "\n",
    "# Llamar a la función para obtener el DataFrame\n",
    "user_pref = fetch_preferences()\n"
   ]
  },
  {
   "cell_type": "code",
   "execution_count": 27,
   "metadata": {},
   "outputs": [
    {
     "name": "stdout",
     "output_type": "stream",
     "text": [
      "Duplicates: 0\n",
      "<class 'pandas.core.frame.DataFrame'>\n",
      "Index: 4552 entries, 0 to 10304\n",
      "Data columns (total 4 columns):\n",
      " #   Column             Non-Null Count  Dtype \n",
      "---  ------             --------------  ----- \n",
      " 0   userId             4552 non-null   object\n",
      " 1   favoriteMoviesIds  4552 non-null   object\n",
      " 2   favoriteGenresIds  4552 non-null   object\n",
      " 3   favoriteSeriesIds  4552 non-null   object\n",
      "dtypes: object(4)\n",
      "memory usage: 177.8+ KB\n"
     ]
    }
   ],
   "source": [
    "# Limpio el dataframe dejando solo users con genero, movie_favs y tvshow_favs\n",
    "user_pref = user_pref[user_pref['userId'].str.len()==36]\n",
    "user_pref = user_pref.replace(\"\",pd.NA)\n",
    "user_pref = user_pref.dropna()\n",
    "print(f'Duplicates: {user_pref.duplicated().sum()}')\n",
    "user_pref.info()"
   ]
  },
  {
   "cell_type": "code",
   "execution_count": 25,
   "metadata": {},
   "outputs": [
    {
     "data": {
      "text/plain": [
       "0"
      ]
     },
     "execution_count": 25,
     "metadata": {},
     "output_type": "execute_result"
    }
   ],
   "source": [
    "#necesito ir a buscar los generos, titulos, y synopsis en la base de Fire Base para crear las sentences\n",
    "# pero primero tengo que conectar con firebase y traerme la info"
   ]
  },
  {
   "cell_type": "markdown",
   "metadata": {},
   "source": [
    "### Content Data from FireBase"
   ]
  },
  {
   "cell_type": "code",
   "execution_count": 28,
   "metadata": {},
   "outputs": [
    {
     "name": "stdout",
     "output_type": "stream",
     "text": [
      "Primeros 10 registros:\n",
      "Clave: 481, Valor: {'additional_fields': {'Cast': ['Maite Sandoval', 'Ana Wagener', 'Manolo Solo', 'Jesús Carroza', 'Juan José Ballesta', 'Julián Villagrán', 'Alba Rodríguez', 'Héctor Mora', 'Vicente Romero'], 'CleanTitle': '7 vírgenes', 'Directors': ['Alberto Rodríguez'], 'Duration': 81.0, 'Genres': ['Drama'], 'Image': ['https://images.eu-west-1.prod.magine.com/vod/spanishflix/752a4b9f-a66e-43bb-90a6-80d546a56979.jpg', 'https://images.eu-west-1.prod.magine.com/vod/spanishflix/e24d97de-c5f1-403f-861a-fe9182630e69.jpg'], 'IsAdult': False, 'PlatformName': 'FlixOlé', 'Rating': 'NR18', 'Type': 'Movie', 'UID': '85234cde21eaf8ab497fa47400868177', 'Year': 2005}, 'content': {'Cast': ['Maite Sandoval', 'Ana Wagener', 'Manolo Solo', 'Jesús Carroza', 'Juan José Ballesta', 'Julián Villagrán', 'Alba Rodríguez', 'Héctor Mora', 'Vicente Romero'], 'CleanTitle': '7 vírgenes', 'CreatedAt': '2025-01-27T00:00:00Z', 'Deeplinks': {'Android': 'https://ver.flixole.com/watch/7df8698e-0196-42af-af58-dbe00fc56deb', 'Web': 'https://ver.flixole.com/watch/7df8698e-0196-42af-af58-dbe00fc56deb', 'iOS': 'https://ver.flixole.com/watch/7df8698e-0196-42af-af58-dbe00fc56deb'}, 'Directors': ['Alberto Rodríguez'], 'Duration': 81.0, 'ExternalIds': [{'ContentType': 'Movie', 'ID': 'tt0461894', 'Provider': 'imdb'}, {'ContentType': 'Movie', 'ID': '481', 'Provider': 'tmdb'}, {'ContentType': 'Movie', 'ID': '41950', 'Provider': 'tvdb'}, {'ContentType': 'Movie', 'ID': '1901446', 'Provider': 'douban'}, {'ContentType': 'Movie', 'ID': '139415', 'Provider': 'kinopoisk'}, {'ContentType': 'Movie', 'ID': '382107', 'Provider': 'senscritique'}, {'ContentType': 'Movie', 'ID': '256128', 'Provider': 'filmweb'}, {'ContentType': 'Movie', 'ID': '67039', 'Provider': 'cineuropa'}, {'ContentType': 'Movie', 'ID': '10.5240/B5E8-B3BB-D7C5-4065-9AF3-D', 'Provider': 'eidr'}], 'FirstDetection': '2022-05-31T20:12:44Z', 'Genres': ['Drama'], 'GenresPlatform': ['Drama'], 'HashUnique': 'd15bab2dea45422806a77bf7b54058b5', 'Id': '7df8698e-0196-42af-af58-dbe00fc56deb', 'Image': ['https://images.eu-west-1.prod.magine.com/vod/spanishflix/752a4b9f-a66e-43bb-90a6-80d546a56979.jpg', 'https://images.eu-west-1.prod.magine.com/vod/spanishflix/e24d97de-c5f1-403f-861a-fe9182630e69.jpg'], 'IsAdult': False, 'IsBranded': False, 'IsExclusive': True, 'IsOriginal': False, 'IsPremium': False, 'NewEntry': False, 'Packages': [{'Type': 'subscription-vod'}], 'PlatformCode': 'ad.flixole', 'PlatformCountry': 'AD', 'PlatformId': 371, 'PlatformName': 'FlixOlé', 'Rating': 'NR18', 'Synopsis': 'Una película de iniciación, con un ritmo trepidante, dirigida por el maestro en el cine de acción Alberto Rodríguez, con un soberbio Juan José Ballesta.  Un recorrido por los bajos fondos de una Sevilla que contradice su aspecto tópico, en una fábula sobre el camino a la madurez de un adolescente que tiene un permiso de 48 horas para salir del reformatorio.  ', 'Title': '7 vírgenes', 'Type': 'Movie', 'UID': '85234cde21eaf8ab497fa47400868177', 'Year': 2005}, 'deeplinks': {'Android': 'https://ver.flixole.com/watch/7df8698e-0196-42af-af58-dbe00fc56deb', 'Web': 'https://ver.flixole.com/watch/7df8698e-0196-42af-af58-dbe00fc56deb', 'iOS': 'https://ver.flixole.com/watch/7df8698e-0196-42af-af58-dbe00fc56deb'}, 'extracted_id': '481', 'file_key': 'Content/latest/ad_flixole.jsonl', 'line_number': 1115, 'processed_at': '2025-01-29T17:55:51.475468', 's3_last_modified': '2025-01-29T13:00:09+00:00'}\n",
      "Clave: 902, Valor: {'additional_fields': {'Cast': ['Daniel Emilfork', 'Dominique Pinon', 'Mapi Galán', 'Mireille Mosse', 'Ron Perlman', 'Geneviève Brunet', 'Jean-Claude Dreyfuss', 'Judith Vittet', 'Serge Merlin'], 'CleanTitle': 'La ciudad de los niños perdidos', 'Directors': ['Marc Caro', 'Jean-Pierre Jeunet'], 'Duration': 108.0, 'Genres': ['Science Fiction', 'Fantasy'], 'Image': ['https://images.eu-west-1.prod.magine.com/i/spanishflix/v/45a696ea-1ec0-4cda-b341-fe5a657e772c.jpg', 'https://images.eu-west-1.prod.magine.com/i/spanishflix/v/47d05fb0-8a95-43a9-83f9-0a838e114604.jpg'], 'IsAdult': False, 'PlatformName': 'FlixOlé', 'Rating': 'NR13', 'Type': 'Movie', 'UID': 'f30c05e2bc84d2d9b85f193ebddb5cf9', 'Year': 1995}, 'content': {'Cast': ['Daniel Emilfork', 'Dominique Pinon', 'Mapi Galán', 'Mireille Mosse', 'Ron Perlman', 'Geneviève Brunet', 'Jean-Claude Dreyfuss', 'Judith Vittet', 'Serge Merlin'], 'CleanTitle': 'La ciudad de los niños perdidos', 'CreatedAt': '2025-01-27T00:00:00Z', 'Deeplinks': {'Android': 'https://ver.flixole.com/watch/85c8acd9-974e-4fe4-96e7-d0b544628414', 'Web': 'https://ver.flixole.com/watch/85c8acd9-974e-4fe4-96e7-d0b544628414', 'iOS': 'https://ver.flixole.com/watch/85c8acd9-974e-4fe4-96e7-d0b544628414'}, 'Directors': ['Marc Caro', 'Jean-Pierre Jeunet'], 'Duration': 108.0, 'ExternalIds': [{'ContentType': 'Movie', 'ID': '902', 'Provider': 'tmdb'}, {'ContentType': 'Movie', 'ID': 'tt0112682', 'Provider': 'imdb'}, {'ContentType': 'Movie', 'ID': '5099', 'Provider': 'tvdb'}, {'ContentType': 'Movie', 'ID': '10.5240/3087-CE40-B822-73E0-AEB6-0', 'Provider': 'eidr'}, {'ContentType': 'Movie', 'ID': '1306450', 'Provider': 'douban'}, {'ContentType': 'Movie', 'ID': '6494', 'Provider': 'kinopoisk'}, {'ContentType': 'Movie', 'ID': '475717', 'Provider': 'senscritique'}, {'ContentType': 'Movie', 'ID': '674', 'Provider': 'filmweb'}, {'ContentType': 'Movie', 'ID': 'm/city_of_lost_children', 'Provider': 'rottentomatoes'}], 'FirstDetection': '2022-05-31T20:12:44Z', 'Genres': ['Science Fiction', 'Fantasy'], 'GenresPlatform': ['Ciencia Ficción', 'Fantástico'], 'HashUnique': '6ab8c001149c125df9100f9ced9bbc6d', 'Id': '85c8acd9-974e-4fe4-96e7-d0b544628414', 'Image': ['https://images.eu-west-1.prod.magine.com/i/spanishflix/v/45a696ea-1ec0-4cda-b341-fe5a657e772c.jpg', 'https://images.eu-west-1.prod.magine.com/i/spanishflix/v/47d05fb0-8a95-43a9-83f9-0a838e114604.jpg'], 'IsAdult': False, 'IsBranded': False, 'IsExclusive': True, 'IsOriginal': False, 'IsPremium': False, 'NewEntry': False, 'Packages': [{'Type': 'subscription-vod'}], 'PlatformCode': 'ad.flixole', 'PlatformCountry': 'AD', 'PlatformId': 371, 'PlatformName': 'FlixOlé', 'Rating': 'NR13', 'Synopsis': 'Sobre una plataforma marina perdida en la niebla, el malvado Krank envejece prematuramente, pues carece de una cualidad esencial: la facultad de soñar. Por esta razón, rapta a los niños de la ciudad para robarles sus sueños. Sus compañeros de infortunio son: Irvin, un cerebro que flota dentro de un acuario, la señorita Bismuth y una banda de clónicos. Al otro lado de la niebla, en la ciudad portuaria, se encuentra One, una fuerza de la naturaleza ingenua, pero extraordinariamente valiente, que busca a su hermano pequeño desaparecido. ', 'Title': 'La ciudad de los niños perdidos', 'Type': 'Movie', 'UID': 'f30c05e2bc84d2d9b85f193ebddb5cf9', 'Year': 1995}, 'deeplinks': {'Android': 'https://ver.flixole.com/watch/85c8acd9-974e-4fe4-96e7-d0b544628414', 'Web': 'https://ver.flixole.com/watch/85c8acd9-974e-4fe4-96e7-d0b544628414', 'iOS': 'https://ver.flixole.com/watch/85c8acd9-974e-4fe4-96e7-d0b544628414'}, 'extracted_id': '902', 'file_key': 'Content/latest/ad_flixole.jsonl', 'line_number': 1185, 'processed_at': '2025-01-29T17:55:57.760953', 's3_last_modified': '2025-01-29T13:00:09+00:00'}\n",
      "Clave: 986, Valor: {'additional_fields': {'Cast': ['Norman Rodway', 'Keith Baxter', 'Orson Welles', 'Jeanne Moreau', 'Marina Vlady', 'John Gielgud', 'Margaret Rutherford', 'Andrew Faulds', 'Fernando Rey', 'Alan Webb', 'Walter Chiari'], 'CleanTitle': 'Campanadas a medianoche', 'Directors': ['Orson Welles'], 'Duration': 113.0, 'Genres': ['War', 'Comedy', 'Drama'], 'Image': ['https://images.eu-west-1.prod.magine.com/i/spanishflix/v/9df971c2-ea56-48a8-8cff-3896a08aa8fa.jpg', 'https://images.eu-west-1.prod.magine.com/i/spanishflix/v/24380e30-1798-42b4-944e-eb6f971c750d.jpg'], 'IsAdult': False, 'PlatformName': 'FlixOlé', 'Rating': 'NR18', 'Type': 'Movie', 'UID': '23b62caad027d361e41e3556b98ce4d2', 'Year': 1965}, 'content': {'Cast': ['Norman Rodway', 'Keith Baxter', 'Orson Welles', 'Jeanne Moreau', 'Marina Vlady', 'John Gielgud', 'Margaret Rutherford', 'Andrew Faulds', 'Fernando Rey', 'Alan Webb', 'Walter Chiari'], 'CleanTitle': 'Campanadas a medianoche', 'CreatedAt': '2025-01-27T00:00:00Z', 'Deeplinks': {'Android': 'https://ver.flixole.com/watch/fc7ed144-b780-4a8a-9c7e-138f17fb688b', 'Web': 'https://ver.flixole.com/watch/fc7ed144-b780-4a8a-9c7e-138f17fb688b', 'iOS': 'https://ver.flixole.com/watch/fc7ed144-b780-4a8a-9c7e-138f17fb688b'}, 'Directors': ['Orson Welles'], 'Duration': 113.0, 'ExternalIds': [{'ContentType': 'Movie', 'ID': 'tt0059012', 'Provider': 'imdb'}, {'ContentType': 'Movie', 'ID': '986', 'Provider': 'tmdb'}, {'ContentType': 'Movie', 'ID': '13740', 'Provider': 'tvdb'}, {'ContentType': 'Movie', 'ID': '10.5240/D5FC-B65C-B23F-7239-E828-0', 'Provider': 'eidr'}, {'ContentType': 'Movie', 'ID': '1422308', 'Provider': 'douban'}, {'ContentType': 'Movie', 'ID': '8315', 'Provider': 'kinopoisk'}, {'ContentType': 'Movie', 'ID': '371974', 'Provider': 'senscritique'}, {'ContentType': 'Movie', 'ID': '37355', 'Provider': 'filmweb'}], 'FirstDetection': '2022-05-31T20:12:44Z', 'Genres': ['War', 'Comedy', 'Drama'], 'GenresPlatform': ['Bélico', 'Comedia', 'Drama'], 'HashUnique': '04a808818c6d80f0007cf43031cb1d1d', 'Id': 'fc7ed144-b780-4a8a-9c7e-138f17fb688b', 'Image': ['https://images.eu-west-1.prod.magine.com/i/spanishflix/v/9df971c2-ea56-48a8-8cff-3896a08aa8fa.jpg', 'https://images.eu-west-1.prod.magine.com/i/spanishflix/v/24380e30-1798-42b4-944e-eb6f971c750d.jpg'], 'IsAdult': False, 'IsBranded': False, 'IsExclusive': True, 'IsOriginal': False, 'IsPremium': False, 'NewEntry': False, 'Packages': [{'Type': 'subscription-vod'}], 'PlatformCode': 'ad.flixole', 'PlatformCountry': 'AD', 'PlatformId': 371, 'PlatformName': 'FlixOlé', 'Rating': 'NR18', 'Synopsis': 'Una de las mejores películas de la Historia del Cine, dirigida y protagonizada por Orson Welles junto con Keith Baxter, John Gielgud y Jeanne Moreau, a partir de textos de Shakespeare. Enrique IV siempre se deja acompañar por un bufón ebrio. Un día se convierte en el primer monarca de la dinastía de los Lancaster al arrebatarle el trono a su primo Ricardo II.', 'Title': 'Campanadas a medianoche', 'Type': 'Movie', 'UID': '23b62caad027d361e41e3556b98ce4d2', 'Year': 1965}, 'deeplinks': {'Android': 'https://ver.flixole.com/watch/fc7ed144-b780-4a8a-9c7e-138f17fb688b', 'Web': 'https://ver.flixole.com/watch/fc7ed144-b780-4a8a-9c7e-138f17fb688b', 'iOS': 'https://ver.flixole.com/watch/fc7ed144-b780-4a8a-9c7e-138f17fb688b'}, 'extracted_id': '986', 'file_key': 'Content/latest/ad_flixole.jsonl', 'line_number': 2211, 'processed_at': '2025-01-29T17:56:51.740377', 's3_last_modified': '2025-01-29T13:00:09+00:00'}\n",
      "Clave: 1364, Valor: {'additional_fields': {'Cast': ['Paz Vega', 'Tristán Ulloa', 'Elena Anaya', 'Najwa Nimri', 'Javier Cámara', 'Juan Fernández', 'Silvia Llanos', 'Diana Suárez', 'Javier Coromina', 'Daniel Freire', 'Arsenio León'], 'CleanTitle': 'Lucía y el sexo', 'Directors': ['Julio Medem'], 'Duration': 122.0, 'Genres': ['Drama'], 'Image': ['https://images.eu-west-1.prod.magine.com/vod/spanishflix/d14f771d-4f68-4230-b9b4-cc537bbdd146.jpg', 'https://images.eu-west-1.prod.magine.com/vod/spanishflix/d48c80c3-2b57-4ba3-a01d-17e96ee019c6.jpg'], 'IsAdult': False, 'PlatformName': 'FlixOlé', 'Rating': 'NR18', 'Type': 'Movie', 'UID': '0b0709fc3aaf0b23e5ca0527677cf16c', 'Year': 2001}, 'content': {'Cast': ['Paz Vega', 'Tristán Ulloa', 'Elena Anaya', 'Najwa Nimri', 'Javier Cámara', 'Juan Fernández', 'Silvia Llanos', 'Diana Suárez', 'Javier Coromina', 'Daniel Freire', 'Arsenio León'], 'CleanTitle': 'Lucía y el sexo', 'CreatedAt': '2025-01-27T00:00:00Z', 'Deeplinks': {'Android': 'https://ver.flixole.com/watch/6690c180-5ce8-4765-ba21-1ed175b520ef', 'Web': 'https://ver.flixole.com/watch/6690c180-5ce8-4765-ba21-1ed175b520ef', 'iOS': 'https://ver.flixole.com/watch/6690c180-5ce8-4765-ba21-1ed175b520ef'}, 'Directors': ['Julio Medem'], 'Duration': 122.0, 'ExternalIds': [{'ContentType': 'Movie', 'ID': '1364', 'Provider': 'tmdb'}, {'ContentType': 'Movie', 'ID': 'tt0254455', 'Provider': 'imdb'}, {'ContentType': 'Movie', 'ID': '3076', 'Provider': 'tvdb'}, {'ContentType': 'Movie', 'ID': '10.5240/B8F7-E1E9-1921-4D93-6D61-2', 'Provider': 'eidr'}, {'ContentType': 'Movie', 'ID': '1297598', 'Provider': 'douban'}, {'ContentType': 'Movie', 'ID': '744', 'Provider': 'kinopoisk'}, {'ContentType': 'Movie', 'ID': '449661', 'Provider': 'senscritique'}, {'ContentType': 'Movie', 'ID': '34176', 'Provider': 'filmweb'}, {'ContentType': 'Movie', 'ID': 'df7635ac-d244-4c0c-a989-8baa4a191bcd', 'Provider': 'mongrelmedia'}, {'ContentType': 'Movie', 'ID': '23362', 'Provider': 'cineuropa'}, {'ContentType': 'Movie', 'ID': 'm/sex_and_lucia', 'Provider': 'rottentomatoes'}], 'FirstDetection': '2022-05-31T20:12:44Z', 'Genres': ['Drama'], 'GenresPlatform': ['Drama'], 'HashUnique': 'a6a09fd38d60e29eecb722abfc89b702', 'Id': '6690c180-5ce8-4765-ba21-1ed175b520ef', 'Image': ['https://images.eu-west-1.prod.magine.com/vod/spanishflix/d14f771d-4f68-4230-b9b4-cc537bbdd146.jpg', 'https://images.eu-west-1.prod.magine.com/vod/spanishflix/d48c80c3-2b57-4ba3-a01d-17e96ee019c6.jpg'], 'IsAdult': False, 'IsBranded': False, 'IsExclusive': True, 'IsOriginal': False, 'IsPremium': False, 'NewEntry': False, 'Packages': [{'Type': 'subscription-vod'}], 'PlatformCode': 'ad.flixole', 'PlatformCountry': 'AD', 'PlatformId': 371, 'PlatformName': 'FlixOlé', 'Rating': 'NR18', 'Synopsis': 'Un clásico contemporáneo, protagonizado por Paz Vega, Tristán Ulloa y Najwa Nimri, y dirigido por Julio Medem. Lucía trabaja como camarera en Madrid. Cuando su novio desaparece, decide ir a buscarlo a Formentera, donde cree que ha huido. Allí descubre un nuevo tipo de libertad, pero también empieza a reconstruir su historia, muy llena de lugares oscuros.  ', 'Title': 'Lucía y el sexo', 'Type': 'Movie', 'UID': '0b0709fc3aaf0b23e5ca0527677cf16c', 'Year': 2001}, 'deeplinks': {'Android': 'https://ver.flixole.com/watch/6690c180-5ce8-4765-ba21-1ed175b520ef', 'Web': 'https://ver.flixole.com/watch/6690c180-5ce8-4765-ba21-1ed175b520ef', 'iOS': 'https://ver.flixole.com/watch/6690c180-5ce8-4765-ba21-1ed175b520ef'}, 'extracted_id': '1364', 'file_key': 'Content/latest/ad_flixole.jsonl', 'line_number': 896, 'processed_at': '2025-01-29T17:55:39.967000', 's3_last_modified': '2025-01-29T13:00:09+00:00'}\n",
      "Clave: 1414, Valor: {'additional_fields': {'Cast': ['Nancho Novo', 'Fele Martínez', 'Najwa Nimri', 'Maru Valdivieso'], 'CleanTitle': 'Los amantes del Círculo Polar', 'Directors': ['Julio Medem'], 'Duration': 103.0, 'Genres': ['Drama'], 'Image': ['https://images.eu-west-1.prod.magine.com/vod/spanishflix/dc027230-ccd0-4e3c-8104-dd2a11512f64.jpg', 'https://images.eu-west-1.prod.magine.com/i/spanishflix/v/72a25760-c007-4380-85ca-5ea61e530491.jpg'], 'IsAdult': False, 'PlatformName': 'FlixOlé', 'Rating': 'NR12', 'Type': 'Movie', 'UID': '48e91ff40db21d52144d0b26a2a8b19f', 'Year': 1998}, 'content': {'Cast': ['Nancho Novo', 'Fele Martínez', 'Najwa Nimri', 'Maru Valdivieso'], 'CleanTitle': 'Los amantes del Círculo Polar', 'CreatedAt': '2025-01-27T00:00:00Z', 'Deeplinks': {'Android': 'https://ver.flixole.com/watch/dbf07a3b-e4ab-4633-8862-3ce387ae67b5', 'Web': 'https://ver.flixole.com/watch/dbf07a3b-e4ab-4633-8862-3ce387ae67b5', 'iOS': 'https://ver.flixole.com/watch/dbf07a3b-e4ab-4633-8862-3ce387ae67b5'}, 'Directors': ['Julio Medem'], 'Duration': 103.0, 'ExternalIds': [{'ContentType': 'Movie', 'ID': 'tt0133363', 'Provider': 'imdb'}, {'ContentType': 'Movie', 'ID': '1414', 'Provider': 'tmdb'}, {'ContentType': 'Movie', 'ID': '8542', 'Provider': 'tvdb'}, {'ContentType': 'Movie', 'ID': '10.5240/10E0-6AC7-A26C-12AB-9754-8', 'Provider': 'eidr'}, {'ContentType': 'Movie', 'ID': '1307474', 'Provider': 'douban'}, {'ContentType': 'Movie', 'ID': '58524', 'Provider': 'kinopoisk'}, {'ContentType': 'Movie', 'ID': '365602', 'Provider': 'senscritique'}, {'ContentType': 'Movie', 'ID': '891', 'Provider': 'filmweb'}], 'FirstDetection': '2022-05-31T20:12:44Z', 'Genres': ['Drama'], 'GenresPlatform': ['Drama'], 'HashUnique': 'ccf28ee8358614b6ea64c241c72023ed', 'Id': 'dbf07a3b-e4ab-4633-8862-3ce387ae67b5', 'Image': ['https://images.eu-west-1.prod.magine.com/vod/spanishflix/dc027230-ccd0-4e3c-8104-dd2a11512f64.jpg', 'https://images.eu-west-1.prod.magine.com/i/spanishflix/v/72a25760-c007-4380-85ca-5ea61e530491.jpg'], 'IsAdult': False, 'IsBranded': False, 'IsExclusive': True, 'IsOriginal': False, 'IsPremium': False, 'NewEntry': False, 'Packages': [{'Type': 'subscription-vod'}], 'PlatformCode': 'ad.flixole', 'PlatformCountry': 'AD', 'PlatformId': 371, 'PlatformName': 'FlixOlé', 'Rating': 'NR12', 'Synopsis': 'Una película de culto y un drama romántico protagonizado por Fele Martínez, Najwa Nimri y Nancho Novo, dirigido por Julio Medem. Ana y Otto, dos nombres capicúas, se enamoran a los ocho años y se buscan y encuentran hasta los veinticinco. Desde el día que se conocieron, ambos van trazando un círculo mágico que sólo se cerrará en Finlandia, al borde del Círculo Polar. ', 'Title': 'Los amantes del Círculo Polar', 'Type': 'Movie', 'UID': '48e91ff40db21d52144d0b26a2a8b19f', 'Year': 1998}, 'deeplinks': {'Android': 'https://ver.flixole.com/watch/dbf07a3b-e4ab-4633-8862-3ce387ae67b5', 'Web': 'https://ver.flixole.com/watch/dbf07a3b-e4ab-4633-8862-3ce387ae67b5', 'iOS': 'https://ver.flixole.com/watch/dbf07a3b-e4ab-4633-8862-3ce387ae67b5'}, 'extracted_id': '1414', 'file_key': 'Content/latest/ad_flixole.jsonl', 'line_number': 1914, 'processed_at': '2025-01-29T17:56:39.209721', 's3_last_modified': '2025-01-29T13:00:09+00:00'}\n",
      "Clave: 2441, Valor: {'additional_fields': {'Cast': ['Emma Suárez', 'Ana Torrent', 'Karra Elejalde', 'Carmelo Gómez'], 'CleanTitle': 'Vacas', 'Directors': ['Julio Medem'], 'Duration': 92.0, 'Genres': ['Drama'], 'Image': ['https://images.eu-west-1.prod.magine.com/vod/spanishflix/9d9d97ab-9727-4de2-b771-a5de0b2e2c0d.jpg', 'https://images.eu-west-1.prod.magine.com/i/spanishflix/v/e3f63598-74c4-4bc3-841f-6c71d48de345.jpg'], 'IsAdult': False, 'PlatformName': 'FlixOlé', 'Rating': 'NR18', 'Type': 'Movie', 'UID': '1e8d0e3142f2509955437a4446603997', 'Year': 1992}, 'content': {'Cast': ['Emma Suárez', 'Ana Torrent', 'Karra Elejalde', 'Carmelo Gómez'], 'CleanTitle': 'Vacas', 'CreatedAt': '2025-01-27T00:00:00Z', 'Deeplinks': {'Android': 'https://ver.flixole.com/watch/3627a9c9-292b-436a-8355-92871d6a5f67', 'Web': 'https://ver.flixole.com/watch/3627a9c9-292b-436a-8355-92871d6a5f67', 'iOS': 'https://ver.flixole.com/watch/3627a9c9-292b-436a-8355-92871d6a5f67'}, 'Directors': ['Julio Medem'], 'Duration': 92.0, 'ExternalIds': [{'ContentType': 'Movie', 'ID': '2441', 'Provider': 'tmdb'}, {'ContentType': 'Movie', 'ID': 'tt0103186', 'Provider': 'imdb'}, {'ContentType': 'Movie', 'ID': '19296', 'Provider': 'tvdb'}, {'ContentType': 'Movie', 'ID': '10.5240/6F79-A428-CAEE-0DB5-A6A6-3', 'Provider': 'eidr'}, {'ContentType': 'Movie', 'ID': '1296719', 'Provider': 'douban'}, {'ContentType': 'Movie', 'ID': '71118', 'Provider': 'kinopoisk'}, {'ContentType': 'Movie', 'ID': '412212', 'Provider': 'senscritique'}, {'ContentType': 'Movie', 'ID': '121848', 'Provider': 'filmweb'}], 'FirstDetection': '2022-05-31T20:12:44Z', 'Genres': ['Drama'], 'GenresPlatform': ['Drama'], 'HashUnique': '9fb9bedcd0bf212cc702c887c9e58637', 'Id': '3627a9c9-292b-436a-8355-92871d6a5f67', 'Image': ['https://images.eu-west-1.prod.magine.com/vod/spanishflix/9d9d97ab-9727-4de2-b771-a5de0b2e2c0d.jpg', 'https://images.eu-west-1.prod.magine.com/i/spanishflix/v/e3f63598-74c4-4bc3-841f-6c71d48de345.jpg'], 'IsAdult': False, 'IsBranded': False, 'IsExclusive': True, 'IsOriginal': False, 'IsPremium': False, 'NewEntry': False, 'Packages': [{'Type': 'subscription-vod'}], 'PlatformCode': 'ad.flixole', 'PlatformCountry': 'AD', 'PlatformId': 371, 'PlatformName': 'FlixOlé', 'Rating': 'NR18', 'Synopsis': 'Uno de los debuts más importantes del reciente cine español, protagonizado por Carmelo Gómez, Emma Suárez y Ana Torrent, dirigido por Julio Medem. En 1870, un soldado carlista salva la vida haciéndose pasar por muerto. Descubre que una vaca le ha estado vigilando y esa imagen no lo abandonará durante las tres generaciones de enfrentamientos entre su familia y la rival. ', 'Title': 'Vacas', 'Type': 'Movie', 'UID': '1e8d0e3142f2509955437a4446603997', 'Year': 1992}, 'deeplinks': {'Android': 'https://ver.flixole.com/watch/3627a9c9-292b-436a-8355-92871d6a5f67', 'Web': 'https://ver.flixole.com/watch/3627a9c9-292b-436a-8355-92871d6a5f67', 'iOS': 'https://ver.flixole.com/watch/3627a9c9-292b-436a-8355-92871d6a5f67'}, 'extracted_id': '2441', 'file_key': 'Content/latest/ad_flixole.jsonl', 'line_number': 449, 'processed_at': '2025-01-29T17:55:16.005425', 's3_last_modified': '2025-01-29T13:00:09+00:00'}\n",
      "Clave: 2444, Valor: {'additional_fields': {'Cast': ['María Barranco', 'Carmelo Gómez', 'Emma Suárez', 'Karra Elejalde', 'Nancho Novo'], 'CleanTitle': 'La ardilla roja', 'Directors': ['Julio Medem'], 'Duration': 109.0, 'Genres': ['Comedy', 'Drama', 'Romance', 'Romance'], 'Image': ['https://images.eu-west-1.prod.magine.com/vod/spanishflix/eaf384e6-c219-42f8-8462-0712f308507f.jpg', 'https://images.eu-west-1.prod.magine.com/vod/spanishflix/592cbb05-9def-4a8c-85db-5fb65619080e.jpg'], 'IsAdult': False, 'PlatformName': 'FlixOlé', 'Rating': 'NR18', 'Type': 'Movie', 'UID': '899274e9f94755eb3f268796592c5c84', 'Year': 1993}, 'content': {'Cast': ['María Barranco', 'Carmelo Gómez', 'Emma Suárez', 'Karra Elejalde', 'Nancho Novo'], 'CleanTitle': 'La ardilla roja', 'CreatedAt': '2025-01-27T00:00:00Z', 'Deeplinks': {'Android': 'https://ver.flixole.com/watch/a1fb895f-4eba-4327-abb6-84c6259edf58', 'Web': 'https://ver.flixole.com/watch/a1fb895f-4eba-4327-abb6-84c6259edf58', 'iOS': 'https://ver.flixole.com/watch/a1fb895f-4eba-4327-abb6-84c6259edf58'}, 'Directors': ['Julio Medem'], 'Duration': 109.0, 'ExternalIds': [{'ContentType': 'Movie', 'ID': 'tt0106305', 'Provider': 'imdb'}, {'ContentType': 'Movie', 'ID': '2444', 'Provider': 'tmdb'}, {'ContentType': 'Movie', 'ID': '40709', 'Provider': 'tvdb'}, {'ContentType': 'Movie', 'ID': '10.5240/C467-A80B-EF16-9D4B-CB1C-4', 'Provider': 'eidr'}, {'ContentType': 'Movie', 'ID': '1304830', 'Provider': 'douban'}, {'ContentType': 'Movie', 'ID': '77236', 'Provider': 'kinopoisk'}, {'ContentType': 'Movie', 'ID': '380346', 'Provider': 'senscritique'}, {'ContentType': 'Movie', 'ID': '36715', 'Provider': 'filmweb'}], 'FirstDetection': '2022-05-31T20:12:44Z', 'Genres': ['Comedy', 'Drama', 'Romance', 'Romance'], 'GenresPlatform': ['Comedia', 'Drama', 'Intriga', 'Romance', 'Romántica', 'Thriller'], 'HashUnique': '629b59d93b265231d86683f90064dda5', 'Id': 'a1fb895f-4eba-4327-abb6-84c6259edf58', 'Image': ['https://images.eu-west-1.prod.magine.com/vod/spanishflix/eaf384e6-c219-42f8-8462-0712f308507f.jpg', 'https://images.eu-west-1.prod.magine.com/vod/spanishflix/592cbb05-9def-4a8c-85db-5fb65619080e.jpg'], 'IsAdult': False, 'IsBranded': False, 'IsExclusive': True, 'IsOriginal': False, 'IsPremium': False, 'NewEntry': False, 'Packages': [{'Type': 'subscription-vod'}], 'PlatformCode': 'ad.flixole', 'PlatformCountry': 'AD', 'PlatformId': 371, 'PlatformName': 'FlixOlé', 'Rating': 'NR18', 'Synopsis': 'Un clásico contemporáneo protagonizado por Nancho Novo y Emma Suárez, y dirigida por Julio Medem. Cuando está a punto de suicidarse, Jota presencia el accidente de moto de una joven, quien sufre una amnesia total tras el siniestro. Jota decide inventarse entonces que son pareja, y van a pasar una temporada en un camping llamado La ardilla roja. ', 'Title': 'La ardilla roja', 'Type': 'Movie', 'UID': '899274e9f94755eb3f268796592c5c84', 'Year': 1993}, 'deeplinks': {'Android': 'https://ver.flixole.com/watch/a1fb895f-4eba-4327-abb6-84c6259edf58', 'Web': 'https://ver.flixole.com/watch/a1fb895f-4eba-4327-abb6-84c6259edf58', 'iOS': 'https://ver.flixole.com/watch/a1fb895f-4eba-4327-abb6-84c6259edf58'}, 'extracted_id': '2444', 'file_key': 'Content/latest/ad_flixole.jsonl', 'line_number': 1426, 'processed_at': '2025-01-29T17:56:11.457367', 's3_last_modified': '2025-01-29T13:00:09+00:00'}\n",
      "Clave: 2460, Valor: {'additional_fields': {'Cast': ['Emma Suárez', 'Karra Elejalde', 'Nancho Novo', 'Carmelo Gómez'], 'CleanTitle': 'Tierra', 'Directors': ['Julio Medem'], 'Duration': 125.0, 'Genres': ['Drama'], 'Image': ['https://images.eu-west-1.prod.magine.com/vod/spanishflix/451b7dfa-e263-4735-9b02-740b265c2a47.jpg', 'https://images.eu-west-1.prod.magine.com/i/spanishflix/v/be775035-2ac5-44d7-a356-4dce27f937d8.jpg'], 'IsAdult': False, 'PlatformName': 'FlixOlé', 'Rating': 'NR13', 'Type': 'Movie', 'UID': '5605869e511ed5032f0b57101ba5eba0', 'Year': 1996}, 'content': {'Cast': ['Emma Suárez', 'Karra Elejalde', 'Nancho Novo', 'Carmelo Gómez'], 'CleanTitle': 'Tierra', 'CreatedAt': '2025-01-27T00:00:00Z', 'Deeplinks': {'Android': 'https://ver.flixole.com/watch/96af829a-29fd-4b78-b48a-4e3828b676f2', 'Web': 'https://ver.flixole.com/watch/96af829a-29fd-4b78-b48a-4e3828b676f2', 'iOS': 'https://ver.flixole.com/watch/96af829a-29fd-4b78-b48a-4e3828b676f2'}, 'Directors': ['Julio Medem'], 'Duration': 125.0, 'ExternalIds': [{'ContentType': 'Movie', 'ID': 'tt0117909', 'Provider': 'imdb'}, {'ContentType': 'Movie', 'ID': '2460', 'Provider': 'tmdb'}, {'ContentType': 'Movie', 'ID': '60694', 'Provider': 'tvdb'}, {'ContentType': 'Movie', 'ID': '1302480', 'Provider': 'douban'}, {'ContentType': 'Movie', 'ID': '64099', 'Provider': 'kinopoisk'}, {'ContentType': 'Movie', 'ID': '393385', 'Provider': 'senscritique'}, {'ContentType': 'Movie', 'ID': '97722', 'Provider': 'filmweb'}, {'ContentType': 'Movie', 'ID': '10.5240/E40A-8883-618C-BED7-57CA-L', 'Provider': 'eidr'}], 'FirstDetection': '2022-05-31T20:12:44Z', 'Genres': ['Drama'], 'GenresPlatform': ['Drama'], 'HashUnique': '59ca5ea005f734436b8cac02a7ff0282', 'Id': '96af829a-29fd-4b78-b48a-4e3828b676f2', 'Image': ['https://images.eu-west-1.prod.magine.com/vod/spanishflix/451b7dfa-e263-4735-9b02-740b265c2a47.jpg', 'https://images.eu-west-1.prod.magine.com/i/spanishflix/v/be775035-2ac5-44d7-a356-4dce27f937d8.jpg'], 'IsAdult': False, 'IsBranded': False, 'IsExclusive': True, 'IsOriginal': False, 'IsPremium': False, 'NewEntry': False, 'Packages': [{'Type': 'subscription-vod'}], 'PlatformCode': 'ad.flixole', 'PlatformCountry': 'AD', 'PlatformId': 371, 'PlatformName': 'FlixOlé', 'Rating': 'NR13', 'Synopsis': 'Una de las películas más importantes de la década de los noventa, protagonizada por Carmelo Gómez, Emma Suárez y Silke, dirigido por Julio Medem. A un pueblo remoto de tierra roja llega un hombre para fumigar una plaga de insectos. Allí, bajo un cielo eléctrico, conoce a dos mujeres que le ayudarán a resolver su desdoblamiento de personalidad.', 'Title': 'Tierra', 'Type': 'Movie', 'UID': '5605869e511ed5032f0b57101ba5eba0', 'Year': 1996}, 'deeplinks': {'Android': 'https://ver.flixole.com/watch/96af829a-29fd-4b78-b48a-4e3828b676f2', 'Web': 'https://ver.flixole.com/watch/96af829a-29fd-4b78-b48a-4e3828b676f2', 'iOS': 'https://ver.flixole.com/watch/96af829a-29fd-4b78-b48a-4e3828b676f2'}, 'extracted_id': '2460', 'file_key': 'Content/latest/ad_flixole.jsonl', 'line_number': 1329, 'processed_at': '2025-01-29T17:56:03.656303', 's3_last_modified': '2025-01-29T13:00:09+00:00'}\n",
      "Clave: 2588, Valor: {'additional_fields': {'Cast': ['Bebe Rebolledo', 'Charlotte Rampling', 'Manuela Velles', 'Lluís Homar'], 'CleanTitle': 'Caótica Ana', 'Directors': ['Julio Medem'], 'Duration': 127.0, 'Genres': ['Drama'], 'Image': ['https://images.eu-west-1.prod.magine.com/vod/spanishflix/060cba52-a230-4faf-95e9-f1f6edd38104.jpg', 'https://images.eu-west-1.prod.magine.com/vod/spanishflix/7f949635-c6e8-485a-9820-c53f3167f41e.jpg'], 'IsAdult': False, 'PlatformName': 'FlixOlé', 'Rating': 'NR13', 'Type': 'Movie', 'UID': 'bb5ae327a10ee453c326ce1182525107', 'Year': 2007}, 'content': {'Cast': ['Bebe Rebolledo', 'Charlotte Rampling', 'Manuela Velles', 'Lluís Homar'], 'CleanTitle': 'Caótica Ana', 'CreatedAt': '2025-01-27T00:00:00Z', 'Deeplinks': {'Android': 'https://ver.flixole.com/watch/41bba855-c75a-4d93-b7a5-88271c26110c', 'Web': 'https://ver.flixole.com/watch/41bba855-c75a-4d93-b7a5-88271c26110c', 'iOS': 'https://ver.flixole.com/watch/41bba855-c75a-4d93-b7a5-88271c26110c'}, 'Directors': ['Julio Medem'], 'Duration': 127.0, 'ExternalIds': [{'ContentType': 'Movie', 'ID': 'tt0456340', 'Provider': 'imdb'}, {'ContentType': 'Movie', 'ID': '2588', 'Provider': 'tmdb'}, {'ContentType': 'Movie', 'ID': '26378', 'Provider': 'tvdb'}, {'ContentType': 'Movie', 'ID': '10.5240/E1D3-3190-233F-7398-5FD7-M', 'Provider': 'eidr'}, {'ContentType': 'Movie', 'ID': '1484574', 'Provider': 'douban'}, {'ContentType': 'Movie', 'ID': '220217', 'Provider': 'kinopoisk'}, {'ContentType': 'Movie', 'ID': '412271', 'Provider': 'senscritique'}, {'ContentType': 'Movie', 'ID': '302658', 'Provider': 'filmweb'}, {'ContentType': 'Movie', 'ID': '66100', 'Provider': 'cineuropa'}], 'FirstDetection': '2022-05-31T20:12:44Z', 'Genres': ['Drama'], 'GenresPlatform': ['Drama'], 'HashUnique': 'c055889ae9a57cf95beeb19df4d76a35', 'Id': '41bba855-c75a-4d93-b7a5-88271c26110c', 'Image': ['https://images.eu-west-1.prod.magine.com/vod/spanishflix/060cba52-a230-4faf-95e9-f1f6edd38104.jpg', 'https://images.eu-west-1.prod.magine.com/vod/spanishflix/7f949635-c6e8-485a-9820-c53f3167f41e.jpg'], 'IsAdult': False, 'IsBranded': False, 'IsExclusive': True, 'IsOriginal': False, 'IsPremium': False, 'NewEntry': False, 'Packages': [{'Type': 'subscription-vod'}], 'PlatformCode': 'ad.flixole', 'PlatformCountry': 'AD', 'PlatformId': 371, 'PlatformName': 'FlixOlé', 'Rating': 'NR13', 'Synopsis': 'Protagonizada por Manuela Vellés, Charlotte Rampling y Bebe, y dirigida por Julio Medem. Ana y su mejor amiga comparten el piso que una mecenas de jóvenes talentos tiene en Madrid. En el inmueble se refugian otros aspirantes a artistas, entre ellos un chico saharaui y un anglosajón. Antes de eso, la vida de Ana parecía no tener mucho sentido. ', 'Title': 'Caótica Ana', 'Type': 'Movie', 'UID': 'bb5ae327a10ee453c326ce1182525107', 'Year': 2007}, 'deeplinks': {'Android': 'https://ver.flixole.com/watch/41bba855-c75a-4d93-b7a5-88271c26110c', 'Web': 'https://ver.flixole.com/watch/41bba855-c75a-4d93-b7a5-88271c26110c', 'iOS': 'https://ver.flixole.com/watch/41bba855-c75a-4d93-b7a5-88271c26110c'}, 'extracted_id': '2588', 'file_key': 'Content/latest/ad_flixole.jsonl', 'line_number': 564, 'processed_at': '2025-01-29T17:55:22.326324', 's3_last_modified': '2025-01-29T13:00:09+00:00'}\n",
      "Clave: 3216, Valor: {'additional_fields': {'Cast': ['Craig Hill', 'Paul Naschy', 'Karin Dor', 'Ángel Del Pozo', 'Patty Shepard', 'Michael Renie'], 'CleanTitle': 'Los monstruos del terror', 'Directors': ['Tulio Demicheli'], 'Duration': 82.0, 'Genres': ['Science Fiction', 'Fantasy', 'Horror'], 'Image': ['https://images.eu-west-1.prod.magine.com/vod/spanishflix/2ec1edcb-1934-4237-b76f-d6617a40efed.jpg', 'https://images.eu-west-1.prod.magine.com/i/spanishflix/v/4653b620-70b0-4a90-ac4b-f7fea01726d8.jpg'], 'IsAdult': False, 'PlatformName': 'FlixOlé', 'Rating': 'NR18', 'Type': 'Movie', 'UID': 'f7a702d7504016821163232486ab397e', 'Year': 1970}, 'content': {'Cast': ['Craig Hill', 'Paul Naschy', 'Karin Dor', 'Ángel Del Pozo', 'Patty Shepard', 'Michael Renie'], 'CleanTitle': 'Los monstruos del terror', 'CreatedAt': '2025-01-27T00:00:00Z', 'Deeplinks': {'Android': 'https://ver.flixole.com/watch/fc3f0c70-6cf0-44e5-817b-8b8b64aa00b7', 'Web': 'https://ver.flixole.com/watch/fc3f0c70-6cf0-44e5-817b-8b8b64aa00b7', 'iOS': 'https://ver.flixole.com/watch/fc3f0c70-6cf0-44e5-817b-8b8b64aa00b7'}, 'Directors': ['Tulio Demicheli'], 'Duration': 82.0, 'ExternalIds': [{'ContentType': 'Movie', 'ID': 'tt0064687', 'Provider': 'imdb'}, {'ContentType': 'Movie', 'ID': '3216', 'Provider': 'tmdb'}, {'ContentType': 'Movie', 'ID': '29025', 'Provider': 'tvdb'}, {'ContentType': 'Movie', 'ID': '10.5240/1992-463D-69CE-263E-AC9A-E', 'Provider': 'eidr'}, {'ContentType': 'Movie', 'ID': '3098330', 'Provider': 'douban'}, {'ContentType': 'Movie', 'ID': '59289', 'Provider': 'kinopoisk'}, {'ContentType': 'Movie', 'ID': '239370', 'Provider': 'filmweb'}], 'FirstDetection': '2022-05-31T20:12:44Z', 'Genres': ['Science Fiction', 'Fantasy', 'Horror'], 'GenresPlatform': ['Ciencia Ficción', 'Ciencia-Ficción', 'Fantasía', 'Terror'], 'HashUnique': '70b96f5d879576ab5db40736721b7135', 'Id': 'fc3f0c70-6cf0-44e5-817b-8b8b64aa00b7', 'Image': ['https://images.eu-west-1.prod.magine.com/vod/spanishflix/2ec1edcb-1934-4237-b76f-d6617a40efed.jpg', 'https://images.eu-west-1.prod.magine.com/i/spanishflix/v/4653b620-70b0-4a90-ac4b-f7fea01726d8.jpg'], 'IsAdult': False, 'IsBranded': False, 'IsExclusive': True, 'IsOriginal': False, 'IsPremium': False, 'NewEntry': False, 'Packages': [{'Type': 'subscription-vod'}], 'PlatformCode': 'ad.flixole', 'PlatformCountry': 'AD', 'PlatformId': 371, 'PlatformName': 'FlixOlé', 'Rating': 'NR18', 'Synopsis': 'Una película de culto de fantaterror de serie B, protagonizada por Michael Rennie, Paul Naschy y Patty Shepard, dirigida por Tulio Demicheli. Un extraterrestre viaja a la Tierra para resucitar a un científico y a su ayudante, con la misión de que con ellos se puedan resucitar a los grandes monstruos del planeta: Drácula, el hombre lobo, la momia y Frankenstein.  ', 'Title': 'Los monstruos del terror', 'Type': 'Movie', 'UID': 'f7a702d7504016821163232486ab397e', 'Year': 1970}, 'deeplinks': {'Android': 'https://ver.flixole.com/watch/fc3f0c70-6cf0-44e5-817b-8b8b64aa00b7', 'Web': 'https://ver.flixole.com/watch/fc3f0c70-6cf0-44e5-817b-8b8b64aa00b7', 'iOS': 'https://ver.flixole.com/watch/fc3f0c70-6cf0-44e5-817b-8b8b64aa00b7'}, 'extracted_id': '3216', 'file_key': 'Content/latest/ad_flixole.jsonl', 'line_number': 2207, 'processed_at': '2025-01-29T17:56:51.740029', 's3_last_modified': '2025-01-29T13:00:09+00:00'}\n"
     ]
    }
   ],
   "source": [
    "import requests\n",
    "import json\n",
    "\n",
    "# URL de la base de datos\n",
    "url = \"https://bubbo-dfba0-default-rtdb.europe-west1.firebasedatabase.app/documents/Content_latest_ad_flixole_jsonl.json\"\n",
    "\n",
    "# Realizar la solicitud GET\n",
    "response = requests.get(url)\n",
    "\n",
    "if response.status_code == 200:\n",
    "    # Convertir la respuesta en un diccionario\n",
    "    data = response.json()\n",
    "\n",
    "    # Obtener las primeras 10 claves\n",
    "    first_10 = list(data.items())[:10]  # Extrae los primeros 10 elementos como lista de pares clave-valor\n",
    "\n",
    "    # Mostrar los resultados\n",
    "    print(\"Primeros 10 registros:\")\n",
    "    for key, value in first_10:\n",
    "        print(f\"Clave: {key}, Valor: {value}\")\n",
    "else:\n",
    "    print(f\"Error al acceder a la base de datos: {response.status_code}\")\n"
   ]
  },
  {
   "cell_type": "code",
   "execution_count": 20,
   "metadata": {},
   "outputs": [],
   "source": [
    "# From FireBase\n",
    "# filtered_data = pd.read_csv(r'../../../filtered_data.csv',sep=';')"
   ]
  },
  {
   "cell_type": "markdown",
   "metadata": {},
   "source": [
    "### Sentences for vectorize from 'filtered_data' / AHORA DESDE FIREBASE"
   ]
  },
  {
   "cell_type": "code",
   "execution_count": null,
   "metadata": {},
   "outputs": [],
   "source": [
    "# Making the sentences to embed \n",
    "filtered_data['sentences_to_embed'] = (\n",
    "    filtered_data.CleanTitle.fillna('') +\n",
    "    filtered_data.Synopsis.fillna('') +\n",
    "    filtered_data.Genres.fillna('').apply(\n",
    "        lambda x: ', '.join(ast.literal_eval(x)) if x.startswith('[') and x.endswith(']') else x\n",
    "    )\n",
    ")\n",
    "\n",
    "# Formatting as str-list to send to the model\n",
    "sentences_from_filtered_data = filtered_data.sentences_to_embed.dropna().astype(str).tolist()\n"
   ]
  },
  {
   "cell_type": "code",
   "execution_count": 7,
   "metadata": {},
   "outputs": [],
   "source": [
    "# Since the model on Hugging Face processes only requests that can be completed within 60 seconds, we need to divide the sentences into batches.\n",
    "def split_into_batches(sentences, batch_size):\n",
    "    return [sentences[i:i + batch_size] for i in range(0, len(sentences), batch_size)]\n",
    "\n",
    "# After trying with different values, we've reach the maximum batch size to get response succesfully\n",
    "batches = split_into_batches(sentences_from_filtered_data, 100)"
   ]
  },
  {
   "cell_type": "code",
   "execution_count": null,
   "metadata": {},
   "outputs": [],
   "source": [
    "# Check key availability\n",
    "if HUGGINGFACE_API_KEY is None:\n",
    "    print(\"Error: No se encontró la clave de API de Hugging Face.\")\n",
    "else:\n",
    "    print(\"Clave de API cargada correctamente.\")\n",
    "\n",
    "# Model URL\n",
    "API_URL = \"https://api-inference.huggingface.co/pipeline/feature-extraction/sentence-transformers/all-MiniLM-L6-v2\"\n",
    "\n",
    "# API header and key\n",
    "headers = {\"Authorization\": f\"Bearer {HUGGINGFACE_API_KEY}\"}  \n",
    "\n",
    "# Function to get embeddings from Hugging Face API\n",
    "def get_embeddings_from_api(sentences):\n",
    "    url = API_URL\n",
    "    payload = {\"inputs\": sentences}\n",
    "    \n",
    "    response = requests.post(url, headers=headers, json=payload)\n",
    "    \n",
    "    if response.status_code == 200:\n",
    "        return response.json()\n",
    "    else:\n",
    "        print(f\"Error {response.status_code}: {response.text}\")\n",
    "        return None\n",
    "    \n",
    "\n",
    "# Sequence Batch Processing Process\n",
    "all_embeddings_from_filtered_data = []\n",
    "for batch in batches:\n",
    "    print(f\"Processing batch with {len(batch)} sentences...\")\n",
    "    embeddings = get_embeddings_from_api(batch)\n",
    "    if embeddings:\n",
    "        all_embeddings_from_filtered_data.extend(embeddings)\n",
    "\n",
    "print(\"Embeddings processed successfully:\")\n",
    "print(all_embeddings_from_filtered_data[:2])  "
   ]
  },
  {
   "cell_type": "markdown",
   "metadata": {},
   "source": [
    "### Sentences for vectorize from 'user_preferences' / AHORA DESDE DYNAMODB"
   ]
  },
  {
   "cell_type": "code",
   "execution_count": 9,
   "metadata": {},
   "outputs": [],
   "source": [
    "# Sentences we want to be embedded from user_preferences\n",
    "user_pref['sentences_to_embed'] = (user_pref.TitulosPeliculas.fillna('') +\n",
    "                                   user_pref.TitulosSeries.fillna('') + \n",
    "                                   user_pref.GenerosFavoritos.fillna('') +\n",
    "                                   user_pref.DetallesPeliculas.fillna('') +\n",
    "                                   user_pref.DetallesSeries.fillna(''))\n",
    "\n",
    "# Formatting as str-list to send to the model\n",
    "sentences_from_user_pref = user_pref.sentences_to_embed.dropna().astype(str).tolist()\n",
    "\n",
    "# We split the sentences in batches as we did previously with filtered_data\n",
    "batches_user_pref = split_into_batches(sentences_from_user_pref, 100)"
   ]
  },
  {
   "cell_type": "code",
   "execution_count": null,
   "metadata": {},
   "outputs": [],
   "source": [
    "# Sequence Batch Processing Process\n",
    "all_embeddings_from_user_pref = []\n",
    "for batch in batches_user_pref:\n",
    "    print(f\"Processing batch with {len(batch)} sentences...\")\n",
    "    embeddings = get_embeddings_from_api(batch)\n",
    "    if embeddings:\n",
    "        all_embeddings_from_user_pref.extend(embeddings)\n",
    "\n",
    "print(\"Embeddings processed successfully:\")\n",
    "print(all_embeddings_from_user_pref[:2])  "
   ]
  },
  {
   "cell_type": "markdown",
   "metadata": {},
   "source": [
    "### Similarities"
   ]
  },
  {
   "cell_type": "code",
   "execution_count": 24,
   "metadata": {},
   "outputs": [],
   "source": [
    "# We have to convert the embeddings list to numpy arrays in order to calculate cosine similarities wiht sklearn\n",
    "all_embeddings_from_user_pref_array = np.array(all_embeddings_from_user_pref)\n",
    "all_embeddings_from_filtered_data_array = np.array(all_embeddings_from_filtered_data)\n",
    "\n",
    "user_for_example = 1\n",
    "\n",
    "# Taking first user as example to calculate the cosine_similarity\n",
    "user_embedding_example = all_embeddings_from_user_pref_array[user_for_example].reshape(1, -1)  # Asegurar forma correcta para cosine_similarity\n",
    "\n",
    "# To calculate similarity between the user example embeding and the whole content from filtered data\n",
    "content_similarities = cosine_similarity(user_embedding_example, all_embeddings_from_filtered_data_array).flatten()\n",
    "\n",
    "# Sort indexes by similarity\n",
    "most_similar_indexes = content_similarities.argsort()[::-1]\n",
    "\n",
    "# Top-10\n",
    "topten_most_similar_indexes = most_similar_indexes[:10]"
   ]
  },
  {
   "cell_type": "code",
   "execution_count": null,
   "metadata": {},
   "outputs": [],
   "source": [
    "# To display the most similar indexes and their similarity scores\n",
    "print(\"Most similar indexes:\", most_similar_indexes[:10])\n",
    "print(\"Highest similarities:\", content_similarities[most_similar_indexes[:10]])"
   ]
  },
  {
   "cell_type": "code",
   "execution_count": null,
   "metadata": {},
   "outputs": [],
   "source": [
    "# search most_similar_indexes, and preferences, and get recommendations\n",
    "user_id = user_pref.loc[user_for_example]['userId']\n",
    "movies_preferred = user_pref[user_pref['userId']==user_id]['TitulosPeliculas']\n",
    "series_preferred = user_pref[user_pref['userId']==user_id]['TitulosSeries']\n",
    "\n",
    "# Displaying Preferences & Recommendations\n",
    "print(f'''User {user_id} Preferences:\n",
    "      ''')\n",
    "print(f'''Movies preference:''')\n",
    "for movie in movies_preferred.iloc[0].split(';'):\n",
    "    print(f'      {movie.strip()}')\n",
    "\n",
    "print(f'''TV Shows preference:''')\n",
    "for series in series_preferred.iloc[0].split(';'):\n",
    "    print(f'      {series.strip()}')\n",
    "\n",
    "print(f'''Recomendations for user: {user_id}\n",
    "      ''')\n",
    "\n",
    "recomendations_user = filtered_data.loc[topten_most_similar_indexes]['CleanTitle']\n",
    "for recommendation in recomendations_user:\n",
    "    print(f'      {recommendation}')\n"
   ]
  }
 ],
 "metadata": {
  "kernelspec": {
   "display_name": "Python 3",
   "language": "python",
   "name": "python3"
  },
  "language_info": {
   "codemirror_mode": {
    "name": "ipython",
    "version": 3
   },
   "file_extension": ".py",
   "mimetype": "text/x-python",
   "name": "python",
   "nbconvert_exporter": "python",
   "pygments_lexer": "ipython3",
   "version": "3.12.5"
  }
 },
 "nbformat": 4,
 "nbformat_minor": 2
}
